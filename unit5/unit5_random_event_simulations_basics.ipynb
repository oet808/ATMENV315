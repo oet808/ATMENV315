{
 "cells": [
  {
   "cell_type": "markdown",
   "metadata": {},
   "source": [
    "# Unit 5: Simulation of sampling with replacement\n",
    "\n",
    "## 1 Introduction\n",
    "\n",
    "This notebook simulates the activity from the previous class: \n",
    "\n",
    "Each team was given an envelope with an unknown population of tiles with numbers {1,2,3,4,5,6}.\n",
    "We randomly selected one tile from the population, took note of the number on the tile\n",
    "and returned the tile back into the envelope. This type of repeated sampling from the population is known as \"*sampling with replacement*\".\n",
    "\n",
    "The question of interest: **What is a large enough sample size so that we can distinguish between to different populations?** \n",
    "\n",
    "The experiment was designed to distinguish between two types of populations:\n",
    "\n",
    "1. All numbers are evenly distributed: the probability of the event '*tile shows number x*' is the same for all possible numbers.\n",
    "2. One number has a lower probability than the rest of the numbers.\n",
    "\n",
    "\n",
    "Suprisingly, it takes quite a few samples before the random fluctuations in the relative frequency of each event is reduced. The more samples we have in our data set, the more accurate is the estimated relative frequency for each event.\n",
    "\n"
   ]
  },
  {
   "cell_type": "markdown",
   "metadata": {},
   "source": [
    "## 2. How can we simulate a random process like the sampling from a bag with tiles?\n",
    "\n",
    "First of all, we have to be able to generate random numbers. That's possible with numpy. Numpy can generate discrete (integer) numbers with equal probability within a defined range (e.g. integers 1,2,3,4,5,6).\n",
    "\n",
    "The function that produces evenly (uniformly) distributed integer numbers is\n",
    "*np.random.randint*\n",
    "\n"
   ]
  },
  {
   "cell_type": "code",
   "execution_count": 1,
   "metadata": {},
   "outputs": [
    {
     "name": "stdout",
     "output_type": "stream",
     "text": [
      "Help on built-in function randint:\n",
      "\n",
      "randint(...) method of numpy.random.mtrand.RandomState instance\n",
      "    randint(low, high=None, size=None, dtype=int)\n",
      "    \n",
      "    Return random integers from `low` (inclusive) to `high` (exclusive).\n",
      "    \n",
      "    Return random integers from the \"discrete uniform\" distribution of\n",
      "    the specified dtype in the \"half-open\" interval [`low`, `high`). If\n",
      "    `high` is None (the default), then results are from [0, `low`).\n",
      "    \n",
      "    .. note::\n",
      "        New code should use the ``integers`` method of a ``default_rng()``\n",
      "        instance instead; please see the :ref:`random-quick-start`.\n",
      "    \n",
      "    Parameters\n",
      "    ----------\n",
      "    low : int or array-like of ints\n",
      "        Lowest (signed) integers to be drawn from the distribution (unless\n",
      "        ``high=None``, in which case this parameter is one above the\n",
      "        *highest* such integer).\n",
      "    high : int or array-like of ints, optional\n",
      "        If provided, one above the largest (signed) integer to be drawn\n",
      "        from the distribution (see above for behavior if ``high=None``).\n",
      "        If array-like, must contain integer values\n",
      "    size : int or tuple of ints, optional\n",
      "        Output shape.  If the given shape is, e.g., ``(m, n, k)``, then\n",
      "        ``m * n * k`` samples are drawn.  Default is None, in which case a\n",
      "        single value is returned.\n",
      "    dtype : dtype, optional\n",
      "        Desired dtype of the result. Byteorder must be native.\n",
      "        The default value is int.\n",
      "    \n",
      "        .. versionadded:: 1.11.0\n",
      "    \n",
      "    Returns\n",
      "    -------\n",
      "    out : int or ndarray of ints\n",
      "        `size`-shaped array of random integers from the appropriate\n",
      "        distribution, or a single such random int if `size` not provided.\n",
      "    \n",
      "    See Also\n",
      "    --------\n",
      "    random_integers : similar to `randint`, only for the closed\n",
      "        interval [`low`, `high`], and 1 is the lowest value if `high` is\n",
      "        omitted.\n",
      "    Generator.integers: which should be used for new code.\n",
      "    \n",
      "    Examples\n",
      "    --------\n",
      "    >>> np.random.randint(2, size=10)\n",
      "    array([1, 0, 0, 0, 1, 1, 0, 0, 1, 0]) # random\n",
      "    >>> np.random.randint(1, size=10)\n",
      "    array([0, 0, 0, 0, 0, 0, 0, 0, 0, 0])\n",
      "    \n",
      "    Generate a 2 x 4 array of ints between 0 and 4, inclusive:\n",
      "    \n",
      "    >>> np.random.randint(5, size=(2, 4))\n",
      "    array([[4, 0, 2, 1], # random\n",
      "           [3, 2, 2, 0]])\n",
      "    \n",
      "    Generate a 1 x 3 array with 3 different upper bounds\n",
      "    \n",
      "    >>> np.random.randint(1, [3, 5, 10])\n",
      "    array([2, 2, 9]) # random\n",
      "    \n",
      "    Generate a 1 by 3 array with 3 different lower bounds\n",
      "    \n",
      "    >>> np.random.randint([1, 5, 7], 10)\n",
      "    array([9, 8, 7]) # random\n",
      "    \n",
      "    Generate a 2 by 4 array using broadcasting with dtype of uint8\n",
      "    \n",
      "    >>> np.random.randint([1, 3, 5, 7], [[10], [20]], dtype=np.uint8)\n",
      "    array([[ 8,  6,  9,  7], # random\n",
      "           [ 1, 16,  9, 12]], dtype=uint8)\n",
      "\n"
     ]
    }
   ],
   "source": [
    "import numpy as np\n",
    "import matplotlib.pyplot as plt\n",
    "\n",
    "help(np.random.randint)"
   ]
  },
  {
   "cell_type": "markdown",
   "metadata": {},
   "source": [
    "## 2.1 The basics of working with random numbers\n",
    "\n",
    "In order to simulate the experiment of sampling from the bag of tiles we need a few parameters that control the simulation:\n",
    "\n",
    "* define the 'event space': {1,2,3,4,5,6}, this we do here with the integer variables i1 and i2.\n",
    "* we define a list with the event numbers for the plotting of the results\n",
    "* it is of course a good idea to use a variable that controls the sample size\n"
   ]
  },
  {
   "cell_type": "code",
   "execution_count": 15,
   "metadata": {},
   "outputs": [
    {
     "name": "stdout",
     "output_type": "stream",
     "text": [
      "[4 1 1 3 5 6 1 1 2 6 4 1 3 5 6 4 5 4 5 4 3 6 2 1 2 6 1 6 6 5]\n"
     ]
    }
   ],
   "source": [
    "n=30 # sample size\n",
    "i1 ,i2 = 1, 6+1\n",
    "sample=np.random.randint(i1,i2,size=n)\n",
    "print(sample)"
   ]
  },
  {
   "cell_type": "markdown",
   "metadata": {},
   "source": [
    "## 2.2 Calculate relative frequencies\n",
    "\n",
    "Function ___np.histogram___ allows us to calculate the frequency of events falling into a specific value range.\n",
    "\n",
    "\n",
    "We see here the basic usage, and followed an improved customization of the \n",
    "numerical partition of the event space into proper bins for our discrete events.\n",
    "\n"
   ]
  },
  {
   "cell_type": "code",
   "execution_count": 16,
   "metadata": {},
   "outputs": [
    {
     "name": "stdout",
     "output_type": "stream",
     "text": [
      "frequency of the events\n",
      "tile=1 :7\n",
      "tile=2 :3\n",
      "tile=3 :3\n",
      "tile=4 :5\n",
      "tile=5 :5\n",
      "tile=6 :7\n",
      "----------------\n",
      "checksum : 30\n"
     ]
    }
   ],
   "source": [
    "# our events are the numbers on a dice (or numbers on a tile)\n",
    "event=      [    1,    2,    3,    4,    5,    6    ]\n",
    "\n",
    "\n",
    "# we can get the numerical results\n",
    "count, bin_edges=np.histogram(sample,bins=6)\n",
    "\n",
    "i=0\n",
    "print (\"frequency of the events\")\n",
    "while i<len(count):\n",
    "    print (\"tile=\"+str(event[i])+\" :\"+str(count[i]))\n",
    "    i=i+1\n",
    "print (\"----------------\")\n",
    "print (\"checksum : \"+str(sum(count)))"
   ]
  },
  {
   "cell_type": "code",
   "execution_count": 17,
   "metadata": {},
   "outputs": [],
   "source": [
    "# for the histograms we need the control of the bins\n",
    "event=      [    1,    2,    3,    4,    5,    6    ]\n",
    "# Note the borders for our bins (event ranges)\n",
    "bin_borders=[0.5,  1.5,  2.5,  3.5,  4.5,  5.5,  6.5]\n",
    "# we can get the numerical results\n",
    "count, bin_edges =np.histogram(sample,bins=bin_borders)\n",
    "\n",
    "# convert our event counts in into relative frequencies\n",
    "rel_freq=count/sum(count)\n",
    "\n"
   ]
  },
  {
   "cell_type": "markdown",
   "metadata": {},
   "source": [
    "## 2.3 Text-based summary of the results (e.g. for tables in research reports)"
   ]
  },
  {
   "cell_type": "code",
   "execution_count": 18,
   "metadata": {},
   "outputs": [
    {
     "name": "stdout",
     "output_type": "stream",
     "text": [
      "Relative frequency of the events\n",
      "tile=1 :0.23333333333333334\n",
      "tile=2 :0.1\n",
      "tile=3 :0.1\n",
      "tile=4 :0.16666666666666666\n",
      "tile=5 :0.16666666666666666\n",
      "tile=6 :0.23333333333333334\n",
      "----------------\n",
      "checksum : 1.0\n"
     ]
    }
   ],
   "source": [
    "i=0\n",
    "print (\"Relative frequency of the events\")\n",
    "while i<len(count):\n",
    "    print (\"tile=\"+str(event[i])+\" :\"+str(rel_freq[i]))\n",
    "    i=i+1\n",
    "print (\"----------------\")\n",
    "print (\"checksum : \"+str(sum(rel_freq)))"
   ]
  },
  {
   "cell_type": "markdown",
   "metadata": {},
   "source": [
    "### 2.3.1 We can improve the output by rounding the float numbers.\n",
    "\n",
    "In Python, we can do this with a little help of Google search on examples using f-string formatting of float numbers.\n",
    "Here is the above code with fstring formatting example."
   ]
  },
  {
   "cell_type": "code",
   "execution_count": 19,
   "metadata": {},
   "outputs": [
    {
     "name": "stdout",
     "output_type": "stream",
     "text": [
      "Relative frequency of the events\n",
      "tile=1 : 0.23333333333333334\n",
      "tile=2 : 0.1\n",
      "tile=3 : 0.1\n",
      "tile=4 : 0.16666666666666666\n",
      "tile=5 : 0.16666666666666666\n",
      "tile=6 : 0.23333333333333334\n",
      "----------------\n",
      "checksum : 1.0\n"
     ]
    }
   ],
   "source": [
    "i=0\n",
    "print (\"Relative frequency of the events\")\n",
    "while i<len(count):\n",
    "    print (f\"tile={event[i]} : {rel_freq[i]}\")\n",
    "    i=i+1\n",
    "print (\"----------------\")\n",
    "print (\"checksum : \"+str(sum(rel_freq)))"
   ]
  },
  {
   "cell_type": "markdown",
   "metadata": {},
   "source": [
    "## 2.3.2 Formatting instructions for float values:\n",
    "\n",
    "Now that we have seen how variables can be 'planted' into f-strings and their values gets inserted into the string automatically, we can add formatting instructions. These are a bit cryptic but \n",
    "one can learn from examples.\n",
    "\n",
    "[(See here for some examples)](https://www.pythonmorsels.com/string-formatting/)"
   ]
  },
  {
   "cell_type": "code",
   "execution_count": 20,
   "metadata": {},
   "outputs": [
    {
     "name": "stdout",
     "output_type": "stream",
     "text": [
      "Relative frequency of the events\n",
      "tile=1   : 0.23\n",
      "tile=2   : 0.10\n",
      "tile=3   : 0.10\n",
      "tile=4   : 0.17\n",
      "tile=5   : 0.17\n",
      "tile=6   : 0.23\n",
      "----------------\n",
      "checksum : 1.00\n"
     ]
    }
   ],
   "source": [
    "i=0\n",
    "print (\"Relative frequency of the events\")\n",
    "while i<len(count):\n",
    "    print (f\"tile={event[i]:1d}   : {rel_freq[i]:.2f}\")\n",
    "    i=i+1\n",
    "print (\"----------------\")\n",
    "print (f\"checksum : { sum(rel_freq):.2f}\")"
   ]
  },
  {
   "cell_type": "markdown",
   "metadata": {},
   "source": [
    "## 2.4 Histogram plot \n",
    "\n",
    "Aside from the long parameter list that allows us to adjust the colors of the plot, there is one important optional parameter to switch into the mode showing relative frequencies: *density=True*"
   ]
  },
  {
   "cell_type": "code",
   "execution_count": 21,
   "metadata": {},
   "outputs": [
    {
     "data": {
      "text/plain": [
       "[<matplotlib.lines.Line2D at 0x7fd8c9605ea0>]"
      ]
     },
     "execution_count": 21,
     "metadata": {},
     "output_type": "execute_result"
    },
    {
     "data": {
      "image/png": "[encoded data removed]",
      "text/plain": [
       "<Figure size 640x480 with 1 Axes>"
      ]
     },
     "metadata": {},
     "output_type": "display_data"
    }
   ],
   "source": [
    "plt.hist(sample,bins=bin_borders,rwidth=0.8,lw=2,edgecolor='purple',facecolor='gold',alpha=0.7,density=True)\n",
    "plt.ylabel(\"relative frequency\")\n",
    "plt.xlabel(\"event 'tile shows number #'\")\n",
    "plt.text(0.2,0.175, 'expected value',fontsize=16)\n",
    "plt.plot([0,7],[1/6, 1/6],':',color='black')"
   ]
  },
  {
   "cell_type": "markdown",
   "metadata": {},
   "source": [
    "## 3. Summary\n",
    "\n",
    "* Numpy offers random number generators that produce discrete events (integer numbers) with equal probability (*np.random.randint*). We use the function to simulate the class experiment: 'sampling tiles from an evenlope with even distribution of all numbers'. \n",
    "* Numpy has a function (*np.histogram*) that calculates the frequency of events (integer or real numbers) falling inside a certain bin (range of values)\n"
   ]
  },
  {
   "cell_type": "markdown",
   "metadata": {},
   "source": [
    "## 4. Next steps\n",
    "\n",
    "We cannot simulate the experiment with a population with non-uniform distribution. One solution how we can do this with the same same numpy function will be shown in the next notebook."
   ]
  },
  {
   "cell_type": "markdown",
   "metadata": {},
   "source": [
    "---\n",
    "## 5. Supplementary information: \n",
    "\n",
    "Help on np.histogram "
   ]
  },
  {
   "cell_type": "code",
   "execution_count": 22,
   "metadata": {},
   "outputs": [
    {
     "name": "stdout",
     "output_type": "stream",
     "text": [
      "Help on function histogram in module numpy:\n",
      "\n",
      "histogram(a, bins=10, range=None, normed=None, weights=None, density=None)\n",
      "    Compute the histogram of a dataset.\n",
      "    \n",
      "    Parameters\n",
      "    ----------\n",
      "    a : array_like\n",
      "        Input data. The histogram is computed over the flattened array.\n",
      "    bins : int or sequence of scalars or str, optional\n",
      "        If `bins` is an int, it defines the number of equal-width\n",
      "        bins in the given range (10, by default). If `bins` is a\n",
      "        sequence, it defines a monotonically increasing array of bin edges,\n",
      "        including the rightmost edge, allowing for non-uniform bin widths.\n",
      "    \n",
      "        .. versionadded:: 1.11.0\n",
      "    \n",
      "        If `bins` is a string, it defines the method used to calculate the\n",
      "        optimal bin width, as defined by `histogram_bin_edges`.\n",
      "    \n",
      "    range : (float, float), optional\n",
      "        The lower and upper range of the bins.  If not provided, range\n",
      "        is simply ``(a.min(), a.max())``.  Values outside the range are\n",
      "        ignored. The first element of the range must be less than or\n",
      "        equal to the second. `range` affects the automatic bin\n",
      "        computation as well. While bin width is computed to be optimal\n",
      "        based on the actual data within `range`, the bin count will fill\n",
      "        the entire range including portions containing no data.\n",
      "    normed : bool, optional\n",
      "    \n",
      "        .. deprecated:: 1.6.0\n",
      "    \n",
      "        This is equivalent to the `density` argument, but produces incorrect\n",
      "        results for unequal bin widths. It should not be used.\n",
      "    \n",
      "        .. versionchanged:: 1.15.0\n",
      "            DeprecationWarnings are actually emitted.\n",
      "    \n",
      "    weights : array_like, optional\n",
      "        An array of weights, of the same shape as `a`.  Each value in\n",
      "        `a` only contributes its associated weight towards the bin count\n",
      "        (instead of 1). If `density` is True, the weights are\n",
      "        normalized, so that the integral of the density over the range\n",
      "        remains 1.\n",
      "    density : bool, optional\n",
      "        If ``False``, the result will contain the number of samples in\n",
      "        each bin. If ``True``, the result is the value of the\n",
      "        probability *density* function at the bin, normalized such that\n",
      "        the *integral* over the range is 1. Note that the sum of the\n",
      "        histogram values will not be equal to 1 unless bins of unity\n",
      "        width are chosen; it is not a probability *mass* function.\n",
      "    \n",
      "        Overrides the ``normed`` keyword if given.\n",
      "    \n",
      "    Returns\n",
      "    -------\n",
      "    hist : array\n",
      "        The values of the histogram. See `density` and `weights` for a\n",
      "        description of the possible semantics.\n",
      "    bin_edges : array of dtype float\n",
      "        Return the bin edges ``(length(hist)+1)``.\n",
      "    \n",
      "    \n",
      "    See Also\n",
      "    --------\n",
      "    histogramdd, bincount, searchsorted, digitize, histogram_bin_edges\n",
      "    \n",
      "    Notes\n",
      "    -----\n",
      "    All but the last (righthand-most) bin is half-open.  In other words,\n",
      "    if `bins` is::\n",
      "    \n",
      "      [1, 2, 3, 4]\n",
      "    \n",
      "    then the first bin is ``[1, 2)`` (including 1, but excluding 2) and\n",
      "    the second ``[2, 3)``.  The last bin, however, is ``[3, 4]``, which\n",
      "    *includes* 4.\n",
      "    \n",
      "    \n",
      "    Examples\n",
      "    --------\n",
      "    >>> np.histogram([1, 2, 1], bins=[0, 1, 2, 3])\n",
      "    (array([0, 2, 1]), array([0, 1, 2, 3]))\n",
      "    >>> np.histogram(np.arange(4), bins=np.arange(5), density=True)\n",
      "    (array([0.25, 0.25, 0.25, 0.25]), array([0, 1, 2, 3, 4]))\n",
      "    >>> np.histogram([[1, 2, 1], [1, 0, 1]], bins=[0,1,2,3])\n",
      "    (array([1, 4, 1]), array([0, 1, 2, 3]))\n",
      "    \n",
      "    >>> a = np.arange(5)\n",
      "    >>> hist, bin_edges = np.histogram(a, density=True)\n",
      "    >>> hist\n",
      "    array([0.5, 0. , 0.5, 0. , 0. , 0.5, 0. , 0.5, 0. , 0.5])\n",
      "    >>> hist.sum()\n",
      "    2.4999999999999996\n",
      "    >>> np.sum(hist * np.diff(bin_edges))\n",
      "    1.0\n",
      "    \n",
      "    .. versionadded:: 1.11.0\n",
      "    \n",
      "    Automated Bin Selection Methods example, using 2 peak random data\n",
      "    with 2000 points:\n",
      "    \n",
      "    >>> import matplotlib.pyplot as plt\n",
      "    >>> rng = np.random.RandomState(10)  # deterministic random data\n",
      "    >>> a = np.hstack((rng.normal(size=1000),\n",
      "    ...                rng.normal(loc=5, scale=2, size=1000)))\n",
      "    >>> _ = plt.hist(a, bins='auto')  # arguments are passed to np.histogram\n",
      "    >>> plt.title(\"Histogram with 'auto' bins\")\n",
      "    Text(0.5, 1.0, \"Histogram with 'auto' bins\")\n",
      "    >>> plt.show()\n",
      "\n"
     ]
    }
   ],
   "source": [
    "help(np.histogram)"
   ]
  },
  {
   "cell_type": "code",
   "execution_count": null,
   "metadata": {},
   "outputs": [],
   "source": []
  }
 ],
 "metadata": {
  "kernelspec": {
   "display_name": "Python 3 August 2022 Environment",
   "language": "python",
   "name": "aug22"
  },
  "language_info": {
   "codemirror_mode": {
    "name": "ipython",
    "version": 3
   },
   "file_extension": ".py",
   "mimetype": "text/x-python",
   "name": "python",
   "nbconvert_exporter": "python",
   "pygments_lexer": "ipython3",
   "version": "3.10.5"
  }
 },
 "nbformat": 4,
 "nbformat_minor": 4
}
