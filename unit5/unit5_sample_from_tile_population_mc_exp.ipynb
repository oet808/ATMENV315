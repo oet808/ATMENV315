{
 "cells": [
  {
   "cell_type": "markdown",
   "metadata": {},
   "source": [
    "# Unit 5: Simulation of sampling of tiles \n",
    "\n",
    "### (sampling with replacement)\n",
    "\n",
    "\n",
    "This is also a simulation for rolling six-sided dice.\n",
    "\n",
    "The function we define here in the notebook ___sample_from_population___ is a numerical simulator for drawing randomly from the bag of tiles. The sample size ___n___ can be provided to the function as an argument, and the keyword parameter loaded can be set to either ___True___ or ___False___. See also ___help(sample_from_population)___ for help on how to use the function."
   ]
  },
  {
   "cell_type": "code",
   "execution_count": 8,
   "metadata": {},
   "outputs": [],
   "source": [
    "# -*- coding: utf-8 -*-\n",
    "\"\"\"\n",
    "Created on Mon Feb 20 14:10:29 2017\n",
    "\n",
    "@author: OET\n",
    "\"\"\"\n",
    "import numpy as np\n",
    "def sample_from_population(n, loaded=False):\n",
    "    \"\"\"This function will simulate the tile sampling experiment.\n",
    "    You can also think of it as simulator for rolling a 6-sided.\n",
    "    \n",
    "    Parameters:\n",
    "    -----------\n",
    "    n: int\n",
    "           the number of times to draw a tile from the population (or roll the die)\n",
    "    loaded: bool, optional \n",
    "            (False is default, creating uniform probability for all events)           \n",
    "    Returns:\n",
    "    --------\n",
    "    numpy array\n",
    "        a numpy array with the event numbers\n",
    "           \n",
    "    Examples:\n",
    "    ---------\n",
    "    res = roll_dice(30)\n",
    "    \n",
    "        create a sample of size 30 with equal probability (fair population)\n",
    "    \n",
    "    res= roll_dice(100,loaded=True)\n",
    "        \n",
    "        create a sample of size 100 with uneven probability (population ith one numbern showing up with lower probability than the others):\n",
    "        \n",
    "    Last Update: 2023-03-01 by OET\"\"\"\n",
    "           \n",
    "    if loaded==True:\n",
    "        # loaded dice simulation / tile population with one event having lower probability\n",
    "        population = np.array([1,1,1,1,1,1,\\\n",
    "                               2,2,2,2,2,2,\\\n",
    "                               3,3,3,3,3,3,\\\n",
    "                               4,4,4,        \\\n",
    "                               5,5,5,5,5,5,\\\n",
    "                               6,6,6,6,6,6]) \n",
    "    else:\n",
    "        # fair dice simulation / tile population with uniform (even) probability\n",
    "        population = np.array([1,1,1,1,1,1,\\\n",
    "                               2,2,2,2,2,2,\\\n",
    "                               3,3,3,3,3,3,\\\n",
    "                               4,4,4,4,4,4,\\\n",
    "                               5,5,5,5,5,5,\\\n",
    "                               6,6,6,6,6,6]) \n",
    "    #return events\n",
    "    return population[np.random.randint(0,np.size(population),size=n)]\n"
   ]
  },
  {
   "cell_type": "code",
   "execution_count": 9,
   "metadata": {},
   "outputs": [
    {
     "name": "stdout",
     "output_type": "stream",
     "text": [
      "Help on function sample_from_population in module __main__:\n",
      "\n",
      "sample_from_population(n, loaded=False)\n",
      "    This function will simulate the tile sampling experiment.\n",
      "    You can also think of it as simulator for rolling a 6-sided.\n",
      "    \n",
      "    Parameters:\n",
      "    -----------\n",
      "    n: int\n",
      "           the number of times to draw a tile from the population (or roll the die)\n",
      "    loaded: bool, optional \n",
      "            (False is default, creating uniform probability for all events)           \n",
      "    Returns:\n",
      "    --------\n",
      "    numpy array\n",
      "        a numpy array with the event numbers\n",
      "           \n",
      "    Examples:\n",
      "    ---------\n",
      "    res = roll_dice(30)\n",
      "    \n",
      "        create a sample of size 30 with equal probability (fair population)\n",
      "    \n",
      "    res= roll_dice(100,loaded=True)\n",
      "        \n",
      "        create a sample of size 100 with uneven probability (population ith one numbern showing up with lower probability than the others):\n",
      "        \n",
      "    Last Update: 2023-03-01 by OET\n",
      "\n"
     ]
    }
   ],
   "source": [
    "help(sample_from_population)"
   ]
  },
  {
   "cell_type": "code",
   "execution_count": 10,
   "metadata": {},
   "outputs": [],
   "source": [
    "#  30 trials sampling from the population of tiles / 30 times rolling a 6-sided die \n",
    "events=np.array([1,2,3,4,5,6])\n",
    "n=25\n",
    "nexperiments=100\n",
    "\n",
    "nevents=len(events)\n",
    "hist_fair=np.zeros(shape=[nexperiments,nevents])\n",
    "hist_loaded=np.zeros(shape=[nexperiments,nevents])\n",
    "for i in range(nexperiments):\n",
    "    # store the summary result from one experiment\n",
    "    yfair=sample_from_population(n,loaded=False)\n",
    "    yloaded=sample_from_population(n,loaded=True)\n",
    "    # bin ranges\n",
    "    use_bins=np.arange(0.5,6.5+1,1) # [0.5, 1.5, ... ,6.5]\n",
    "    count_fair,index=np.histogram(yfair,bins=use_bins)\n",
    "    count_loaded,index=np.histogram(yloaded,bins=use_bins)\n",
    "    hist_fair[i,:]=count_fair/n # relative freq\n",
    "    hist_loaded[i,:]=count_loaded/n # relative freq\n",
    "\n"
   ]
  },
  {
   "cell_type": "code",
   "execution_count": 11,
   "metadata": {},
   "outputs": [],
   "source": [
    "# Summary of the Monte_Carlo simulations\n",
    "hist_fair_mean=np.mean(hist_fair,axis=0)\n",
    "hist_loaded_mean=np.mean(hist_loaded,axis=0)"
   ]
  },
  {
   "cell_type": "markdown",
   "metadata": {},
   "source": [
    "### Show one example of the sample histograms \n",
    "\n",
    "Samples were drawn from tile populations: one with a with 'fair' and the other with a 'loaded'\n",
    "population. By the terms 'fair' we mean that the probability the tile showing a number, for example '1' is that same as for any of the other tile numbers. For a 'loaded' tile population we have not equal probability for the events."
   ]
  },
  {
   "cell_type": "code",
   "execution_count": 12,
   "metadata": {},
   "outputs": [
    {
     "data": {
      "image/png": "[encoded data removed]",
      "text/plain": [
       "<Figure size 640x480 with 1 Axes>"
      ]
     },
     "metadata": {},
     "output_type": "display_data"
    }
   ],
   "source": [
    "%matplotlib inline\n",
    "import matplotlib.pyplot as plt\n",
    "plt.bar(events,hist_fair[0,:],color=\"gold\",edgecolor=\"purple\",width=0.5,label='fair')\n",
    "plt.bar(events+0.5,hist_loaded[0,:],color=\"cyan\",edgecolor=\"purple\",width=0.5,label='loaded')\n",
    "plt.legend()\n",
    "plt.ylim([0,0.5])\n",
    "plt.xlim([0.5,7])\n",
    "plt.show()"
   ]
  },
  {
   "cell_type": "markdown",
   "metadata": {},
   "source": [
    "### Repeated simulation of the 'class' activity experiment\n",
    "\n",
    "With Python we can simulate the sampling with replacement, many times. \n",
    "So, instead of just doing one experiment with drawing for example ___n___ (25) tiles, we can do this many more times, each time we save the results of the histogram calculation.\n",
    "Then, we look at the average results. The average relative frequency for the six events is plotted for ___nexperiment___ (100) repetitions."
   ]
  },
  {
   "cell_type": "code",
   "execution_count": 13,
   "metadata": {},
   "outputs": [
    {
     "data": {
      "image/png": "[encoded data removed]",
      "text/plain": [
       "<Figure size 640x480 with 1 Axes>"
      ]
     },
     "metadata": {},
     "output_type": "display_data"
    }
   ],
   "source": [
    "%matplotlib inline\n",
    "import matplotlib.pyplot as plt\n",
    "plt.bar(events,hist_fair_mean,color=\"gold\",edgecolor=\"purple\",width=0.5,label='fair')\n",
    "plt.bar(events+0.5,hist_loaded_mean,color=\"cyan\",edgecolor=\"purple\",width=0.5,label='loaded')\n",
    "plt.legend()\n",
    "plt.ylim([0,0.25])\n",
    "plt.xlim([0.5,7])\n",
    "plt.show()"
   ]
  },
  {
   "cell_type": "code",
   "execution_count": 14,
   "metadata": {},
   "outputs": [
    {
     "data": {
      "image/png": "[encoded data removed]",
      "text/plain": [
       "<Figure size 640x480 with 2 Axes>"
      ]
     },
     "metadata": {},
     "output_type": "display_data"
    }
   ],
   "source": [
    "fig,ax=plt.subplots(2,1,sharex=True)\n",
    "ax[0].set_xlim([0,7])\n",
    "values=[]\n",
    "for i,e in enumerate(events):\n",
    "    values.append(hist_fair[:,i])\n",
    "ax[0].boxplot(values,patch_artist=True)\n",
    "values=[]\n",
    "for i,e in enumerate(events):\n",
    "    values.append(hist_loaded[:,i])\n",
    "ax[1].boxplot(values)  \n",
    "fig.show()"
   ]
  },
  {
   "cell_type": "markdown",
   "metadata": {},
   "source": [
    "---\n",
    "## Optional learning activity \n",
    "\n",
    "### Individual tasks (10 minutes)\n",
    "\n",
    "- 1. Explore the function *sample_from_population* and make sure you understand how the user can change between the two types of populations.\n",
    "- 2. What variable fulfills the equivalent purpose that the envelope had in our real-world experiment?\n",
    "- 3. Which line of code and how exactly do we simulate the physical process of randomly drawing a tile from the envelope?\n",
    "\n",
    "### Team discussion: (5+10 minutes)\n",
    "\n",
    "Discuss the answers to the previous questions and help each other to fully understand how the function code works. \n",
    "\n",
    "Next develop a strategy (for code development) for the following problem:\n",
    "### How can you deploy this function to test systematically if your team has chosen a sample size (previous activity with the real tiles) that was 'sufficient' to answer if the population was 'loaded' or 'fair'? Sufficient means you were able to detect with high confidence the event (the tile) that had the lower probability in your population of tiles.\n",
    "\n",
    "\n",
    "### Tip: \n",
    "\n",
    "- You want to repeat the whole experiment, as if we had 10, 20, or 1000 more days and each day we would repeat the sampling-with-replacement experiment with your chosen sample size (e.g. 30+20=50 trials). \n",
    "- You need an objective measure (metric) that allows you quantify your success rate! \n",
    "- Identify the important code structures that will be needed (loops, if-statement, lists, or arrays for data storage)  \n",
    "---\n",
    "\n",
    "(A written summary is recommended for this activity. However, it will not be graded this time, so this time each student is responsible to take their own notes!)\n"
   ]
  },
  {
   "cell_type": "code",
   "execution_count": null,
   "metadata": {},
   "outputs": [],
   "source": []
  }
 ],
 "metadata": {
  "kernelspec": {
   "display_name": "Python 3 August 2022 Environment",
   "language": "python",
   "name": "aug22"
  },
  "language_info": {
   "codemirror_mode": {
    "name": "ipython",
    "version": 3
   },
   "file_extension": ".py",
   "mimetype": "text/x-python",
   "name": "python",
   "nbconvert_exporter": "python",
   "pygments_lexer": "ipython3",
   "version": "3.10.5"
  }
 },
 "nbformat": 4,
 "nbformat_minor": 4
}
