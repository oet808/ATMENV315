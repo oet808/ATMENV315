{
 "cells": [
  {
   "cell_type": "markdown",
   "metadata": {},
   "source": [
    "## 3 Application of quantiative descriptive statistics "
   ]
  },
  {
   "cell_type": "markdown",
   "metadata": {},
   "source": [
    "### 3.1 Creating a 30-yr climatology (temperature climate graph)\n",
    "\n",
    "We continue our work with the data file that contains daily temperature data observed at Albany Airport (KALB):\n",
    "\n",
    "*USW00014735_temp_1950-2021_daily.csv*. \n",
    "\n",
    "Make sure you know where it is located in your folder system. You may have to update the local path string in the code cell (see variable _local_path_)\n",
    "\n",
    " \n"
   ]
  },
  {
   "cell_type": "code",
   "execution_count": null,
   "metadata": {},
   "outputs": [],
   "source": [
    "%matplotlib inline\n",
    "import numpy as np\n",
    "import matplotlib.pyplot as plt\n",
    "# Import the new package Pandas\n",
    "import pandas as pd\n",
    "\n",
    "\n",
    "# Tip: You can change the style of the plots by choosing from \n",
    "# the matplotlib styles. \n",
    "# More help can be found through a quick google search\n",
    "from matplotlib import style \n",
    "style.use('ggplot') #'classic' \n"
   ]
  },
  {
   "cell_type": "markdown",
   "metadata": {},
   "source": [
    "### 3.2 Reading the data and creating a dataframe object\n",
    "\n",
    "Many Python coders use in their code a variable name such as _df_ when they work with a dataframe object. We apply the Pandas function _read_csv()_  to read the data table from the csv file and assign it to the variable df."
   ]
  },
  {
   "cell_type": "code",
   "execution_count": null,
   "metadata": {},
   "outputs": [],
   "source": [
    "local_path='../data/'\n",
    "filename=local_path+'USW00014735_temp_1950-2021_daily.csv'\n",
    "df=pd.read_csv(filename,delimiter=',',skiprows=0)"
   ]
  },
  {
   "cell_type": "code",
   "execution_count": null,
   "metadata": {},
   "outputs": [],
   "source": [
    "df"
   ]
  },
  {
   "cell_type": "markdown",
   "metadata": {},
   "source": [
    "<p style=\"color:gold;background-color:purple;font-size:130%\">\n",
    "    <BR>Task 3.3: Standard statistics for quantitative data samples<BR><BR>\n",
    "\n",
    "</p>"
   ]
  },
  {
   "cell_type": "markdown",
   "metadata": {},
   "source": [
    "#### 3.3.1 Select (subsample the data): climate norm period 1981-2010\n",
    "        \n",
    "In this exercise we make use of the dataframe df and the query function to get the data samples for the period 1981-2010. \n",
    "###### (Note: NOAA updated their climate norm period to 1991-2020. Both periods are okay to use here in this exercise.)\n",
    "\n",
    "- Start working with the dataframe in variable _df_ and apply the query method to select the years 1981-2010 (_df.query()_) \n",
    "        \n",
    "- Assign the result to a new variable (e.g. 'dfclim')"
   ]
  },
  {
   "cell_type": "code",
   "execution_count": null,
   "metadata": {},
   "outputs": [],
   "source": [
    "# get all the data from that fall into the 30 year climate norm period\n",
    "dfclim=df.query(\"year >=1981 and year <= 2010\")\n",
    "dfclim"
   ]
  },
  {
   "cell_type": "markdown",
   "metadata": {},
   "source": [
    "### 3.3.2 Select (subsample the data): month January\n",
    "        \n",
    "Remember that we have to use the numerical values 1.0 to search for the rows \n",
    "that belong to a day in month January.\n",
    "\n",
    "- Start working with the dataframe in variable _dfclim_ and apply the query method to select month (_df.query()_) \n",
    "        \n",
    "- Assign the result to a new variable (e.g. '_dfjan_' or '_dfhelp_')"
   ]
  },
  {
   "cell_type": "code",
   "execution_count": null,
   "metadata": {},
   "outputs": [],
   "source": []
  },
  {
   "cell_type": "markdown",
   "metadata": {},
   "source": [
    "### 3.3.3 Statistical calculations\n",
    "\n",
    "We have extracted (subsampled) the data to the year range 1981-2010, and selected a single month (January). Now, calculate the following statistical values:\n",
    "\n",
    "- mean\n",
    "- median\n",
    "- minimum\n",
    "- maximum\n",
    "- standard deviation\n",
    "- variance\n",
    "\n",
    "\n",
    "(See Reading assignment, there you'll find more information on the definition of these statistical properties)\n",
    "\n",
    "We have several options how to do that. One option is that we go back to the functions that the numpy package provides to us. The advantage of working with the numpy functions is that you can later use the learned methods for all sorts of data.\n",
    "\n",
    "The second option is that we apply Pandas methods. \n"
   ]
  },
  {
   "cell_type": "markdown",
   "metadata": {},
   "source": [
    "#### (A) The Numpy method\n",
    "\n",
    "We can convert the data columns into numpy arrays. \n",
    "Once we have done that you can apply the following numpy functions:\n",
    "\n",
    "- _np.mean()_ \n",
    "- _np.std()_\n",
    "- _np.min()_\n",
    "- _np.max()_\n",
    "        \n",
    "Note, that these functions don't do well when np.nan values are in your data arrays.You can use related functions named _np.nanmean()_  etc., instead. \n",
    "\n"
   ]
  },
  {
   "cell_type": "code",
   "execution_count": null,
   "metadata": {},
   "outputs": [],
   "source": []
  },
  {
   "cell_type": "markdown",
   "metadata": {},
   "source": [
    "#### (B) Direct calculation using the Pandas dataframe method\n"
   ]
  },
  {
   "cell_type": "code",
   "execution_count": null,
   "metadata": {},
   "outputs": [],
   "source": []
  },
  {
   "cell_type": "markdown",
   "metadata": {},
   "source": [
    "#### Calculate the other statistical parameters and assign them to variables. Use print function calls to summarize the results.\n",
    "\n",
    "\n"
   ]
  },
  {
   "cell_type": "markdown",
   "metadata": {},
   "source": [
    "### 3.4 Creating a climate graph for the climate norm period."
   ]
  },
  {
   "cell_type": "code",
   "execution_count": null,
   "metadata": {},
   "outputs": [],
   "source": []
  },
  {
   "cell_type": "code",
   "execution_count": null,
   "metadata": {},
   "outputs": [],
   "source": []
  },
  {
   "cell_type": "markdown",
   "metadata": {},
   "source": [
    "---\n",
    "### Optional code solution (for advanced Python coders):"
   ]
  },
  {
   "cell_type": "code",
   "execution_count": null,
   "metadata": {},
   "outputs": [],
   "source": []
  },
  {
   "cell_type": "markdown",
   "metadata": {},
   "source": [
    "---\n",
    "### References:\n",
    "\n",
    "John Townend “[Practical Statistics for Environmental and Biological Scientists](https://www.wiley.com/en-us/Practical+Statistics+for+Environmental+and+Biological+Scientists-p-9780471496656)” (hereafter “PracStat”)\n",
    "\n",
    "    Chapter 1: 1.1, 1.2, 1.5\n",
    "    Chapter 2: 2.1-2.4\n",
    "    Chapter 5: 5.1-5.7\n",
    "\n",
    "E-book: [Collaborative Statistics](https://open.umn.edu/opentextbooks/textbooks/11) by Barbara Illowsky and Susan Dean\n",
    "\n",
    "    Chapter 1: 1.1, 1.3, 1.4, 1.6\n",
    "    Chapter 2: 2.1-2.9"
   ]
  },
  {
   "cell_type": "markdown",
   "metadata": {},
   "source": [
    "---\n",
    "### Appendix:\n",
    "    "
   ]
  },
  {
   "cell_type": "code",
   "execution_count": null,
   "metadata": {},
   "outputs": [],
   "source": [
    "#To give you an example graph:\n",
    "from IPython.display import Image\n",
    "from IPython.core.display import HTML \n",
    "Image(url= \"http://www.albany-ny.climatemps.com/albany-ny-climate-graph.gif\", width=600)"
   ]
  },
  {
   "cell_type": "markdown",
   "metadata": {},
   "source": [
    "---\n"
   ]
  }
 ],
 "metadata": {
  "kernelspec": {
   "display_name": "Python 3 August 2021 Environment",
   "language": "python",
   "name": "aug21"
  },
  "language_info": {
   "codemirror_mode": {
    "name": "ipython",
    "version": 3
   },
   "file_extension": ".py",
   "mimetype": "text/x-python",
   "name": "python",
   "nbconvert_exporter": "python",
   "pygments_lexer": "ipython3",
   "version": "3.8.10"
  }
 },
 "nbformat": 4,
 "nbformat_minor": 4
}
