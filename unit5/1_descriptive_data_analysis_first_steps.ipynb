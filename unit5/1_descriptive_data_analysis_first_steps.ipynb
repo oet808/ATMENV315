{
 "cells": [
  {
   "cell_type": "markdown",
   "metadata": {},
   "source": [
    "## 1 Application of descriptive statistics using Python"
   ]
  },
  {
   "cell_type": "markdown",
   "metadata": {},
   "source": [
    "## 1.1 Getting ready for the data analysis\n",
    "\n",
    "We will work with a data file that contains daily temperature data observed at Albany Airport (KALB). This data file is part of the [Global Historical Climatology Network daily (GHCNd)](https://www.ncei.noaa.gov/products/land-based-station/global-historical-climatology-network-daily) data base, which includes thousands of meteorological stations from within the US and the rest of the world.\n",
    "\n",
    "### 1.1.1 Download and upload of the data file\n",
    "\n",
    "Download the data file named *USW00014735_temp_1950-2021_daily.csv* from the \n",
    "[Github repository](https://github.com/oet808/ATMENV315/tree/master/data). Upload it to your local data directory in the Jupyterlab. Make sure the file name is correct and ends with '.csv'\n",
    "\n",
    "### 1.1.2 Take a first look at the data in the file:\n",
    "\n",
    "- How many columns with data are in the file?\n",
    "- How many lines (rows) with data are in the file?\n",
    "- Does the file start with comments /text info at the top? If so, how many lines are non-data lines (header lines)?\n",
    "- Is there a line with column names (labels) for each column?\n",
    "- What meteorological data are in the file?\n",
    "\n",
    "\n"
   ]
  },
  {
   "cell_type": "markdown",
   "metadata": {},
   "source": [
    "### 1.1.3 Import of package Pandas\n",
    "\n",
    "Once you have informed yourself about that data file and the structure of the data, let's get to work with the data. In this notebook version (in spring 2022) we will make use of the package Pandas. With Pandas we have new methods and functions available. We will work with a new data type that we will refer to a bit sloppy as 'dataframe'. But at this level it will be sufficient. We just want to distinguish from the regular numpy arrays.\n"
   ]
  },
  {
   "cell_type": "code",
   "execution_count": null,
   "metadata": {},
   "outputs": [],
   "source": [
    "%matplotlib inline\n",
    "\n",
    "import numpy as np\n",
    "import matplotlib.pyplot as plt\n",
    "\n",
    "# Import the new package Pandas\n",
    "import pandas as pd\n",
    "\n",
    "\n",
    "# Tip: You can change the style of the plots by choosing from \n",
    "# the matplotlib styles. \n",
    "# More help can be found through a quick google search\n",
    "from matplotlib import style \n",
    "style.use('ggplot') #'classic' \n"
   ]
  },
  {
   "cell_type": "markdown",
   "metadata": {},
   "source": [
    "## 1.2 Getting familiar with the Pandas class _pandas.core.frame.DataFrame_\n",
    "\n",
    "\n",
    "### 1.2.1 Reading the data and creating a dataframe object\n",
    "\n",
    "Many Python coders use in their code a variable name such as _df_ when they work with a dataframe object. We apply the Pandas function _read_csv()_  to read the data table from the csv file and assign it to the variable df."
   ]
  },
  {
   "cell_type": "code",
   "execution_count": null,
   "metadata": {},
   "outputs": [],
   "source": [
    "local_path='../data/'\n",
    "filename=local_path+'USW00014735_temp_1950-2021_daily.csv'\n",
    "df=pd.read_csv(filename,delimiter=',',skiprows=0)"
   ]
  },
  {
   "cell_type": "code",
   "execution_count": null,
   "metadata": {},
   "outputs": [],
   "source": [
    "print(type(df))"
   ]
  },
  {
   "cell_type": "markdown",
   "metadata": {},
   "source": [
    "### 1.2.2 Visualize the dataframe in the Notebook\n",
    "\n",
    "When you just type in the variable name df and run the cell, you will see the dataframe.\n",
    "Note: This is quite a nice layout. Jupyter does the formatting for our convenience (the print-function in Python does not do the same decent job).\n"
   ]
  },
  {
   "cell_type": "code",
   "execution_count": null,
   "metadata": {},
   "outputs": [],
   "source": [
    "df"
   ]
  },
  {
   "cell_type": "markdown",
   "metadata": {},
   "source": [
    "### 1.2.3 Getting information about the data columns\n",
    "\n",
    "Dataframes have additional attributes that describe the data. They can be accessed using\n",
    "the '_df.something_' where something is a name of the attribute. For example:\n",
    "\n"
   ]
  },
  {
   "cell_type": "code",
   "execution_count": null,
   "metadata": {},
   "outputs": [],
   "source": [
    "df.columns"
   ]
  },
  {
   "cell_type": "code",
   "execution_count": null,
   "metadata": {},
   "outputs": [],
   "source": []
  },
  {
   "cell_type": "markdown",
   "metadata": {},
   "source": [
    "### 1.2.4 Getting data columns from the dataframe _df_\n",
    "\n",
    "Now the cool thing about these column names. We see the column names are strings. These strings we can use to refer to the data columns and get the data from that column."
   ]
  },
  {
   "cell_type": "code",
   "execution_count": null,
   "metadata": {},
   "outputs": [],
   "source": [
    "y=df['avgt'] # get the data column labeled 'avgt' \n",
    "x=df.index # get the counter index \n",
    "# Note a Pandas dataframe has an internal index column\n",
    "# but it can be other types of index values, in general, for examples dates.\n",
    "# (here corresponds to number of days since Jan 1st 1950)\n",
    "y"
   ]
  },
  {
   "cell_type": "code",
   "execution_count": null,
   "metadata": {},
   "outputs": [],
   "source": [
    "plt.plot(x,y)\n",
    "plt.xlabel('days since Jan 1st 1950')\n",
    "plt.ylabel('daily mean temperature [F]')\n",
    "plt.show()\n",
    "# Note avgt and index are not simple numpy arrays "
   ]
  },
  {
   "cell_type": "markdown",
   "metadata": {},
   "source": [
    "### 1.2.5 Practice getting data columns from the dataframe _df_ \n",
    "\n",
    "- Get the daily minimum temperature and plot the time series.\n",
    "- Get the daily maximum temperature and plot the time series.\n",
    "- Get the year data and plot the time series.\n",
    "- Get the month data and plot the time series."
   ]
  },
  {
   "cell_type": "code",
   "execution_count": null,
   "metadata": {},
   "outputs": [],
   "source": [
    "y=df['maxt'] # get the data column labeled 'avgt' \n",
    "x=df.index\n",
    "plt.plot(x,y)\n",
    "plt.show()"
   ]
  },
  {
   "cell_type": "markdown",
   "metadata": {},
   "source": [
    "### 1.3 Getting subsets of data with the query method\n",
    "\n",
    "We demonstrate how we can use data in one column of the dataframe to select subsets of data rows: \n",
    "\n",
    "- select rows for a specific month\n",
    "- select a range of years\n",
    "- select a specific day in a month\n",
    "\n",
    "Ultimately, we want to create a plot like this: 30-year climatology of monthly temperatures similar to this curve in the image below (obtained from [ClimateCharts](https://climatecharts.net/))"
   ]
  },
  {
   "cell_type": "code",
   "execution_count": null,
   "metadata": {},
   "outputs": [],
   "source": [
    "from IPython.display import Image\n",
    "Image(\"https://raw.githubusercontent.com/oet808/ATMENV315/master/unit5/example_climate_chart_glens_falls.png\",width=600)"
   ]
  },
  {
   "cell_type": "markdown",
   "metadata": {},
   "source": [
    "---\n",
    "For this purpose we need to separate the daily data into groups. For each month, we calculate the mean temperature. There several ways to do that, one method is the query method. If you 'push' yourself to comprehend the examples and and pay attention to the syntax within the query string, you have an extremely powerful tool at your hand.\n",
    "The query strings make use of the same syntax rules as Python Boolean expressions.\n",
    "\n",
    "\n",
    "---\n"
   ]
  },
  {
   "cell_type": "markdown",
   "metadata": {},
   "source": [
    "## 1.3 Examples for subsampling data frames using the query method.\n",
    "\n",
    "### 1.3.1 Example: Use the query method to get the data from February\n",
    "\n",
    "Take another look at the CSV file. The column labeled 'month' contains float numbers \n",
    "1.0, 2.0, 3.0 ... 11.0, 12.0.\n",
    "\n",
    "Each represents the calendar months Jan, Feb, Mar, ... , Nov, Dec, respectively.\n",
    "\n",
    "So, we can start a search for the rows (the row index position) where the column 'month' contains the value 2.0.\n",
    "\n",
    "Below is the syntax: \n"
   ]
  },
  {
   "cell_type": "code",
   "execution_count": null,
   "metadata": {},
   "outputs": [],
   "source": [
    "dfq1=df.query(\"month == 2.0\")\n",
    "dfq1"
   ]
  },
  {
   "cell_type": "markdown",
   "metadata": {},
   "source": [
    "Note that we store the resulting data frame in variable _dfg1_. The number of rows has been considerable reduced because all rows that are not month February were dropped.\n"
   ]
  },
  {
   "cell_type": "markdown",
   "metadata": {},
   "source": [
    "### 1.3.2 Example: Use the query method to select a year \n",
    "\n",
    "We can apply the query method now on the datafram _dfq1_ to select the February data from year 1989, for example.\n",
    "\n",
    "\n",
    "\n",
    "\n"
   ]
  },
  {
   "cell_type": "code",
   "execution_count": null,
   "metadata": {},
   "outputs": [],
   "source": [
    "dfq2=dfq1.query(\"year == 1989.0\")\n",
    "dfq2"
   ]
  },
  {
   "cell_type": "markdown",
   "metadata": {},
   "source": [
    "### 1.3.3 Example: Use the query method to select a year range 1989-1993\n",
    "\n",
    "We can apply the query method now on the datafram _dfq1_ to select the February data of the years 1989-1993, for example."
   ]
  },
  {
   "cell_type": "code",
   "execution_count": null,
   "metadata": {},
   "outputs": [],
   "source": [
    "dfq3=dfq1.query(\"year >= 1989.0 and  year <= 1993\") \n",
    "dfq3"
   ]
  },
  {
   "cell_type": "markdown",
   "metadata": {},
   "source": [
    "### 1.3.4 Example: Combining two or more queries in one expression\n",
    "Now let's do  the two steps in one query:\n",
    "\n",
    "We can apply the query method on the original datafram _df_ to select the February data of the years 1989-1993:\n"
   ]
  },
  {
   "cell_type": "code",
   "execution_count": null,
   "metadata": {},
   "outputs": [],
   "source": [
    "dfq4=df.query(\"month == 2.0 and year >=1989 and year <= 1993.0\")\n",
    "dfq4"
   ]
  },
  {
   "cell_type": "markdown",
   "metadata": {},
   "source": [
    "---\n",
    "\n",
    "### References:\n",
    "\n",
    "Links to web pages with examples / tutorials on Pandas dataframes:\n",
    "    \n",
    "- [Pandas quickstart guide](https://pandas.pydata.org/docs/user_guide/10min.html)\n",
    "- [Examples how to apply the query method](https://towardsdatascience.com/10-examples-that-will-make-you-use-pandas-query-function-more-often-a8fb3e9361cb)\n",
    "\n"
   ]
  },
  {
   "cell_type": "markdown",
   "metadata": {},
   "source": [
    "## Notes:\n",
    "\n",
    "### Dealing with dates/ time data to make better time series plots\n",
    "\n",
    "We have a column with time (dates) information in the dataframe. But we cannot use it directly for plotting purposes! The __problem__ is: The values are type string not numerical date time information. \n",
    "\n",
    "Solution to the problem: We can use Pandas package methods to convert the strings in column 'time' into proper _datetime_ objects that are numerical values that can be used in plotting the time series.\n",
    "\n",
    "We do this the following way:\n",
    "\n",
    "`\n",
    "df['time']=pd.to_datetime(df['time'])\n",
    "`\n",
    "\n",
    "We reassign the in dataframe ___df___ column '___time___' with the coverted values that the function call `pd.to_datetime(df['time'])` returns."
   ]
  },
  {
   "cell_type": "code",
   "execution_count": null,
   "metadata": {},
   "outputs": [],
   "source": [
    "df['time']=pd.to_datetime(df['time'])\n",
    "plt.plot(df['time'],y)\n",
    "plt.xlabel('time')\n",
    "plt.ylabel('daily mean temperature [F]')\n",
    "plt.show()\n",
    "# Note avgt and index are not simple numpy arrays "
   ]
  },
  {
   "cell_type": "code",
   "execution_count": null,
   "metadata": {},
   "outputs": [],
   "source": []
  }
 ],
 "metadata": {
  "kernelspec": {
   "display_name": "Python 3 August 2022 Environment",
   "language": "python",
   "name": "aug22"
  },
  "language_info": {
   "codemirror_mode": {
    "name": "ipython",
    "version": 3
   },
   "file_extension": ".py",
   "mimetype": "text/x-python",
   "name": "python",
   "nbconvert_exporter": "python",
   "pygments_lexer": "ipython3",
   "version": "3.10.5"
  }
 },
 "nbformat": 4,
 "nbformat_minor": 4
}
