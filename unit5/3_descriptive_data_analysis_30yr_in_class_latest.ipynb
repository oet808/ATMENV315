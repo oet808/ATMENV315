{
 "cells": [
  {
   "cell_type": "markdown",
   "metadata": {},
   "source": [
    "## 3 Application of quantiative descriptive statistics "
   ]
  },
  {
   "cell_type": "markdown",
   "metadata": {},
   "source": [
    "### 3.1 Creating a 30-yr climatology (temperature climate graph)\n",
    "\n",
    "We continue our work with the data file that contains daily temperature data observed at Albany Airport (KALB):\n",
    "\n",
    "*USW00014735_temp_1950-2021_daily.csv*. \n",
    "\n",
    "Make sure you know where it is located in your folder system. You may have to update the local path string in the code cell (see variable _local_path_)\n",
    "\n",
    " \n"
   ]
  },
  {
   "cell_type": "code",
   "execution_count": 47,
   "metadata": {},
   "outputs": [],
   "source": [
    "%matplotlib inline\n",
    "import numpy as np\n",
    "import matplotlib.pyplot as plt\n",
    "# Import the new package Pandas\n",
    "import pandas as pd\n",
    "\n",
    "# Tip: You can change the style of the plots by choosing from \n",
    "# the matplotlib styles. \n",
    "# More help can be found through a quick google search\n",
    "from matplotlib import style \n",
    "style.use('ggplot') #'classic' \n"
   ]
  },
  {
   "cell_type": "markdown",
   "metadata": {},
   "source": [
    "### 3.2 Reading the data and creating a dataframe object\n",
    "\n",
    "Many Python coders use in their code a variable name such as _df_ when they work with a dataframe object. We apply the Pandas function _read_csv()_  to read the data table from the csv file and assign it to the variable df."
   ]
  },
  {
   "cell_type": "code",
   "execution_count": 48,
   "metadata": {},
   "outputs": [],
   "source": [
    "local_path='../data/'\n",
    "filename=local_path+'USW00014735_temp_1950-2021_daily.csv'\n",
    "df=pd.read_csv(filename,delimiter=',',skiprows=0)"
   ]
  },
  {
   "cell_type": "code",
   "execution_count": 49,
   "metadata": {},
   "outputs": [
    {
     "data": {
      "text/html": [
       "<div>\n",
       "<style scoped>\n",
       "    .dataframe tbody tr th:only-of-type {\n",
       "        vertical-align: middle;\n",
       "    }\n",
       "\n",
       "    .dataframe tbody tr th {\n",
       "        vertical-align: top;\n",
       "    }\n",
       "\n",
       "    .dataframe thead th {\n",
       "        text-align: right;\n",
       "    }\n",
       "</style>\n",
       "<table border=\"1\" class=\"dataframe\">\n",
       "  <thead>\n",
       "    <tr style=\"text-align: right;\">\n",
       "      <th></th>\n",
       "      <th>time</th>\n",
       "      <th>year</th>\n",
       "      <th>month</th>\n",
       "      <th>day</th>\n",
       "      <th>avgt</th>\n",
       "      <th>mint</th>\n",
       "      <th>maxt</th>\n",
       "    </tr>\n",
       "  </thead>\n",
       "  <tbody>\n",
       "    <tr>\n",
       "      <th>0</th>\n",
       "      <td>1950-01-01</td>\n",
       "      <td>1950.0</td>\n",
       "      <td>1.0</td>\n",
       "      <td>1.0</td>\n",
       "      <td>29.5</td>\n",
       "      <td>22.0</td>\n",
       "      <td>37.0</td>\n",
       "    </tr>\n",
       "    <tr>\n",
       "      <th>1</th>\n",
       "      <td>1950-01-02</td>\n",
       "      <td>1950.0</td>\n",
       "      <td>1.0</td>\n",
       "      <td>2.0</td>\n",
       "      <td>35.5</td>\n",
       "      <td>32.0</td>\n",
       "      <td>39.0</td>\n",
       "    </tr>\n",
       "    <tr>\n",
       "      <th>2</th>\n",
       "      <td>1950-01-03</td>\n",
       "      <td>1950.0</td>\n",
       "      <td>1.0</td>\n",
       "      <td>3.0</td>\n",
       "      <td>46.5</td>\n",
       "      <td>38.0</td>\n",
       "      <td>55.0</td>\n",
       "    </tr>\n",
       "    <tr>\n",
       "      <th>3</th>\n",
       "      <td>1950-01-04</td>\n",
       "      <td>1950.0</td>\n",
       "      <td>1.0</td>\n",
       "      <td>4.0</td>\n",
       "      <td>59.5</td>\n",
       "      <td>55.0</td>\n",
       "      <td>64.0</td>\n",
       "    </tr>\n",
       "    <tr>\n",
       "      <th>4</th>\n",
       "      <td>1950-01-05</td>\n",
       "      <td>1950.0</td>\n",
       "      <td>1.0</td>\n",
       "      <td>5.0</td>\n",
       "      <td>49.5</td>\n",
       "      <td>35.0</td>\n",
       "      <td>64.0</td>\n",
       "    </tr>\n",
       "    <tr>\n",
       "      <th>...</th>\n",
       "      <td>...</td>\n",
       "      <td>...</td>\n",
       "      <td>...</td>\n",
       "      <td>...</td>\n",
       "      <td>...</td>\n",
       "      <td>...</td>\n",
       "      <td>...</td>\n",
       "    </tr>\n",
       "    <tr>\n",
       "      <th>26293</th>\n",
       "      <td>2021-12-27</td>\n",
       "      <td>2021.0</td>\n",
       "      <td>12.0</td>\n",
       "      <td>27.0</td>\n",
       "      <td>30.0</td>\n",
       "      <td>26.0</td>\n",
       "      <td>34.0</td>\n",
       "    </tr>\n",
       "    <tr>\n",
       "      <th>26294</th>\n",
       "      <td>2021-12-28</td>\n",
       "      <td>2021.0</td>\n",
       "      <td>12.0</td>\n",
       "      <td>28.0</td>\n",
       "      <td>38.5</td>\n",
       "      <td>31.0</td>\n",
       "      <td>46.0</td>\n",
       "    </tr>\n",
       "    <tr>\n",
       "      <th>26295</th>\n",
       "      <td>2021-12-29</td>\n",
       "      <td>2021.0</td>\n",
       "      <td>12.0</td>\n",
       "      <td>29.0</td>\n",
       "      <td>35.5</td>\n",
       "      <td>33.0</td>\n",
       "      <td>38.0</td>\n",
       "    </tr>\n",
       "    <tr>\n",
       "      <th>26296</th>\n",
       "      <td>2021-12-30</td>\n",
       "      <td>2021.0</td>\n",
       "      <td>12.0</td>\n",
       "      <td>30.0</td>\n",
       "      <td>39.5</td>\n",
       "      <td>35.0</td>\n",
       "      <td>44.0</td>\n",
       "    </tr>\n",
       "    <tr>\n",
       "      <th>26297</th>\n",
       "      <td>2021-12-31</td>\n",
       "      <td>2021.0</td>\n",
       "      <td>12.0</td>\n",
       "      <td>31.0</td>\n",
       "      <td>42.5</td>\n",
       "      <td>38.0</td>\n",
       "      <td>47.0</td>\n",
       "    </tr>\n",
       "  </tbody>\n",
       "</table>\n",
       "<p>26298 rows × 7 columns</p>\n",
       "</div>"
      ],
      "text/plain": [
       "             time    year  month   day  avgt  mint  maxt\n",
       "0      1950-01-01  1950.0    1.0   1.0  29.5  22.0  37.0\n",
       "1      1950-01-02  1950.0    1.0   2.0  35.5  32.0  39.0\n",
       "2      1950-01-03  1950.0    1.0   3.0  46.5  38.0  55.0\n",
       "3      1950-01-04  1950.0    1.0   4.0  59.5  55.0  64.0\n",
       "4      1950-01-05  1950.0    1.0   5.0  49.5  35.0  64.0\n",
       "...           ...     ...    ...   ...   ...   ...   ...\n",
       "26293  2021-12-27  2021.0   12.0  27.0  30.0  26.0  34.0\n",
       "26294  2021-12-28  2021.0   12.0  28.0  38.5  31.0  46.0\n",
       "26295  2021-12-29  2021.0   12.0  29.0  35.5  33.0  38.0\n",
       "26296  2021-12-30  2021.0   12.0  30.0  39.5  35.0  44.0\n",
       "26297  2021-12-31  2021.0   12.0  31.0  42.5  38.0  47.0\n",
       "\n",
       "[26298 rows x 7 columns]"
      ]
     },
     "execution_count": 49,
     "metadata": {},
     "output_type": "execute_result"
    }
   ],
   "source": [
    "df"
   ]
  },
  {
   "cell_type": "markdown",
   "metadata": {},
   "source": [
    "<p style=\"color:gold;background-color:purple;font-size:130%\">\n",
    "    <BR>Task 3.3: Standard statistics for quantitative data samples<BR><BR>\n",
    "\n",
    "</p>"
   ]
  },
  {
   "cell_type": "markdown",
   "metadata": {},
   "source": [
    "#### 3.3.1 Select (subsample the data): climate norm period 1981-2010\n",
    "        \n",
    "In this exercise we make use of the dataframe df and the query function to get the data samples for the period 1981-2010. \n",
    "###### (Note: NOAA updated their climate norm period to 1991-2020. Both periods are okay to use here in this exercise.)\n",
    "\n",
    "- Start working with the dataframe in variable _df_ and apply the query method to select the years 1981-2010 (_df.query()_) \n",
    "        \n",
    "- Assign the result to a new variable (e.g. 'dfclim')"
   ]
  },
  {
   "cell_type": "code",
   "execution_count": 50,
   "metadata": {},
   "outputs": [
    {
     "data": {
      "text/html": [
       "<div>\n",
       "<style scoped>\n",
       "    .dataframe tbody tr th:only-of-type {\n",
       "        vertical-align: middle;\n",
       "    }\n",
       "\n",
       "    .dataframe tbody tr th {\n",
       "        vertical-align: top;\n",
       "    }\n",
       "\n",
       "    .dataframe thead th {\n",
       "        text-align: right;\n",
       "    }\n",
       "</style>\n",
       "<table border=\"1\" class=\"dataframe\">\n",
       "  <thead>\n",
       "    <tr style=\"text-align: right;\">\n",
       "      <th></th>\n",
       "      <th>time</th>\n",
       "      <th>year</th>\n",
       "      <th>month</th>\n",
       "      <th>day</th>\n",
       "      <th>avgt</th>\n",
       "      <th>mint</th>\n",
       "      <th>maxt</th>\n",
       "    </tr>\n",
       "  </thead>\n",
       "  <tbody>\n",
       "    <tr>\n",
       "      <th>11323</th>\n",
       "      <td>1981-01-01</td>\n",
       "      <td>1981.0</td>\n",
       "      <td>1.0</td>\n",
       "      <td>1.0</td>\n",
       "      <td>11.0</td>\n",
       "      <td>1.0</td>\n",
       "      <td>21.0</td>\n",
       "    </tr>\n",
       "    <tr>\n",
       "      <th>11324</th>\n",
       "      <td>1981-01-02</td>\n",
       "      <td>1981.0</td>\n",
       "      <td>1.0</td>\n",
       "      <td>2.0</td>\n",
       "      <td>14.0</td>\n",
       "      <td>1.0</td>\n",
       "      <td>27.0</td>\n",
       "    </tr>\n",
       "    <tr>\n",
       "      <th>11325</th>\n",
       "      <td>1981-01-03</td>\n",
       "      <td>1981.0</td>\n",
       "      <td>1.0</td>\n",
       "      <td>3.0</td>\n",
       "      <td>1.5</td>\n",
       "      <td>-4.0</td>\n",
       "      <td>7.0</td>\n",
       "    </tr>\n",
       "    <tr>\n",
       "      <th>11326</th>\n",
       "      <td>1981-01-04</td>\n",
       "      <td>1981.0</td>\n",
       "      <td>1.0</td>\n",
       "      <td>4.0</td>\n",
       "      <td>-7.5</td>\n",
       "      <td>-13.0</td>\n",
       "      <td>-2.0</td>\n",
       "    </tr>\n",
       "    <tr>\n",
       "      <th>11327</th>\n",
       "      <td>1981-01-05</td>\n",
       "      <td>1981.0</td>\n",
       "      <td>1.0</td>\n",
       "      <td>5.0</td>\n",
       "      <td>5.0</td>\n",
       "      <td>-9.0</td>\n",
       "      <td>19.0</td>\n",
       "    </tr>\n",
       "    <tr>\n",
       "      <th>...</th>\n",
       "      <td>...</td>\n",
       "      <td>...</td>\n",
       "      <td>...</td>\n",
       "      <td>...</td>\n",
       "      <td>...</td>\n",
       "      <td>...</td>\n",
       "      <td>...</td>\n",
       "    </tr>\n",
       "    <tr>\n",
       "      <th>22275</th>\n",
       "      <td>2010-12-27</td>\n",
       "      <td>2010.0</td>\n",
       "      <td>12.0</td>\n",
       "      <td>27.0</td>\n",
       "      <td>17.0</td>\n",
       "      <td>14.0</td>\n",
       "      <td>20.0</td>\n",
       "    </tr>\n",
       "    <tr>\n",
       "      <th>22276</th>\n",
       "      <td>2010-12-28</td>\n",
       "      <td>2010.0</td>\n",
       "      <td>12.0</td>\n",
       "      <td>28.0</td>\n",
       "      <td>24.0</td>\n",
       "      <td>15.0</td>\n",
       "      <td>33.0</td>\n",
       "    </tr>\n",
       "    <tr>\n",
       "      <th>22277</th>\n",
       "      <td>2010-12-29</td>\n",
       "      <td>2010.0</td>\n",
       "      <td>12.0</td>\n",
       "      <td>29.0</td>\n",
       "      <td>31.5</td>\n",
       "      <td>29.0</td>\n",
       "      <td>34.0</td>\n",
       "    </tr>\n",
       "    <tr>\n",
       "      <th>22278</th>\n",
       "      <td>2010-12-30</td>\n",
       "      <td>2010.0</td>\n",
       "      <td>12.0</td>\n",
       "      <td>30.0</td>\n",
       "      <td>24.5</td>\n",
       "      <td>15.0</td>\n",
       "      <td>34.0</td>\n",
       "    </tr>\n",
       "    <tr>\n",
       "      <th>22279</th>\n",
       "      <td>2010-12-31</td>\n",
       "      <td>2010.0</td>\n",
       "      <td>12.0</td>\n",
       "      <td>31.0</td>\n",
       "      <td>35.0</td>\n",
       "      <td>27.0</td>\n",
       "      <td>43.0</td>\n",
       "    </tr>\n",
       "  </tbody>\n",
       "</table>\n",
       "<p>10957 rows × 7 columns</p>\n",
       "</div>"
      ],
      "text/plain": [
       "             time    year  month   day  avgt  mint  maxt\n",
       "11323  1981-01-01  1981.0    1.0   1.0  11.0   1.0  21.0\n",
       "11324  1981-01-02  1981.0    1.0   2.0  14.0   1.0  27.0\n",
       "11325  1981-01-03  1981.0    1.0   3.0   1.5  -4.0   7.0\n",
       "11326  1981-01-04  1981.0    1.0   4.0  -7.5 -13.0  -2.0\n",
       "11327  1981-01-05  1981.0    1.0   5.0   5.0  -9.0  19.0\n",
       "...           ...     ...    ...   ...   ...   ...   ...\n",
       "22275  2010-12-27  2010.0   12.0  27.0  17.0  14.0  20.0\n",
       "22276  2010-12-28  2010.0   12.0  28.0  24.0  15.0  33.0\n",
       "22277  2010-12-29  2010.0   12.0  29.0  31.5  29.0  34.0\n",
       "22278  2010-12-30  2010.0   12.0  30.0  24.5  15.0  34.0\n",
       "22279  2010-12-31  2010.0   12.0  31.0  35.0  27.0  43.0\n",
       "\n",
       "[10957 rows x 7 columns]"
      ]
     },
     "execution_count": 50,
     "metadata": {},
     "output_type": "execute_result"
    }
   ],
   "source": [
    "# get all the data from that fall into the 30 year climate norm period\n",
    "dfclim=df.query(\"year >=1981 and year <= 2010\")\n",
    "dfclim"
   ]
  },
  {
   "cell_type": "markdown",
   "metadata": {},
   "source": [
    "### 3.3.2 Select (subsample the data): month January\n",
    "        \n",
    "Remember that we have to use the numerical values 1.0 to search for the rows \n",
    "that belong to a day in month January.\n",
    "\n",
    "- Start working with the dataframe in variable _dfclim_ and apply the query method to select month (_df.query()_) \n",
    "        \n",
    "- Assign the result to a new variable (e.g. '_dfjan_' or '_dfhelp_')"
   ]
  },
  {
   "cell_type": "code",
   "execution_count": 51,
   "metadata": {},
   "outputs": [],
   "source": [
    "dfjan=dfclim.query(\"month == 1.0\")\n"
   ]
  },
  {
   "cell_type": "markdown",
   "metadata": {},
   "source": [
    "### 3.3.3 Statistical calculations\n",
    "\n",
    "We have extracted (subsampled) the data to the year range 1981-2010, and selected a single month (January). Now, calculate the following statistical values:\n",
    "\n",
    "- mean\n",
    "- median\n",
    "- minimum\n",
    "- maximum\n",
    "- standard deviation\n",
    "- variance\n",
    "\n",
    "\n",
    "(See Reading assignment, there you'll find more information on the definition of these statistical properties)\n",
    "\n",
    "We have several options how to do that. One option is that we go back to the functions that the numpy package provides to us. The advantage of working with the numpy functions is that you can later use the learned methods for all sorts of data.\n",
    "\n",
    "The second option is that we apply Pandas methods. \n"
   ]
  },
  {
   "cell_type": "markdown",
   "metadata": {},
   "source": [
    "#### (A) The Numpy method\n",
    "\n",
    "We can convert the data columns into numpy arrays. \n",
    "Once we have done that you can apply the following numpy functions:\n",
    "\n",
    "- _np.mean()_ \n",
    "- _np.std()_\n",
    "- _np.min()_\n",
    "- _np.max()_\n",
    "        \n",
    "Note, that these functions don't do well when np.nan values are in your data arrays.You can use related functions named _np.nanmean()_  etc., instead. \n",
    "\n"
   ]
  },
  {
   "cell_type": "code",
   "execution_count": 52,
   "metadata": {},
   "outputs": [
    {
     "name": "stdout",
     "output_type": "stream",
     "text": [
      "Mean January daily mean temperature is 22.8 deg F\n",
      "Mean January daily mean temperature is 22.8 deg F\n"
     ]
    }
   ],
   "source": [
    "m1=np.mean(dfjan['avgt'])\n",
    "print(\"Mean January daily mean temperature is \" + \n",
    "      str(round(m1,2))+\" deg F\")\n",
    "print(f\"Mean January daily mean temperature is { m1 } deg F\")"
   ]
  },
  {
   "cell_type": "markdown",
   "metadata": {},
   "source": [
    "#### (B) Direct calculation using the Pandas dataframe method\n"
   ]
  },
  {
   "cell_type": "code",
   "execution_count": 53,
   "metadata": {},
   "outputs": [
    {
     "name": "stdout",
     "output_type": "stream",
     "text": [
      "22.8\n"
     ]
    }
   ],
   "source": [
    "mtest=np.mean(dfjan['avgt'].values)\n",
    "print(mtest)"
   ]
  },
  {
   "cell_type": "code",
   "execution_count": 54,
   "metadata": {},
   "outputs": [
    {
     "name": "stdout",
     "output_type": "stream",
     "text": [
      "month  == 1.0  month Jan \n",
      " temp mean : 22.80 deg F\n",
      "month  == 2.0  month Feb \n",
      " temp mean : 26.13 deg F\n",
      "month  == 3.0  month Mar \n",
      " temp mean : 35.08 deg F\n",
      "month  == 4.0  month Apr \n",
      " temp mean : 47.71 deg F\n",
      "month  == 5.0  month May \n",
      " temp mean : 58.23 deg F\n",
      "month  == 6.0  month Jun \n",
      " temp mean : 67.12 deg F\n",
      "month  == 7.0  month Jul \n",
      " temp mean : 71.66 deg F\n",
      "month  == 8.0  month Aug \n",
      " temp mean : 70.07 deg F\n",
      "month  == 9.0  month Sep \n",
      " temp mean : 61.88 deg F\n",
      "month  == 10.0  month Oct \n",
      " temp mean : 49.82 deg F\n",
      "month  == 11.0  month Nov \n",
      " temp mean : 39.95 deg F\n",
      "month  == 12.0  month Dec \n",
      " temp mean : 28.62 deg F\n"
     ]
    }
   ],
   "source": [
    "# getting a loop over all month\n",
    "avgtlist=[]\n",
    "monthlist=[]\n",
    "smonth=['Jan', 'Feb', 'Mar', 'Apr',\n",
    "        'May', 'Jun', 'Jul', 'Aug',\n",
    "        'Sep', 'Oct', 'Nov','Dec' ]\n",
    "for m in range(12): \n",
    "    print(f\"month  == {m+1}.0  month {smonth[m]} \")\n",
    "    result=dfclim.query(f\"month  == {m+1}.0\")\n",
    "    mavgt=result['avgt'].mean()\n",
    "    print(f\" temp mean : {mavgt:.2f} deg F\")\n",
    "    avgtlist.append(mavgt)\n",
    "    monthlist.append(m+1)\n"
   ]
  },
  {
   "cell_type": "code",
   "execution_count": 56,
   "metadata": {},
   "outputs": [
    {
     "data": {
      "text/plain": [
       "[22.8,\n",
       " 26.132231404958677,\n",
       " 35.075268817204304,\n",
       " 47.70944444444444,\n",
       " 58.23225806451613,\n",
       " 67.125,\n",
       " 71.66182795698924,\n",
       " 70.06881720430107,\n",
       " 61.88444444444445,\n",
       " 49.821505376344085,\n",
       " 39.95166666666667,\n",
       " 28.620430107526882]"
      ]
     },
     "execution_count": 56,
     "metadata": {},
     "output_type": "execute_result"
    }
   ],
   "source": [
    "avgtlist"
   ]
  },
  {
   "cell_type": "markdown",
   "metadata": {},
   "source": [
    "#### Calculate the other statistical parameters and assign them to variables. Use print function calls to summarize the results.\n",
    "\n",
    "\n"
   ]
  },
  {
   "cell_type": "code",
   "execution_count": 57,
   "metadata": {},
   "outputs": [
    {
     "name": "stdout",
     "output_type": "stream",
     "text": [
      "month  == 1.0  month Jan \n",
      " temp  mean, stddev : 22.80, 11.70 deg F\n",
      "month  == 2.0  month Feb \n",
      " temp  mean, stddev : 26.13, 10.05 deg F\n",
      "month  == 3.0  month Mar \n",
      " temp  mean, stddev : 35.08, 10.06 deg F\n",
      "month  == 4.0  month Apr \n",
      " temp  mean, stddev : 47.71, 8.68 deg F\n",
      "month  == 5.0  month May \n",
      " temp  mean, stddev : 58.23, 7.51 deg F\n",
      "month  == 6.0  month Jun \n",
      " temp  mean, stddev : 67.12, 6.51 deg F\n",
      "month  == 7.0  month Jul \n",
      " temp  mean, stddev : 71.66, 5.30 deg F\n",
      "month  == 8.0  month Aug \n",
      " temp  mean, stddev : 70.07, 5.84 deg F\n",
      "month  == 9.0  month Sep \n",
      " temp  mean, stddev : 61.88, 7.17 deg F\n",
      "month  == 10.0  month Oct \n",
      " temp  mean, stddev : 49.82, 7.82 deg F\n",
      "month  == 11.0  month Nov \n",
      " temp  mean, stddev : 39.95, 8.58 deg F\n",
      "month  == 12.0  month Dec \n",
      " temp  mean, stddev : 28.62, 9.65 deg F\n"
     ]
    }
   ],
   "source": [
    "# getting a loop over all month\n",
    "# calculate standard deviation\n",
    "squirrel=np.zeros(shape=[12,2])\n",
    "\n",
    "smonth=['Jan', 'Feb', 'Mar', 'Apr',\n",
    "        'May', 'Jun', 'Jul', 'Aug',\n",
    "        'Sep', 'Oct', 'Nov','Dec' ]\n",
    "for m in range(12): \n",
    "    print(f\"month  == {m+1}.0  month {smonth[m]} \")\n",
    "    result=dfclim.query(f\"month  == {m+1}.0\")\n",
    "    beaver=np.mean(result['avgt'])\n",
    "    chipmunk=np.std(result['avgt'])\n",
    "    print(f\" temp  mean, stddev : {beaver:.2f}, {chipmunk:.2f} deg F\")\n",
    "    squirrel[m,0]=beaver\n",
    "    squirrel[m,1]=chipmunk"
   ]
  },
  {
   "cell_type": "code",
   "execution_count": 58,
   "metadata": {},
   "outputs": [
    {
     "data": {
      "text/plain": [
       "array([[22.8       , 11.69823532],\n",
       "       [26.1322314 , 10.04556855],\n",
       "       [35.07526882, 10.06480246],\n",
       "       [47.70944444,  8.67501327],\n",
       "       [58.23225806,  7.51037506],\n",
       "       [67.125     ,  6.5052703 ],\n",
       "       [71.66182796,  5.29656968],\n",
       "       [70.0688172 ,  5.84196863],\n",
       "       [61.88444444,  7.16899049],\n",
       "       [49.82150538,  7.82406474],\n",
       "       [39.95166667,  8.57779093],\n",
       "       [28.62043011,  9.6534863 ]])"
      ]
     },
     "execution_count": 58,
     "metadata": {},
     "output_type": "execute_result"
    }
   ],
   "source": [
    "squirrel"
   ]
  },
  {
   "cell_type": "markdown",
   "metadata": {},
   "source": [
    "### 3.4 Creating a climate graph for the climate norm period."
   ]
  },
  {
   "cell_type": "code",
   "execution_count": 60,
   "metadata": {},
   "outputs": [
    {
     "data": {
      "image/png": "[encoded data removed]",
      "text/plain": [
       "<Figure size 432x288 with 1 Axes>"
      ]
     },
     "metadata": {},
     "output_type": "display_data"
    }
   ],
   "source": [
    "plt.plot(monthlist,squirrel[:,0],'h-',color='brown',label='daily mean temp')\n",
    "plt.errorbar(monthlist,squirrel[:,0],squirrel[:,1])\n",
    "plt.title(\"Albany 1981-2010 climatology\")\n",
    "plt.xlabel(\"month\")\n",
    "plt.ylabel(\"temperature in F\")\n",
    "plt.xticks(monthlist,smonth)\n",
    "plt.legend()\n",
    "plt.show()"
   ]
  },
  {
   "cell_type": "markdown",
   "metadata": {},
   "source": [
    "### Exporting our numerical results into a CSV file\n",
    "\n",
    "We can save the result of the monthly mean climatology calculation in CSV\n",
    "formatted files, so that we can share the data, and work with the also in Excel spreadsheets for further analysis / additional plotting.\n",
    "\n",
    "Steps:\n",
    "\n",
    "- 1. create a new Pandas dataframe with data columns\n",
    "- 2. use the Pandas dataframe method ___to_csv()___ to save the data in a file\n",
    "\n"
   ]
  },
  {
   "cell_type": "code",
   "execution_count": 70,
   "metadata": {},
   "outputs": [],
   "source": [
    "# Option 1:\n",
    "# start  with an empty dataframe\n",
    "# and fill in the data columns\n",
    "dfnew= pd.DataFrame()\n",
    "dfnew['month']=smonth\n",
    "dfnew['mean']=squirrel[:,0]\n",
    "dfnew['std']=squirrel[:,1]\n",
    "dfnew['note']='Albany daily mean temp 1981-2010'"
   ]
  },
  {
   "cell_type": "code",
   "execution_count": 67,
   "metadata": {},
   "outputs": [],
   "source": [
    "# export the data to a CSV file\n",
    "dfnew.to_csv(\"alb_avgt_clim_1981-2010.csv\")\n"
   ]
  },
  {
   "cell_type": "code",
   "execution_count": 69,
   "metadata": {},
   "outputs": [
    {
     "data": {
      "text/html": [
       "<div>\n",
       "<style scoped>\n",
       "    .dataframe tbody tr th:only-of-type {\n",
       "        vertical-align: middle;\n",
       "    }\n",
       "\n",
       "    .dataframe tbody tr th {\n",
       "        vertical-align: top;\n",
       "    }\n",
       "\n",
       "    .dataframe thead th {\n",
       "        text-align: right;\n",
       "    }\n",
       "</style>\n",
       "<table border=\"1\" class=\"dataframe\">\n",
       "  <thead>\n",
       "    <tr style=\"text-align: right;\">\n",
       "      <th></th>\n",
       "      <th>month</th>\n",
       "      <th>mean</th>\n",
       "      <th>std</th>\n",
       "    </tr>\n",
       "  </thead>\n",
       "  <tbody>\n",
       "    <tr>\n",
       "      <th>0</th>\n",
       "      <td>Jan</td>\n",
       "      <td>22.800000</td>\n",
       "      <td>11.698235</td>\n",
       "    </tr>\n",
       "    <tr>\n",
       "      <th>1</th>\n",
       "      <td>Feb</td>\n",
       "      <td>26.132231</td>\n",
       "      <td>10.045569</td>\n",
       "    </tr>\n",
       "    <tr>\n",
       "      <th>2</th>\n",
       "      <td>Mar</td>\n",
       "      <td>35.075269</td>\n",
       "      <td>10.064802</td>\n",
       "    </tr>\n",
       "    <tr>\n",
       "      <th>3</th>\n",
       "      <td>Apr</td>\n",
       "      <td>47.709444</td>\n",
       "      <td>8.675013</td>\n",
       "    </tr>\n",
       "    <tr>\n",
       "      <th>4</th>\n",
       "      <td>May</td>\n",
       "      <td>58.232258</td>\n",
       "      <td>7.510375</td>\n",
       "    </tr>\n",
       "    <tr>\n",
       "      <th>5</th>\n",
       "      <td>Jun</td>\n",
       "      <td>67.125000</td>\n",
       "      <td>6.505270</td>\n",
       "    </tr>\n",
       "    <tr>\n",
       "      <th>6</th>\n",
       "      <td>Jul</td>\n",
       "      <td>71.661828</td>\n",
       "      <td>5.296570</td>\n",
       "    </tr>\n",
       "    <tr>\n",
       "      <th>7</th>\n",
       "      <td>Aug</td>\n",
       "      <td>70.068817</td>\n",
       "      <td>5.841969</td>\n",
       "    </tr>\n",
       "    <tr>\n",
       "      <th>8</th>\n",
       "      <td>Sep</td>\n",
       "      <td>61.884444</td>\n",
       "      <td>7.168990</td>\n",
       "    </tr>\n",
       "    <tr>\n",
       "      <th>9</th>\n",
       "      <td>Oct</td>\n",
       "      <td>49.821505</td>\n",
       "      <td>7.824065</td>\n",
       "    </tr>\n",
       "    <tr>\n",
       "      <th>10</th>\n",
       "      <td>Nov</td>\n",
       "      <td>39.951667</td>\n",
       "      <td>8.577791</td>\n",
       "    </tr>\n",
       "    <tr>\n",
       "      <th>11</th>\n",
       "      <td>Dec</td>\n",
       "      <td>28.620430</td>\n",
       "      <td>9.653486</td>\n",
       "    </tr>\n",
       "  </tbody>\n",
       "</table>\n",
       "</div>"
      ],
      "text/plain": [
       "   month       mean        std\n",
       "0    Jan  22.800000  11.698235\n",
       "1    Feb  26.132231  10.045569\n",
       "2    Mar  35.075269  10.064802\n",
       "3    Apr  47.709444   8.675013\n",
       "4    May  58.232258   7.510375\n",
       "5    Jun  67.125000   6.505270\n",
       "6    Jul  71.661828   5.296570\n",
       "7    Aug  70.068817   5.841969\n",
       "8    Sep  61.884444   7.168990\n",
       "9    Oct  49.821505   7.824065\n",
       "10   Nov  39.951667   8.577791\n",
       "11   Dec  28.620430   9.653486"
      ]
     },
     "execution_count": 69,
     "metadata": {},
     "output_type": "execute_result"
    }
   ],
   "source": [
    "# Option 2 for creating a dataframe with columns of data\n",
    "# collect all data first in a dictionary\n",
    "# then create a dataframe from the dictionary\n",
    "storage= {'month':smonth,'mean':squirrel[:,0],'std':squirrel[:,1]} \n",
    "dfsummary=pd.DataFrame(storage)\n",
    "dfsummary"
   ]
  },
  {
   "cell_type": "markdown",
   "metadata": {},
   "source": [
    "---\n",
    "### Optional code solution (for advanced Python coders):"
   ]
  },
  {
   "cell_type": "code",
   "execution_count": null,
   "metadata": {},
   "outputs": [],
   "source": []
  },
  {
   "cell_type": "markdown",
   "metadata": {},
   "source": [
    "---\n",
    "### References:\n",
    "\n",
    "John Townend “[Practical Statistics for Environmental and Biological Scientists](https://www.wiley.com/en-us/Practical+Statistics+for+Environmental+and+Biological+Scientists-p-9780471496656)” (hereafter “PracStat”)\n",
    "\n",
    "    Chapter 1: 1.1, 1.2, 1.5\n",
    "    Chapter 2: 2.1-2.4\n",
    "    Chapter 5: 5.1-5.7\n",
    "\n",
    "E-book: [Collaborative Statistics](https://open.umn.edu/opentextbooks/textbooks/11) by Barbara Illowsky and Susan Dean\n",
    "\n",
    "    Chapter 1: 1.1, 1.3, 1.4, 1.6\n",
    "    Chapter 2: 2.1-2.9"
   ]
  },
  {
   "cell_type": "markdown",
   "metadata": {},
   "source": [
    "---\n",
    "### Appendix:\n",
    "\n",
    "\n",
    "#### A1) A climate graph for Albany NY (for comparison)\n",
    "    "
   ]
  },
  {
   "cell_type": "code",
   "execution_count": 60,
   "metadata": {},
   "outputs": [
    {
     "data": {
      "text/html": [
       "<img src=\"http://www.albany-ny.climatemps.com/albany-ny-climate-graph.gif\" width=\"600\"/>"
      ],
      "text/plain": [
       "<IPython.core.display.Image object>"
      ]
     },
     "execution_count": 60,
     "metadata": {},
     "output_type": "execute_result"
    }
   ],
   "source": [
    "#To give you an example graph:\n",
    "from IPython.display import Image\n",
    "from IPython.core.display import HTML \n",
    "Image(url= \"http://www.albany-ny.climatemps.com/albany-ny-climate-graph.gif\", width=600)"
   ]
  },
  {
   "cell_type": "markdown",
   "metadata": {},
   "source": [
    "---\n"
   ]
  },
  {
   "cell_type": "markdown",
   "metadata": {},
   "source": [
    "### A2) Creating a Dictionary \n",
    "#### (using key-value pairs)\n",
    "We illustrated in class the structure of the data type ___dictionary___\n"
   ]
  },
  {
   "cell_type": "code",
   "execution_count": 59,
   "metadata": {},
   "outputs": [
    {
     "name": "stdout",
     "output_type": "stream",
     "text": [
      "3\n",
      "value assoicated with key 'Dec' is: August tavg 1981-2010\n",
      "All keys in my dictionary:\n",
      "dict_keys(['Jan', 'Feb', 'Mar', 'Dec', 'Aug'])\n",
      "dict_values([1, 2, 3, 12, 'August tavg 1981-2010'])\n"
     ]
    }
   ],
   "source": [
    "# create a dictionary with sytax { key1:value1, key2:value2 }\n",
    "dmonth= {'Jan':1, 'Feb':2, 'Mar':3}\n",
    "# use the key to look up the corresponding data value\n",
    "print(dmonth['Mar'])\n",
    "# add more key-value pairs to dictionary\n",
    "dmonth['Dec']=12\n",
    "dmonth['Aug']=\"August tavg 1981-2010\"\n",
    "print(\"value assoicated with key 'Dec' is:\" , dmonth['Aug'])\n",
    "# get all keys returned as a list (similar to list object) \n",
    "print(\"All keys in my dictionary:\")\n",
    "print(dmonth.keys())\n",
    "print(dmonth.values())\n"
   ]
  },
  {
   "cell_type": "code",
   "execution_count": null,
   "metadata": {},
   "outputs": [],
   "source": []
  }
 ],
 "metadata": {
  "kernelspec": {
   "display_name": "Python 3 August 2021 Environment",
   "language": "python",
   "name": "aug21"
  },
  "language_info": {
   "codemirror_mode": {
    "name": "ipython",
    "version": 3
   },
   "file_extension": ".py",
   "mimetype": "text/x-python",
   "name": "python",
   "nbconvert_exporter": "python",
   "pygments_lexer": "ipython3",
   "version": "3.8.10"
  }
 },
 "nbformat": 4,
 "nbformat_minor": 4
}
