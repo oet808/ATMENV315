{
 "cells": [
  {
   "cell_type": "markdown",
   "metadata": {},
   "source": [
    "## 2 Application of quantiative descriptive statistics "
   ]
  },
  {
   "cell_type": "markdown",
   "metadata": {},
   "source": [
    "### 2.1 Getting ready for the data analysis\n",
    "\n",
    "We continue our work with the data file that contains daily temperature data observed at Albany Airport (KALB):\n",
    "\n",
    "*USW00014735_temp_1950-2021_daily.csv*. \n",
    "\n",
    "Make sure you know where it is located in your folder system. You may have to update the local path string in the code cell (see variable _local_path_)\n",
    "\n",
    " \n"
   ]
  },
  {
   "cell_type": "code",
   "execution_count": 1,
   "metadata": {},
   "outputs": [],
   "source": [
    "%matplotlib inline\n",
    "import numpy as np\n",
    "import matplotlib.pyplot as plt\n",
    "# Import the new package Pandas\n",
    "import pandas as pd\n",
    "\n",
    "\n",
    "# Tip: You can change the style of the plots by choosing from \n",
    "# the matplotlib styles. \n",
    "# More help can be found through a quick google search\n",
    "from matplotlib import style \n",
    "style.use('ggplot') #'classic' \n"
   ]
  },
  {
   "cell_type": "markdown",
   "metadata": {},
   "source": [
    "### 2.2 Reading the data and creating a dataframe object\n",
    "\n",
    "Many Python coders use in their code a variable name such as _df_ when they work with a dataframe object. We apply the Pandas function _read_csv()_  to read the data table from the csv file and assign it to the variable df."
   ]
  },
  {
   "cell_type": "code",
   "execution_count": 2,
   "metadata": {},
   "outputs": [],
   "source": [
    "local_path='../data/'\n",
    "filename=local_path+'USW00014735_temp_1950-2021_daily.csv'\n",
    "df=pd.read_csv(filename,delimiter=',',skiprows=0)"
   ]
  },
  {
   "cell_type": "code",
   "execution_count": 3,
   "metadata": {},
   "outputs": [
    {
     "data": {
      "text/plain": [
       "Index(['Unnamed: 0', 'year', 'month', 'day', 'avgt', 'mint', 'maxt', 'time'], dtype='object')"
      ]
     },
     "execution_count": 3,
     "metadata": {},
     "output_type": "execute_result"
    }
   ],
   "source": [
    "df.columns"
   ]
  },
  {
   "cell_type": "markdown",
   "metadata": {},
   "source": [
    "<p style=\"color:gold;background-color:purple;font-size:130%\">\n",
    "<BR>2.3 Working with Albany Airport daily temperature data\n",
    "    <BR><BR>\n",
    "</p>"
   ]
  },
  {
   "cell_type": "markdown",
   "metadata": {},
   "source": [
    "### 2.3.1 First, check that the daily average temperatures are in the expected temperature range by plotting the full time series "
   ]
  },
  {
   "cell_type": "code",
   "execution_count": 4,
   "metadata": {},
   "outputs": [],
   "source": [
    "# insert your code\n",
    "# use the introduced Pandas dataframe methods \n",
    "# and apply plt.plot() function (and related matplotlib functions)\n"
   ]
  },
  {
   "cell_type": "markdown",
   "metadata": {},
   "source": [
    "### 2.3.2 Create a time series of the daily maximum temperature data using all March 1st (not all March days only 03/01 dates!) days from 1950 to 2020.\n",
    "        "
   ]
  },
  {
   "cell_type": "markdown",
   "metadata": {},
   "source": [
    "<p style=\"color:black;background-color:lightgreen;font-size:130%\">\n",
    "    <BR>\n",
    "    Tip:  Use the learned query method and adjust the query string to represent the right year range, the right month and day . Make sure, you apply the query to original dataframe in variable df.\n",
    "    <BR>\n",
    "    <BR>\n",
    "</p>"
   ]
  },
  {
   "cell_type": "code",
   "execution_count": null,
   "metadata": {},
   "outputs": [],
   "source": []
  },
  {
   "cell_type": "markdown",
   "metadata": {},
   "source": [
    "### 2.3.3 For the same data create a box-whisker plot\n",
    "(Note: this plot may not always work in case that missing values np.nan are in the data)\n"
   ]
  },
  {
   "cell_type": "code",
   "execution_count": 5,
   "metadata": {},
   "outputs": [],
   "source": [
    "# Inform yourself about the plt.boxplot function and the optional argument vert\n"
   ]
  },
  {
   "cell_type": "markdown",
   "metadata": {},
   "source": [
    "### 2.3.4 For the same data create a histogram plot\n",
    "\n"
   ]
  },
  {
   "cell_type": "code",
   "execution_count": 6,
   "metadata": {},
   "outputs": [],
   "source": [
    "# Inform yourself about the function plt.hist and apply it."
   ]
  },
  {
   "cell_type": "markdown",
   "metadata": {},
   "source": [
    "---\n"
   ]
  }
 ],
 "metadata": {
  "kernelspec": {
   "display_name": "Python 3 August 2021 Environment",
   "language": "python",
   "name": "aug21"
  },
  "language_info": {
   "codemirror_mode": {
    "name": "ipython",
    "version": 3
   },
   "file_extension": ".py",
   "mimetype": "text/x-python",
   "name": "python",
   "nbconvert_exporter": "python",
   "pygments_lexer": "ipython3",
   "version": "3.8.10"
  }
 },
 "nbformat": 4,
 "nbformat_minor": 4
}
