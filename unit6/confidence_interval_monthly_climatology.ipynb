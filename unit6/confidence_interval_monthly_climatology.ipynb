{
 "cells": [
  {
   "cell_type": "markdown",
   "metadata": {},
   "source": [
    "# Example calculation of 95% confidence intervals\n",
    "## Monthly mean 30yr average temperature climatology\n",
    "\n",
    "The statistical and programming objective is: \n",
    "\n",
    "- Calculate long-term mean for the average temperatures years during the years 1951-1980 and 1991-2020:\n",
    "    For each month: January, February, March , ... November, December\n",
    "\n",
    "- For each monthly climatological mean determine the 95% confidence interval using the equations described in the reading assignment\n",
    "\n",
    "- Summarize the results in one or two figures that allow us to observe changes in the mean climatologies.\n",
    "\n",
    "### Please refer to the textbooks for the calculations steps involved in estimating the 95% confidence interval!\n",
    "- Collaborative Statistics textbook Chapter 8.3 (p.337)\n",
    "- Practical Statistics Book Chapter 2 Box 2.2 pages 18-19.\n",
    "\n",
    "\n",
    "---"
   ]
  },
  {
   "cell_type": "markdown",
   "metadata": {},
   "source": [
    "## 1. Code development\n",
    "\n",
    "### 1.1 Import packages and function definitions\n",
    "\n",
    "We define a supporting function that sends a request to the data server and gets the data. \n",
    "\n",
    "__The function returns two lists that we assign to the 'standard variables' x and y:__\n",
    "- x contains the list with dates (type datetime)\n",
    "- y the list with temperatures (type float)\n",
    "\n",
    "We also import here all necessary packages. For the confidence interval calculation we make use the SciPy package stats.\n",
    "\n",
    "\n",
    "(Note: This is a function similar to the previous version in which we downloaded GHCN daily temperature data from the ACIS server, but we did not go into the details earlier in this course. See unit4 notebook get_ghcn_daily_from_server_and _save_to_csv.ipynb, udated version available.)"
   ]
  },
  {
   "cell_type": "code",
   "execution_count": 1,
   "metadata": {},
   "outputs": [],
   "source": [
    "# request a station time series\n",
    "# from Applied Climate Information System\n",
    "# http://www.rcc-acis.org/index.html\n",
    "# Author: OET\n",
    "# code designed for ATM315/ENV315 Python introduction\n",
    "\n",
    "import numpy as np\n",
    "import matplotlib.pyplot as plt\n",
    "import urllib3\n",
    "import json\n",
    "import datetime as dt\n",
    "import pandas as pd\n",
    "# for confidence interval calculation\n",
    "from scipy import  stats\n",
    "\n",
    "\n",
    "#########################################################################################################\n",
    "# function to get the monthly data from the server\n",
    "#########################################################################################################\n",
    "def get_stationdata_monthly(sid,var='avgt',startyear=2017,endyear=2017):\n",
    "    \"\"\"Sends request to regional climate center ACIS and gets monthly data for one station.\n",
    "    Input parameters: \n",
    "        sid (string): a station id\n",
    "        var (string): a variable name (e.g. 'avgt', 'mint', 'maxt')\n",
    "    Keyword parameters:\n",
    "        startyear and endyear (integers): for selecting the year range e.g. 1950 and 2017\n",
    "    \n",
    "    Returned objects:\n",
    "        list with dates (datetime objects)\n",
    "        list with the data \n",
    "    \"\"\"    \n",
    "    # the http address of the data server\n",
    "    host=\"http://data.rcc-acis.org/StnData\"\n",
    "    # forming the query string for the host server\n",
    "    sdate='&sdate='+str(startyear)+'-01-1'\n",
    "    edate='&edate='+str(endyear)+'-12-31'\n",
    "    query='?sid='+sid+'&'+sdate+'&'+edate+'&interval=mly&'\\\n",
    "    +'elems='+\"mly_mean_\"+var\n",
    "    # try to connect and to get the requested data\n",
    "    # in format ready to export to a csv file\n",
    "    print (\">send data request to \"+host+query)\n",
    "    print (\"station id:\",sid)\n",
    "    print (\"year range: %4d - %4d\" % (startyear,endyear))\n",
    "    print (\"> still waiting for response ...\")\n",
    "    try:\n",
    "        http= urllib3.PoolManager()\n",
    "        response = http.request('GET',host+query)\n",
    "        # convert json-string into dictionary\n",
    "        content =  json.loads(response.data.decode('utf-8'))\n",
    "        meta=content['meta']\n",
    "        data=content['data']\n",
    "        time=[]\n",
    "        value=[]\n",
    "        for item in data:\n",
    "            #print (item)\n",
    "            time.append(dt.datetime.strptime(item[0],\"%Y-%m\"))\n",
    "            if (item[1]!='M'):\n",
    "                value.append(float(item[1]))\n",
    "            else:\n",
    "                value.append(np.NAN)\n",
    "    except Exception as e:\n",
    "        print (\"error occurred:\", e)\n",
    "        return\n",
    "    print(\">... done\")\n",
    "    return time,value"
   ]
  },
  {
   "cell_type": "markdown",
   "metadata": {},
   "source": [
    "### 1.2 Main section: Downloading a single station data set (monthly mean data)"
   ]
  },
  {
   "cell_type": "code",
   "execution_count": 2,
   "metadata": {},
   "outputs": [
    {
     "name": "stdout",
     "output_type": "stream",
     "text": [
      ">send data request to http://data.rcc-acis.org/StnData?sid=USW00014735&&sdate=1950-01-1&&edate=2021-12-31&interval=mly&elems=mly_mean_avgt\n",
      "station id: USW00014735\n",
      "year range: 1950 - 2021\n",
      "> still waiting for response ...\n",
      ">... done\n"
     ]
    }
   ],
   "source": [
    "station_id=\"USW00014735\"\n",
    "varname=\"avgt\"\n",
    "x,y=get_stationdata_monthly(station_id,varname,startyear=1950,endyear=2021)"
   ]
  },
  {
   "cell_type": "code",
   "execution_count": 4,
   "metadata": {},
   "outputs": [
    {
     "data": {
      "text/html": [
       "<div>\n",
       "<style scoped>\n",
       "    .dataframe tbody tr th:only-of-type {\n",
       "        vertical-align: middle;\n",
       "    }\n",
       "\n",
       "    .dataframe tbody tr th {\n",
       "        vertical-align: top;\n",
       "    }\n",
       "\n",
       "    .dataframe thead th {\n",
       "        text-align: right;\n",
       "    }\n",
       "</style>\n",
       "<table border=\"1\" class=\"dataframe\">\n",
       "  <thead>\n",
       "    <tr style=\"text-align: right;\">\n",
       "      <th></th>\n",
       "      <th>avgt</th>\n",
       "      <th>year</th>\n",
       "      <th>month</th>\n",
       "    </tr>\n",
       "    <tr>\n",
       "      <th>time</th>\n",
       "      <th></th>\n",
       "      <th></th>\n",
       "      <th></th>\n",
       "    </tr>\n",
       "  </thead>\n",
       "  <tbody>\n",
       "    <tr>\n",
       "      <th>1950-01-01</th>\n",
       "      <td>30.98</td>\n",
       "      <td>1950</td>\n",
       "      <td>1</td>\n",
       "    </tr>\n",
       "    <tr>\n",
       "      <th>1950-02-01</th>\n",
       "      <td>20.46</td>\n",
       "      <td>1950</td>\n",
       "      <td>2</td>\n",
       "    </tr>\n",
       "    <tr>\n",
       "      <th>1950-03-01</th>\n",
       "      <td>27.15</td>\n",
       "      <td>1950</td>\n",
       "      <td>3</td>\n",
       "    </tr>\n",
       "    <tr>\n",
       "      <th>1950-04-01</th>\n",
       "      <td>43.07</td>\n",
       "      <td>1950</td>\n",
       "      <td>4</td>\n",
       "    </tr>\n",
       "    <tr>\n",
       "      <th>1950-05-01</th>\n",
       "      <td>57.50</td>\n",
       "      <td>1950</td>\n",
       "      <td>5</td>\n",
       "    </tr>\n",
       "    <tr>\n",
       "      <th>...</th>\n",
       "      <td>...</td>\n",
       "      <td>...</td>\n",
       "      <td>...</td>\n",
       "    </tr>\n",
       "    <tr>\n",
       "      <th>2021-08-01</th>\n",
       "      <td>70.90</td>\n",
       "      <td>2021</td>\n",
       "      <td>8</td>\n",
       "    </tr>\n",
       "    <tr>\n",
       "      <th>2021-09-01</th>\n",
       "      <td>62.17</td>\n",
       "      <td>2021</td>\n",
       "      <td>9</td>\n",
       "    </tr>\n",
       "    <tr>\n",
       "      <th>2021-10-01</th>\n",
       "      <td>56.81</td>\n",
       "      <td>2021</td>\n",
       "      <td>10</td>\n",
       "    </tr>\n",
       "    <tr>\n",
       "      <th>2021-11-01</th>\n",
       "      <td>38.78</td>\n",
       "      <td>2021</td>\n",
       "      <td>11</td>\n",
       "    </tr>\n",
       "    <tr>\n",
       "      <th>2021-12-01</th>\n",
       "      <td>36.11</td>\n",
       "      <td>2021</td>\n",
       "      <td>12</td>\n",
       "    </tr>\n",
       "  </tbody>\n",
       "</table>\n",
       "<p>864 rows × 3 columns</p>\n",
       "</div>"
      ],
      "text/plain": [
       "             avgt  year  month\n",
       "time                          \n",
       "1950-01-01  30.98  1950      1\n",
       "1950-02-01  20.46  1950      2\n",
       "1950-03-01  27.15  1950      3\n",
       "1950-04-01  43.07  1950      4\n",
       "1950-05-01  57.50  1950      5\n",
       "...           ...   ...    ...\n",
       "2021-08-01  70.90  2021      8\n",
       "2021-09-01  62.17  2021      9\n",
       "2021-10-01  56.81  2021     10\n",
       "2021-11-01  38.78  2021     11\n",
       "2021-12-01  36.11  2021     12\n",
       "\n",
       "[864 rows x 3 columns]"
      ]
     },
     "execution_count": 4,
     "metadata": {},
     "output_type": "execute_result"
    }
   ],
   "source": [
    "df=pd.DataFrame()\n",
    "startdate=x[0]\n",
    "n=len(x)\n",
    "df['time']=x # pd.Series(pd.date_range(startdate, freq=\"M\",periods=n))\n",
    "df['avgt']=y\n",
    "df=df.set_index('time') # for better treatment of the time\n",
    "df['year']=df.index.year\n",
    "df['month']=df.index.month\n",
    "df"
   ]
  },
  {
   "cell_type": "markdown",
   "metadata": {},
   "source": [
    "### 1.3 Data analysis tasks"
   ]
  },
  {
   "cell_type": "markdown",
   "metadata": {},
   "source": [
    "<P style=\"background-color:purple;color:gold;font-size:130%\">\n",
    "<BR>\n",
    "Task 1: Take a look at the data frame df: What are the column names, what is in df.index, what is the first row?\n",
    "<BR>\n",
    "<BR>\n",
    "</P>\n",
    "\n"
   ]
  },
  {
   "cell_type": "code",
   "execution_count": 4,
   "metadata": {},
   "outputs": [],
   "source": [
    "# your code\n"
   ]
  },
  {
   "cell_type": "markdown",
   "metadata": {},
   "source": [
    "<P style=\"background-color:purple;color:gold;font-size:130%\">\n",
    "<BR>\n",
    "Task 2: Plot the full time series of the average temperature\n",
    "<BR>\n",
    "<BR>\n",
    "</P>"
   ]
  },
  {
   "cell_type": "code",
   "execution_count": 5,
   "metadata": {},
   "outputs": [],
   "source": [
    "# your code\n"
   ]
  },
  {
   "cell_type": "markdown",
   "metadata": {},
   "source": [
    "<P style=\"background-color:purple;color:gold;font-size:130%\">\n",
    "<BR>\n",
    "Task 3: Select the rows for two 30 climate periods: 1951-1980 and 1991-2020\n",
    "<BR>\n",
    "<BR>\n",
    "</P>\n",
    "    \n",
    "Appy the query function to dataframe _df_ and assign the results to new variables and check that the returned dataframe contains the right years. You should have 360 rows of data in the dataframe. \n",
    "\n",
    "\n"
   ]
  },
  {
   "cell_type": "code",
   "execution_count": null,
   "metadata": {},
   "outputs": [],
   "source": []
  },
  {
   "cell_type": "code",
   "execution_count": 6,
   "metadata": {},
   "outputs": [],
   "source": [
    "# check the results\n"
   ]
  },
  {
   "cell_type": "code",
   "execution_count": null,
   "metadata": {},
   "outputs": [],
   "source": []
  },
  {
   "cell_type": "markdown",
   "metadata": {},
   "source": [
    "<P style=\"background-color:purple;color:gold;font-size:130%\">\n",
    "<BR>\n",
    "Task 4: For each of the two subsampled data frames with the 30 year climate periods, select the  only month (a) January and then (b) July and plot the time series, respectively.\n",
    "    \n",
    "<BR>\n",
    "<BR>\n",
    "</P>\n",
    "    \n"
   ]
  },
  {
   "cell_type": "code",
   "execution_count": null,
   "metadata": {},
   "outputs": [],
   "source": []
  },
  {
   "cell_type": "code",
   "execution_count": 7,
   "metadata": {},
   "outputs": [],
   "source": [
    "# your code"
   ]
  },
  {
   "cell_type": "markdown",
   "metadata": {},
   "source": [
    "<P style=\"background-color:purple;color:gold;font-size:130%\">\n",
    "<BR>\n",
    "Task 5: Calculate the mean and standard deviation for each month for the second 30 year climatology\n",
    "<BR>\n",
    "<BR>\n",
    "</P>\n",
    "    \n",
    "Follow the example code shown below, which does the calculation for the first 30-year climatology (using the  the first dataframe _dfc1_). Save the results in new variables!\n",
    "    "
   ]
  },
  {
   "cell_type": "code",
   "execution_count": 5,
   "metadata": {},
   "outputs": [
    {
     "name": "stdout",
     "output_type": "stream",
     "text": [
      "Calculate first 30-year period climatology\n"
     ]
    },
    {
     "ename": "NameError",
     "evalue": "name 'dfc1' is not defined",
     "output_type": "error",
     "traceback": [
      "\u001b[0;31m---------------------------------------------------------------------------\u001b[0m",
      "\u001b[0;31mNameError\u001b[0m                                 Traceback (most recent call last)",
      "Input \u001b[0;32mIn [5]\u001b[0m, in \u001b[0;36m<cell line: 16>\u001b[0;34m()\u001b[0m\n\u001b[1;32m     11\u001b[0m \u001b[38;5;66;03m######################################################\u001b[39;00m\n\u001b[1;32m     12\u001b[0m \u001b[38;5;66;03m# this you have to adjust depending on your variable\u001b[39;00m\n\u001b[1;32m     13\u001b[0m \u001b[38;5;66;03m# names that you use for your dataframes\u001b[39;00m\n\u001b[1;32m     14\u001b[0m \u001b[38;5;66;03m######################################################\u001b[39;00m\n\u001b[1;32m     15\u001b[0m \u001b[38;5;28mprint\u001b[39m(\u001b[38;5;124m\"\u001b[39m\u001b[38;5;124mCalculate first 30-year period climatology\u001b[39m\u001b[38;5;124m\"\u001b[39m)\n\u001b[0;32m---> 16\u001b[0m dfwork\u001b[38;5;241m=\u001b[39m\u001b[43mdfc1\u001b[49m \n\u001b[1;32m     17\u001b[0m \u001b[38;5;28;01mfor\u001b[39;00m mon \u001b[38;5;129;01min\u001b[39;00m monthlist:\n\u001b[1;32m     18\u001b[0m     dfhelp\u001b[38;5;241m=\u001b[39mdfwork\u001b[38;5;241m.\u001b[39mquery(\u001b[38;5;124m\"\u001b[39m\u001b[38;5;124mmonth == \u001b[39m\u001b[38;5;124m\"\u001b[39m\u001b[38;5;241m+\u001b[39mmon)\n",
      "\u001b[0;31mNameError\u001b[0m: name 'dfc1' is not defined"
     ]
    }
   ],
   "source": [
    "monthlist=['1','2','3','4','5','6', \n",
    "           '7','8','9','10','11','12']\n",
    "monthstr=['Jan','Feb','Mar','Apr','May','Jun',\n",
    "        'Jul','Aug','Sep','Oct','Nov','Dec']\n",
    "\n",
    "# process the first 30 year climate data frame\n",
    "i=0\n",
    "mon_mean1=[] # empty list\n",
    "mon_stdev1=[] # empty list\n",
    "\n",
    "######################################################\n",
    "# this you have to adjust depending on your variable\n",
    "# names that you use for your dataframes\n",
    "######################################################\n",
    "print(\"Calculate first 30-year period climatology\")\n",
    "dfwork=dfc1 \n",
    "for mon in monthlist:\n",
    "    dfhelp=dfwork.query(\"month == \"+mon)\n",
    "    data_column=dfhelp['avgt']\n",
    "    data_array=data_column.values\n",
    "    m=np.nanmean(data_array)\n",
    "    s=np.nanstd(data_array)\n",
    "    print (f\"mean temperature for month {monthstr[i]}: {m:.2f} F, stdev= {s:.2f}\")\n",
    "    mon_mean1.append(m)\n",
    "    mon_stdev1.append(s)\n",
    "    i=i+1\n",
    "\n",
    "mon_mean1=np.array(mon_mean1) # type conversion list to numpy array\n",
    "mon_stdev1=np.array(mon_stdev1)\n"
   ]
  },
  {
   "cell_type": "code",
   "execution_count": null,
   "metadata": {},
   "outputs": [],
   "source": [
    "# your code for second 30 year climate data"
   ]
  },
  {
   "cell_type": "markdown",
   "metadata": {},
   "source": [
    "<P style=\"background-color:purple;color:gold;font-size:130%\">\n",
    "<BR>\n",
    "Task 6: Finally, get the 95% confidence range using supporting function \n",
    "    for the t-distribution from SciPy package stats \n",
    "<BR>\n",
    "<BR>\n",
    "</P>\n",
    "    \n",
    "Start with the first 30 year climatology.\n",
    "    \n",
    "For each month, you have to calculate the 95% CI. \n",
    "Review the example from the previous class activity. \n",
    "You will need to determine the sample size _n_, degrees of freedom _df_, alpha-value, call the scipy function _stats.t.interval(alpha,df)_. See the example code below. The resulting \n",
    "    2 x 12 CI values have to be stored in lists (numpy arrays).\n"
   ]
  },
  {
   "cell_type": "code",
   "execution_count": null,
   "metadata": {},
   "outputs": [],
   "source": [
    "# example code\n",
    "n=10\n",
    "df=n-1\n",
    "alpha=0.95 # for both samples\n",
    "tint=np.array(stats.t.interval(alpha,df)) # function itself returns a lists\n",
    "ystd=np.array([6,5,4,3,2,1,1,2,3,4,5,6])\n",
    "ci=np.zeros(shape=[2,12])\n",
    "for i in range(12):\n",
    "    ci[:,i]=tint*ystd[i]/np.sqrt(n)\n",
    "    print (i,ci[0,i],ci[1,i])\n",
    "    i+=1"
   ]
  },
  {
   "cell_type": "markdown",
   "metadata": {},
   "source": [
    "## 2. Summary of results "
   ]
  },
  {
   "cell_type": "markdown",
   "metadata": {},
   "source": [
    "<P style=\"background-color:purple;color:gold;font-size:130%\">\n",
    "<BR>\n",
    "Task 7: Present the climatologies in a graph or two that make it easy to see the differences between the two periods, and how much the confidence intervals overlap.\n",
    "<BR>\n",
    "<BR>\n",
    "</P>\n",
    "    \n",
    "- Tip: Check the function plt.errorbar for showing the confidence intervals. See [documentation](https://matplotlib.org/3.5.1/api/_as_gen/matplotlib.pyplot.errorbar.html) for more info on keyword parameter _yerr_"
   ]
  },
  {
   "cell_type": "code",
   "execution_count": 9,
   "metadata": {},
   "outputs": [
    {
     "data": {
      "image/png": "[encoded data removed]",
      "text/plain": [
       "<Figure size 640x480 with 1 Axes>"
      ]
     },
     "metadata": {},
     "output_type": "display_data"
    }
   ],
   "source": [
    "#Example code \n",
    "# help(plt.errorbar)\n",
    "xtest=[1,2,3]\n",
    "ytest=[52,65.5,72,]\n",
    "ci=np.array([1.5,2,0.5])\n",
    "# our CIs are symmetric around the mean\n",
    "plt.errorbar(xtest,ytest,yerr=ci)\n",
    "plt.title(\"example plot with plt.errorbar()\")\n",
    "plt.show()\n"
   ]
  },
  {
   "cell_type": "code",
   "execution_count": 10,
   "metadata": {},
   "outputs": [],
   "source": [
    "# your code\n"
   ]
  },
  {
   "cell_type": "markdown",
   "metadata": {},
   "source": [
    "<P style=\"background-color:purple;color:gold;font-size:130%\">\n",
    "<BR>\n",
    "Task 8: Optional: Summary of the quantitavie results\n",
    "<BR>\n",
    "<BR>\n",
    "</P>\n",
    "    \n",
    "Write all the results in form of a Pandas data frame and write the data frame to a local CSV file."
   ]
  },
  {
   "cell_type": "code",
   "execution_count": null,
   "metadata": {},
   "outputs": [],
   "source": [
    "# optional code "
   ]
  },
  {
   "cell_type": "markdown",
   "metadata": {},
   "source": [
    "## 3 Summary and conclusion\n",
    "\n",
    "Write here your summary and conclusions.\n",
    "\n",
    "### 3.1 Changes in the mean temperatures\n",
    "\n",
    "### 3.2 Significance of the changes based on the analysis of the confidence intervals"
   ]
  },
  {
   "cell_type": "markdown",
   "metadata": {
    "tags": []
   },
   "source": [
    "### Further References:\n",
    "- Scipy stats package: \n",
    "    - support for [normal distribution](https://docs.scipy.org/doc/scipy/reference/generated/scipy.stats.norm.html)\n",
    "    - support for [t distribution](https://docs.scipy.org/doc/scipy/reference/generated/scipy.stats.t.html) (including confidence intervals)\n",
    "- Matplotlib.pyplot \n",
    "    - [plt.errorbar examples](https://matplotlib.org/1.2.1/examples/pylab_examples/errorbar_demo.html) \n",
    "- [GHCND](https://www.ncei.noaa.gov/products/land-based-station/global-historical-climatology-network-monthly)\n",
    "- [Link to data file directory](https://www.ncei.noaa.gov/pub/data/ghcn/v4/) (including data description, list of stations)\n",
    "\n"
   ]
  },
  {
   "cell_type": "code",
   "execution_count": null,
   "metadata": {},
   "outputs": [],
   "source": []
  }
 ],
 "metadata": {
  "kernelspec": {
   "display_name": "Python 3 August 2022 Environment",
   "language": "python",
   "name": "aug22"
  },
  "language_info": {
   "codemirror_mode": {
    "name": "ipython",
    "version": 3
   },
   "file_extension": ".py",
   "mimetype": "text/x-python",
   "name": "python",
   "nbconvert_exporter": "python",
   "pygments_lexer": "ipython3",
   "version": "3.10.5"
  }
 },
 "nbformat": 4,
 "nbformat_minor": 4
}
