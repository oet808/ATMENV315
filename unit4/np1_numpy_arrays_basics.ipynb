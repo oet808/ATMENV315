{
 "cells": [
  {
   "cell_type": "markdown",
   "metadata": {},
   "source": [
    "# Numpy array basics\n",
    "\n",
    "We introduced numpy arrays as object type for our data. If we have a list with data, we can convert it into a numpy array object."
   ]
  },
  {
   "cell_type": "code",
   "execution_count": null,
   "metadata": {},
   "outputs": [],
   "source": [
    "import numpy as np\n",
    "\n",
    "x=[1,2,3,4,5,6,7,8,9,10]\n",
    "x=np.array(x)\n",
    "\n",
    "print(type(x))\n"
   ]
  },
  {
   "cell_type": "markdown",
   "metadata": {},
   "source": [
    "## 1 Numpy arrays use the same indexing syntax to get individual data from the array.\n",
    "It also is iterable."
   ]
  },
  {
   "cell_type": "code",
   "execution_count": null,
   "metadata": {},
   "outputs": [],
   "source": [
    "for value in x:\n",
    "    print (value)"
   ]
  },
  {
   "cell_type": "markdown",
   "metadata": {},
   "source": [
    "## 2 Math calculations with arrays\n",
    "\n",
    "2.1 numpy array's with a + - * / and a single integer or float number \n",
    "apply to each data value in the array.\n",
    "\n"
   ]
  },
  {
   "cell_type": "code",
   "execution_count": null,
   "metadata": {},
   "outputs": [],
   "source": [
    "y=2+x\n",
    "z=x*2\n",
    "n=len(x)\n",
    "i=0\n",
    "while i<n:\n",
    "    print (x[i],y[i],z[i])\n",
    "    i=i+1"
   ]
  },
  {
   "cell_type": "markdown",
   "metadata": {},
   "source": [
    "2.2 The mathematical operators behave similar when you apply them with two arrays. \n",
    "If the arrays are of equal length, then the + - * / etc will be applied pairwise with the elements in the arrays"
   ]
  },
  {
   "cell_type": "code",
   "execution_count": null,
   "metadata": {},
   "outputs": [],
   "source": [
    "xysum=x+y\n",
    "i=0\n",
    "n=len(x)\n",
    "while i<n:\n",
    "    print (x[i],y[i],xysum[i])\n",
    "    i=i+1"
   ]
  },
  {
   "cell_type": "code",
   "execution_count": null,
   "metadata": {},
   "outputs": [],
   "source": []
  },
  {
   "cell_type": "markdown",
   "metadata": {},
   "source": [
    "## 3 Numpy arrays are not appendable, at least not the same way as lists are! \n",
    "\n",
    "The numpy arrays are good for calculations with large data sets.\n",
    "But unlike lists, we can not apply the method append() to numpy arrays directly.\n",
    "\n",
    "\n",
    "Note: If you need to append data to your array, the function _np.append()_ can be used.\n",
    "\n",
    "[see numpy documention, append function](https://docs.scipy.org/doc/numpy/reference/generated/numpy.append.html)\n"
   ]
  },
  {
   "cell_type": "code",
   "execution_count": null,
   "metadata": {},
   "outputs": [],
   "source": [
    "# x.append(13) this does not work with numpy arrays"
   ]
  },
  {
   "cell_type": "markdown",
   "metadata": {},
   "source": [
    "## 4 Creating arrays"
   ]
  },
  {
   "cell_type": "code",
   "execution_count": null,
   "metadata": {},
   "outputs": [],
   "source": [
    "x=np.arange(0,10.2,0.2) # 0, 0.2, 0.4, ... , 9.8, 10.0\n",
    "z=np.zeros(10) # array with 10 0.0\n",
    "s=np.empty(10) # filled with unspecified values (depends on the interpreter)"
   ]
  },
  {
   "cell_type": "markdown",
   "metadata": {},
   "source": [
    "## 5 Copy a numpy array\n",
    "\n",
    "\n",
    "THIS BEHAVIOR OF NUMPY ARRAYS CAN BE CONFUSING, INDEED. \n",
    "Best is to memorize this behaviour as a user of numpy arrays.\n",
    "\n",
    "We should use np.copy() to make a independent copy of a numpy array to avoid side effects in the original array.\n",
    "\n"
   ]
  },
  {
   "cell_type": "code",
   "execution_count": null,
   "metadata": {},
   "outputs": [],
   "source": [
    "\n",
    "x= np.array([1,2,3,4])\n",
    "y=x**2\n",
    "xcopy=np.copy(x)\n",
    "ycopy=y # not a copy just another variable pointing at the same array as variable y\n",
    "\n",
    "\n",
    "xcopy[0:2]=0\n",
    "ycopy[0:2]=-9999\n",
    "\n",
    "\n",
    "print(\"xcopy after editing:   \", xcopy)\n",
    "print(\"x after editing xcopy: \", x)\n",
    "\n",
    "print (\"y \",y)\n",
    "print (\"ycopy after editing:    \",ycopy)\n",
    "print (\"y after editiong ycopy: \",y)\n"
   ]
  },
  {
   "cell_type": "markdown",
   "metadata": {},
   "source": [
    "### What is happening in the code above? \n",
    "\n",
    "This behavior is difficult to understand without a taking a closer look at the concept of variables being just a pointer to objects. *ycopy=y* only creates another pointer to the object that y is already pointing to in the memory. When we change elements in the numpy array we put new values into the memory space that is reserved for the numpy array object. The variable y and ycopy are both still assigned to the same object in the memory space of the program.\n",
    "\n",
    "### Conclusion: I recommend to use np.copy() if you need to make a true copy of a numpy array! \n",
    "\n"
   ]
  },
  {
   "cell_type": "code",
   "execution_count": null,
   "metadata": {},
   "outputs": [],
   "source": []
  }
 ],
 "metadata": {
  "kernelspec": {
   "display_name": "Python 3 (ipykernel)",
   "language": "python",
   "name": "python3"
  },
  "language_info": {
   "codemirror_mode": {
    "name": "ipython",
    "version": 3
   },
   "file_extension": ".py",
   "mimetype": "text/x-python",
   "name": "python",
   "nbconvert_exporter": "python",
   "pygments_lexer": "ipython3",
   "version": "3.11.7"
  }
 },
 "nbformat": 4,
 "nbformat_minor": 4
}
