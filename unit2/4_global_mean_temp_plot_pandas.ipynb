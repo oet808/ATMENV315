{
 "cells": [
  {
   "cell_type": "markdown",
   "metadata": {},
   "source": [
    "# 2.3 Global mean surface temperature (GMST) time series"
   ]
  },
  {
   "cell_type": "markdown",
   "metadata": {},
   "source": [
    "## 2.3.1 Global mean surface temperature trend visualization\n",
    "\n",
    "We use here data from NASA GISS. They are reported in degree Celsius departures from 1951-1980 30-year climatological mean. We use a local file that was downloaded from the web page\n",
    "\n",
    "[https://climate.nasa.gov/vital-signs/global-temperature/](https://climate.nasa.gov/vital-signs/global-temperature/)"
   ]
  },
  {
   "cell_type": "code",
   "execution_count": 1,
   "metadata": {},
   "outputs": [],
   "source": [
    "%matplotlib inline\n",
    "\n",
    "import matplotlib.pyplot as plt\n",
    "import numpy as np\n",
    "# 2023-02-06 We show here how easy it is to import CSV table data\n",
    "# with the package Pandas\n",
    "import pandas as pd\n"
   ]
  },
  {
   "cell_type": "code",
   "execution_count": 2,
   "metadata": {},
   "outputs": [
    {
     "name": "stdout",
     "output_type": "stream",
     "text": [
      "The CSV with the temperature data is:\n",
      "GISS_Global_Temperature.csv\n",
      "It is located in on the computer cluster in a shared file folder: \n",
      "/nfs/home11/staff/timm/Public/Data/\n"
     ]
    }
   ],
   "source": [
    "# local data file name (path and filename)\n",
    "path=\"/nfs/home11/staff/timm/Public/Data/\"\n",
    "filename=\"GISS_Global_Temperature.csv\"\n",
    "\n",
    "print (\"The CSV with the temperature data is:\\n\"+filename)\n",
    "# \\n in the string adds a line break instruction \n",
    "print(\"It is located in on the computer cluster in a shared file folder: \\n\"+path)\n"
   ]
  },
  {
   "cell_type": "markdown",
   "metadata": {},
   "source": [
    "### Load the CSV data with Numpy support functions\n",
    "\n",
    "Numpy offers some supporting functions to import data from files.  \n",
    "Files in CSV format (comma-separated data columns) can be imported with function _np.loadtxt_."
   ]
  },
  {
   "cell_type": "code",
   "execution_count": 4,
   "metadata": {},
   "outputs": [
    {
     "name": "stdout",
     "output_type": "stream",
     "text": [
      "*********************************************************\n",
      "Loading the temperature data from CSV-file.\n",
      "*********************************************************\n",
      "Now you have the data in three variables named\n",
      "year temp1 temp2\n"
     ]
    }
   ],
   "source": [
    "###############################################################################\n",
    "# Support to load the data from the local CSV file\n",
    "###############################################################################\n",
    "\n",
    "\n",
    "print(\"*********************************************************\")\n",
    "print(\"Loading the temperature data from CSV-file.\")\n",
    "print(\"*********************************************************\")\n",
    "result=np.loadtxt(path+filename,skiprows=0,delimiter=',')\n",
    "\n",
    "year=np.array(result[:,0])\n",
    "temp1=np.array(result[:,1])\n",
    "temp2=np.array(result[:,2])\n",
    "\n",
    "print (\"Now you have the data in three variables named\")\n",
    "print (\"year temp1 temp2\")"
   ]
  },
  {
   "cell_type": "code",
   "execution_count": 5,
   "metadata": {},
   "outputs": [
    {
     "name": "stdout",
     "output_type": "stream",
     "text": [
      "Here is some useful info about the variables:\n",
      "-------------------------------------------------------\n",
      "type of year, temp1,temp2:\n",
      "<class 'numpy.ndarray'> <class 'numpy.ndarray'> <class 'numpy.ndarray'>\n",
      "shape of arrays:\n",
      "(143,) (143,) (143,)\n",
      "-------------------------------------------------------\n"
     ]
    }
   ],
   "source": [
    "print (\"Here is some useful info about the variables:\")\n",
    "print (\"-------------------------------------------------------\")\n",
    "print (\"type of year, temp1,temp2:\")\n",
    "print (type(year),type(temp1), type(temp2))\n",
    "print (\"shape of arrays:\")\n",
    "print (np.shape(year),np.shape(temp1),np.shape(temp2))\n",
    "print (\"-------------------------------------------------------\")"
   ]
  },
  {
   "cell_type": "markdown",
   "metadata": {},
   "source": [
    "### Now we use the package Pandas to get the data into variables\n",
    "We call the returned object a DataFrame (this is a new data type or new class). Programmers use variable names like ___df___ for these data types. \n",
    "The ___type()___ function gives us details about the object type. We see it is called \n",
    "`<class 'pandas.core.frame.DataFrame'>`\n",
    "\n",
    "We will call it in short '_Pandas dataframe_' or '_dataframe_'"
   ]
  },
  {
   "cell_type": "code",
   "execution_count": 6,
   "metadata": {},
   "outputs": [
    {
     "name": "stdout",
     "output_type": "stream",
     "text": [
      "<class 'pandas.core.frame.DataFrame'>\n"
     ]
    }
   ],
   "source": [
    "df=pd.read_csv(path+filename)\n",
    "print(type(df))"
   ]
  },
  {
   "cell_type": "markdown",
   "metadata": {},
   "source": [
    "### What is in the variable df? We can show it in the Notebook!\n",
    "The Jupyter Notebooks render the data of type Pandas Dataframe\n",
    "Pandas. The programmers assume that the first row has column names in the CSV file.\n",
    "This simple text file does not have any column names, so the first year of data are falsey assumed to be column names. (1880 -0.18 -0.1) But we can quickly fix that.\n"
   ]
  },
  {
   "cell_type": "code",
   "execution_count": 7,
   "metadata": {
    "tags": []
   },
   "outputs": [
    {
     "data": {
      "text/html": [
       "<div>\n",
       "<style scoped>\n",
       "    .dataframe tbody tr th:only-of-type {\n",
       "        vertical-align: middle;\n",
       "    }\n",
       "\n",
       "    .dataframe tbody tr th {\n",
       "        vertical-align: top;\n",
       "    }\n",
       "\n",
       "    .dataframe thead th {\n",
       "        text-align: right;\n",
       "    }\n",
       "</style>\n",
       "<table border=\"1\" class=\"dataframe\">\n",
       "  <thead>\n",
       "    <tr style=\"text-align: right;\">\n",
       "      <th></th>\n",
       "      <th>1880</th>\n",
       "      <th>-0.18</th>\n",
       "      <th>-0.1</th>\n",
       "    </tr>\n",
       "  </thead>\n",
       "  <tbody>\n",
       "    <tr>\n",
       "      <th>0</th>\n",
       "      <td>1881</td>\n",
       "      <td>-0.09</td>\n",
       "      <td>-0.14</td>\n",
       "    </tr>\n",
       "    <tr>\n",
       "      <th>1</th>\n",
       "      <td>1882</td>\n",
       "      <td>-0.10</td>\n",
       "      <td>-0.17</td>\n",
       "    </tr>\n",
       "    <tr>\n",
       "      <th>2</th>\n",
       "      <td>1883</td>\n",
       "      <td>-0.18</td>\n",
       "      <td>-0.20</td>\n",
       "    </tr>\n",
       "    <tr>\n",
       "      <th>3</th>\n",
       "      <td>1884</td>\n",
       "      <td>-0.28</td>\n",
       "      <td>-0.23</td>\n",
       "    </tr>\n",
       "    <tr>\n",
       "      <th>4</th>\n",
       "      <td>1885</td>\n",
       "      <td>-0.31</td>\n",
       "      <td>-0.26</td>\n",
       "    </tr>\n",
       "    <tr>\n",
       "      <th>...</th>\n",
       "      <td>...</td>\n",
       "      <td>...</td>\n",
       "      <td>...</td>\n",
       "    </tr>\n",
       "    <tr>\n",
       "      <th>137</th>\n",
       "      <td>2018</td>\n",
       "      <td>0.83</td>\n",
       "      <td>0.94</td>\n",
       "    </tr>\n",
       "    <tr>\n",
       "      <th>138</th>\n",
       "      <td>2019</td>\n",
       "      <td>0.98</td>\n",
       "      <td>0.93</td>\n",
       "    </tr>\n",
       "    <tr>\n",
       "      <th>139</th>\n",
       "      <td>2020</td>\n",
       "      <td>1.02</td>\n",
       "      <td>0.94</td>\n",
       "    </tr>\n",
       "    <tr>\n",
       "      <th>140</th>\n",
       "      <td>2021</td>\n",
       "      <td>0.85</td>\n",
       "      <td>0.94</td>\n",
       "    </tr>\n",
       "    <tr>\n",
       "      <th>141</th>\n",
       "      <td>2022</td>\n",
       "      <td>0.89</td>\n",
       "      <td>0.90</td>\n",
       "    </tr>\n",
       "  </tbody>\n",
       "</table>\n",
       "<p>142 rows × 3 columns</p>\n",
       "</div>"
      ],
      "text/plain": [
       "     1880  -0.18  -0.1\n",
       "0    1881  -0.09 -0.14\n",
       "1    1882  -0.10 -0.17\n",
       "2    1883  -0.18 -0.20\n",
       "3    1884  -0.28 -0.23\n",
       "4    1885  -0.31 -0.26\n",
       "..    ...    ...   ...\n",
       "137  2018   0.83  0.94\n",
       "138  2019   0.98  0.93\n",
       "139  2020   1.02  0.94\n",
       "140  2021   0.85  0.94\n",
       "141  2022   0.89  0.90\n",
       "\n",
       "[142 rows x 3 columns]"
      ]
     },
     "execution_count": 7,
     "metadata": {},
     "output_type": "execute_result"
    }
   ],
   "source": [
    "df"
   ]
  },
  {
   "cell_type": "code",
   "execution_count": 8,
   "metadata": {},
   "outputs": [
    {
     "data": {
      "text/html": [
       "<div>\n",
       "<style scoped>\n",
       "    .dataframe tbody tr th:only-of-type {\n",
       "        vertical-align: middle;\n",
       "    }\n",
       "\n",
       "    .dataframe tbody tr th {\n",
       "        vertical-align: top;\n",
       "    }\n",
       "\n",
       "    .dataframe thead th {\n",
       "        text-align: right;\n",
       "    }\n",
       "</style>\n",
       "<table border=\"1\" class=\"dataframe\">\n",
       "  <thead>\n",
       "    <tr style=\"text-align: right;\">\n",
       "      <th></th>\n",
       "      <th>A</th>\n",
       "      <th>B</th>\n",
       "      <th>C</th>\n",
       "    </tr>\n",
       "  </thead>\n",
       "  <tbody>\n",
       "    <tr>\n",
       "      <th>0</th>\n",
       "      <td>1880</td>\n",
       "      <td>-0.18</td>\n",
       "      <td>-0.10</td>\n",
       "    </tr>\n",
       "    <tr>\n",
       "      <th>1</th>\n",
       "      <td>1881</td>\n",
       "      <td>-0.09</td>\n",
       "      <td>-0.14</td>\n",
       "    </tr>\n",
       "    <tr>\n",
       "      <th>2</th>\n",
       "      <td>1882</td>\n",
       "      <td>-0.10</td>\n",
       "      <td>-0.17</td>\n",
       "    </tr>\n",
       "    <tr>\n",
       "      <th>3</th>\n",
       "      <td>1883</td>\n",
       "      <td>-0.18</td>\n",
       "      <td>-0.20</td>\n",
       "    </tr>\n",
       "    <tr>\n",
       "      <th>4</th>\n",
       "      <td>1884</td>\n",
       "      <td>-0.28</td>\n",
       "      <td>-0.23</td>\n",
       "    </tr>\n",
       "    <tr>\n",
       "      <th>...</th>\n",
       "      <td>...</td>\n",
       "      <td>...</td>\n",
       "      <td>...</td>\n",
       "    </tr>\n",
       "    <tr>\n",
       "      <th>138</th>\n",
       "      <td>2018</td>\n",
       "      <td>0.83</td>\n",
       "      <td>0.94</td>\n",
       "    </tr>\n",
       "    <tr>\n",
       "      <th>139</th>\n",
       "      <td>2019</td>\n",
       "      <td>0.98</td>\n",
       "      <td>0.93</td>\n",
       "    </tr>\n",
       "    <tr>\n",
       "      <th>140</th>\n",
       "      <td>2020</td>\n",
       "      <td>1.02</td>\n",
       "      <td>0.94</td>\n",
       "    </tr>\n",
       "    <tr>\n",
       "      <th>141</th>\n",
       "      <td>2021</td>\n",
       "      <td>0.85</td>\n",
       "      <td>0.94</td>\n",
       "    </tr>\n",
       "    <tr>\n",
       "      <th>142</th>\n",
       "      <td>2022</td>\n",
       "      <td>0.89</td>\n",
       "      <td>0.90</td>\n",
       "    </tr>\n",
       "  </tbody>\n",
       "</table>\n",
       "<p>143 rows × 3 columns</p>\n",
       "</div>"
      ],
      "text/plain": [
       "        A     B     C\n",
       "0    1880 -0.18 -0.10\n",
       "1    1881 -0.09 -0.14\n",
       "2    1882 -0.10 -0.17\n",
       "3    1883 -0.18 -0.20\n",
       "4    1884 -0.28 -0.23\n",
       "..    ...   ...   ...\n",
       "138  2018  0.83  0.94\n",
       "139  2019  0.98  0.93\n",
       "140  2020  1.02  0.94\n",
       "141  2021  0.85  0.94\n",
       "142  2022  0.89  0.90\n",
       "\n",
       "[143 rows x 3 columns]"
      ]
     },
     "execution_count": 8,
     "metadata": {},
     "output_type": "execute_result"
    }
   ],
   "source": [
    "df=pd.read_csv(path+filename,names=['A','B','C'])\n",
    "df"
   ]
  },
  {
   "cell_type": "code",
   "execution_count": 9,
   "metadata": {},
   "outputs": [
    {
     "data": {
      "text/plain": [
       "Index(['A', 'B', 'C'], dtype='object')"
      ]
     },
     "execution_count": 9,
     "metadata": {},
     "output_type": "execute_result"
    }
   ],
   "source": [
    "df.columns"
   ]
  },
  {
   "cell_type": "markdown",
   "metadata": {},
   "source": [
    "### Getting data from the dataframe into variables\n",
    "\n",
    "Note: When you are more experienced with Python, you can directly work with dataframes to access data columns. For the moment we extract the data columns and assign them as numpy arrays to variables."
   ]
  },
  {
   "cell_type": "code",
   "execution_count": 10,
   "metadata": {},
   "outputs": [],
   "source": [
    "#### We re-assign the variables now using Pandas methods.\n",
    "year=df['A'].values\n",
    "temp1=df['B'].values\n",
    "temp2=df['C'].values"
   ]
  },
  {
   "cell_type": "code",
   "execution_count": 11,
   "metadata": {
    "tags": []
   },
   "outputs": [
    {
     "name": "stdout",
     "output_type": "stream",
     "text": [
      "Here is some useful info about the variables:\n",
      "-------------------------------------------------------\n",
      "type of year, temp1,temp2:\n",
      "<class 'numpy.ndarray'> <class 'numpy.ndarray'> <class 'numpy.ndarray'>\n",
      "shape of arrays:\n",
      "(143,) (143,) (143,)\n",
      "-------------------------------------------------------\n"
     ]
    }
   ],
   "source": [
    "print (\"Here is some useful info about the variables:\")\n",
    "print (\"-------------------------------------------------------\")\n",
    "print (\"type of year, temp1,temp2:\")\n",
    "print (type(year),type(temp1), type(temp2))\n",
    "print (\"shape of arrays:\")\n",
    "print (np.shape(year),np.shape(temp1),np.shape(temp2))\n",
    "print (\"-------------------------------------------------------\")"
   ]
  },
  {
   "cell_type": "code",
   "execution_count": 12,
   "metadata": {
    "tags": []
   },
   "outputs": [
    {
     "data": {
      "text/html": [
       "<div>\n",
       "<style scoped>\n",
       "    .dataframe tbody tr th:only-of-type {\n",
       "        vertical-align: middle;\n",
       "    }\n",
       "\n",
       "    .dataframe tbody tr th {\n",
       "        vertical-align: top;\n",
       "    }\n",
       "\n",
       "    .dataframe thead th {\n",
       "        text-align: right;\n",
       "    }\n",
       "</style>\n",
       "<table border=\"1\" class=\"dataframe\">\n",
       "  <thead>\n",
       "    <tr style=\"text-align: right;\">\n",
       "      <th></th>\n",
       "      <th>year</th>\n",
       "      <th>temp1</th>\n",
       "      <th>temp2</th>\n",
       "    </tr>\n",
       "  </thead>\n",
       "  <tbody>\n",
       "    <tr>\n",
       "      <th>0</th>\n",
       "      <td>1880</td>\n",
       "      <td>-0.18</td>\n",
       "      <td>-0.10</td>\n",
       "    </tr>\n",
       "    <tr>\n",
       "      <th>1</th>\n",
       "      <td>1881</td>\n",
       "      <td>-0.09</td>\n",
       "      <td>-0.14</td>\n",
       "    </tr>\n",
       "    <tr>\n",
       "      <th>2</th>\n",
       "      <td>1882</td>\n",
       "      <td>-0.10</td>\n",
       "      <td>-0.17</td>\n",
       "    </tr>\n",
       "    <tr>\n",
       "      <th>3</th>\n",
       "      <td>1883</td>\n",
       "      <td>-0.18</td>\n",
       "      <td>-0.20</td>\n",
       "    </tr>\n",
       "    <tr>\n",
       "      <th>4</th>\n",
       "      <td>1884</td>\n",
       "      <td>-0.28</td>\n",
       "      <td>-0.23</td>\n",
       "    </tr>\n",
       "    <tr>\n",
       "      <th>...</th>\n",
       "      <td>...</td>\n",
       "      <td>...</td>\n",
       "      <td>...</td>\n",
       "    </tr>\n",
       "    <tr>\n",
       "      <th>138</th>\n",
       "      <td>2018</td>\n",
       "      <td>0.83</td>\n",
       "      <td>0.94</td>\n",
       "    </tr>\n",
       "    <tr>\n",
       "      <th>139</th>\n",
       "      <td>2019</td>\n",
       "      <td>0.98</td>\n",
       "      <td>0.93</td>\n",
       "    </tr>\n",
       "    <tr>\n",
       "      <th>140</th>\n",
       "      <td>2020</td>\n",
       "      <td>1.02</td>\n",
       "      <td>0.94</td>\n",
       "    </tr>\n",
       "    <tr>\n",
       "      <th>141</th>\n",
       "      <td>2021</td>\n",
       "      <td>0.85</td>\n",
       "      <td>0.94</td>\n",
       "    </tr>\n",
       "    <tr>\n",
       "      <th>142</th>\n",
       "      <td>2022</td>\n",
       "      <td>0.89</td>\n",
       "      <td>0.90</td>\n",
       "    </tr>\n",
       "  </tbody>\n",
       "</table>\n",
       "<p>143 rows × 3 columns</p>\n",
       "</div>"
      ],
      "text/plain": [
       "     year  temp1  temp2\n",
       "0    1880  -0.18  -0.10\n",
       "1    1881  -0.09  -0.14\n",
       "2    1882  -0.10  -0.17\n",
       "3    1883  -0.18  -0.20\n",
       "4    1884  -0.28  -0.23\n",
       "..    ...    ...    ...\n",
       "138  2018   0.83   0.94\n",
       "139  2019   0.98   0.93\n",
       "140  2020   1.02   0.94\n",
       "141  2021   0.85   0.94\n",
       "142  2022   0.89   0.90\n",
       "\n",
       "[143 rows x 3 columns]"
      ]
     },
     "execution_count": 12,
     "metadata": {},
     "output_type": "execute_result"
    }
   ],
   "source": [
    "df=pd.read_csv(path+filename,names=['year','temp1','temp2'])\n",
    "df"
   ]
  },
  {
   "cell_type": "markdown",
   "metadata": {},
   "source": [
    "## 1. Problem: How can we look at the full temperature time series with a decent figure caption, axes labels?"
   ]
  },
  {
   "cell_type": "code",
   "execution_count": null,
   "metadata": {},
   "outputs": [],
   "source": [
    "# Code for your plot."
   ]
  },
  {
   "cell_type": "markdown",
   "metadata": {},
   "source": [
    "## 2. Problem: Can you create a bar plot showing indidual years, and the smoothed curve as thick line for the years 1988-2018?\n",
    "\n",
    "Try an online search for help on \"Python matplotlib setting axis limits\""
   ]
  },
  {
   "cell_type": "code",
   "execution_count": null,
   "metadata": {},
   "outputs": [],
   "source": [
    "# Code for your plot."
   ]
  },
  {
   "cell_type": "markdown",
   "metadata": {},
   "source": [
    "## Further References:\n",
    "    \n",
    " - [plots with matplotlib.pyplot](https://jakevdp.github.io/PythonDataScienceHandbook/04.01-simple-line-plots.html)\n",
    " - [Pandas introduction at W3School](https://www.w3schools.com/python/pandas/default.asp)\n",
    " - [Pandas working with existing CSV data files](https://www.w3schools.com/python/pandas/pandas_csv.asp)"
   ]
  },
  {
   "cell_type": "code",
   "execution_count": null,
   "metadata": {},
   "outputs": [],
   "source": []
  }
 ],
 "metadata": {
  "kernelspec": {
   "display_name": "Python 3 August 2022 Environment",
   "language": "python",
   "name": "aug22"
  },
  "language_info": {
   "codemirror_mode": {
    "name": "ipython",
    "version": 3
   },
   "file_extension": ".py",
   "mimetype": "text/x-python",
   "name": "python",
   "nbconvert_exporter": "python",
   "pygments_lexer": "ipython3",
   "version": "3.10.5"
  }
 },
 "nbformat": 4,
 "nbformat_minor": 4
}
