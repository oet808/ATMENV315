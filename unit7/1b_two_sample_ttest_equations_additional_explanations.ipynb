{
 "cells": [
  {
   "cell_type": "markdown",
   "metadata": {},
   "source": [
    "# Unit 7.1 Two sample t-test:\n",
    "## Working with the equations to calculate the test statistic and the P-value \n",
    "\n",
    "You find in statistical textbooks and online often the detailed decription of the t-test. Things get often confusing when you work with more than one book or online resources because the mathematical notations are different and the equations are slightly different.\n",
    "\n",
    "In this exercise we will compare the results from Scipy's function _ttest_ind_ (in package _scipy.stats_) to the results from the equations given in Appendix A of John Townend's Practical Statistics book, and the equations that the Collaborative Statistics textbook presents in Chapter 10, where they discuss the two-sample t-test (reading the sections 10.1-10.3 is recommended).\n"
   ]
  },
  {
   "cell_type": "code",
   "execution_count": 1,
   "metadata": {},
   "outputs": [],
   "source": [
    "import numpy as np\n",
    "from scipy.stats import ttest_ind, norm\n",
    "import matplotlib.pyplot as plt\n",
    "\n",
    "default = True\n",
    "test_df_formula = True\n",
    "\n",
    "\n",
    "if default:\n",
    "    sample1=np.array([100,107,115,96,102,110,109,103,99,106])\n",
    "    sample2=np.array([95,90,102,100,98,90,100,95,88,105])\n",
    "elif test_df_formula:\n",
    "    sample1=np.array([100,107,115,96,102]) # test df calculation effect ,110,109,103,99,106])\n",
    "    sample2=np.array([95,90,102,100,98,90,100,95,88,105,110,109,103,99,106]) # added the samples here\n",
    "# so df=n1+n2-2 would be the same \n",
    "\n",
    "\n",
    "\n"
   ]
  },
  {
   "cell_type": "code",
   "execution_count": 2,
   "metadata": {},
   "outputs": [
    {
     "name": "stdout",
     "output_type": "stream",
     "text": [
      "Summary statistics : mean,     standard deviation,   sample size\n",
      "------------------------------------------------------------------------\n",
      "sample data set 1  : 104.7000,  33.3444 ,  10.0000 \n",
      "sample data set 2  :  96.3000,  32.2333 ,  10.0000 \n"
     ]
    }
   ],
   "source": [
    "m1, s1, n1 =np.mean(sample1) , np.std(sample1,ddof=1) , np.size(sample1)\n",
    "m2, s2, n2 =np.mean(sample2) , np.std(sample2,ddof=1) , np.size(sample2)\n",
    "\n",
    "print (\"Summary statistics : mean,     standard deviation,   sample size\")\n",
    "print (72*'-')\n",
    "print (\"sample data set 1  : %8.4f, %8.4f , %8.4f \" %(m1,s1**2,n1))\n",
    "print (\"sample data set 2  : %8.4f, %8.4f , %8.4f \" %(m2,s2**2,n2))\n"
   ]
  },
  {
   "cell_type": "code",
   "execution_count": 17,
   "metadata": {},
   "outputs": [
    {
     "data": {
      "image/png": "[encoded data removed]",
      "text/plain": [
       "<Figure size 576x576 with 1 Axes>"
      ]
     },
     "metadata": {
      "needs_background": "light"
     },
     "output_type": "display_data"
    }
   ],
   "source": [
    "plt.figure(figsize=[8,8])\n",
    "# putting the two data arrays into a list\n",
    "# for boxplot comparison\n",
    "dataset= [ sample1, sample2 ]\n",
    "plt.boxplot(dataset,vert=False)\n",
    "plt.xlim([70,120])\n",
    "plt.yticks([])\n",
    "plt.text(75,1,\"sample 1\",fontsize=18)\n",
    "plt.text(75,2,\"sample 2\",fontsize=18)\n",
    "plt.plot(m1,1,'o',color='red', markersize=12,label='mean of sample 1')\n",
    "plt.plot(m2,2,'o',color='orange',markersize=12,label='mean of sample 2')\n",
    "\n",
    "plt.legend\n",
    "\n",
    "\n",
    "# add fitted gaussian to the data\n",
    "x=np.arange(70,120)\n",
    "pdf1=norm.pdf(x,loc=m1,scale=s1)\n",
    "pdf2=norm.pdf(x,loc=m2,scale=s2)\n",
    "plt.plot(x,pdf1*4+0.5,color='red')\n",
    "plt.plot(x,pdf2*4+1.5,color='orange')\n",
    "plt.show()\n"
   ]
  },
  {
   "cell_type": "markdown",
   "metadata": {},
   "source": [
    "## 1 Appendix A: Unpaired t-test example data\n",
    "\n",
    "\n",
    "Equations: \n",
    "\n",
    "\n",
    "(a) Pooled estimate of variance ('pooled variance')\n",
    "\n",
    "$\\Large s_p^2 = \\frac{(n_1-1)\\,s_1^2 + (n_2-1)\\,s_2^2}{n_1+n_2-2}$\n",
    "\n",
    "\n",
    "(b) Test statistic\n",
    "\n",
    "$\\Large t_{df}= \\frac{|\\,\\bar{x_1} -\\bar{x_2}\\,|}{\\sqrt{s_p^2\\,(\\frac{1}{n_1} +\\frac{1}{n_2}})}$\n",
    "\n",
    "The symbol '| |' indicates the absolute value of the difference in the mean(Python function _np.abs_)\n",
    "\n",
    "(c) Degrees of Freedom\n",
    "\n",
    "$ df = n_1+n_2-2$\n",
    "\n"
   ]
  },
  {
   "cell_type": "code",
   "execution_count": 18,
   "metadata": {},
   "outputs": [
    {
     "name": "stdout",
     "output_type": "stream",
     "text": [
      "mean abs difference, sp2, tvalue:   4.666667,  47.851852,   1.306391 \n"
     ]
    }
   ],
   "source": [
    "diff=np.abs(m1-m2)\n",
    "sp2 = ( (n1-1)*s1**2+ (n2-1)*s2**2 ) /(n1+n2-2)\n",
    "tvalue=diff/(np.sqrt(sp2*(1./n1+1./n2)))\n",
    "print (\"mean abs difference, sp2, tvalue: %10.6f, %10.6f, %10.6f \" % (diff,sp2,tvalue))"
   ]
  },
  {
   "cell_type": "code",
   "execution_count": 19,
   "metadata": {},
   "outputs": [],
   "source": [
    "from scipy.stats import ttest_ind\n",
    "from scipy.stats.distributions import t \n",
    "\n",
    "# we will need the function t.cdf to look up the pvalue for our tvalue \n",
    "# with a function call like this pvalue=t.cdf(tvalue,df) \n"
   ]
  },
  {
   "cell_type": "markdown",
   "metadata": {},
   "source": [
    "## 2. Collaborative Statistics (Section 10.2)\n",
    "\n",
    "(a) Estimate the standard error for the difference in the means (Eq 10.1)\n",
    "\n",
    "$\\Large se_{diff} = \\sqrt{\\frac{(s_1)^2}{n_1}+\\frac{(s_2)^2}{n_2}} = \\sqrt{\\frac{s_1^2}{n_1}+\\frac{s_2^2}{n_2}}$\n",
    "\n",
    "Note: This is the Gaussian error propagation equation that you may have encountered in other classes already (e.g. ENV327)"
   ]
  },
  {
   "cell_type": "markdown",
   "metadata": {},
   "source": [
    "(b) Test statistic (Equation 10.2)\n",
    "\n",
    "$\\Large t_{df} = \\frac{|\\bar{x_1}-\\bar{x_2}|}{\\sqrt{\\frac{s_1^2}{n_1} +\\frac{s_2^2}{n_2}}}$\n",
    "\n",
    "Note: The population means $\\mu_1$ and $\\mu_2$ that the authors used in their equation are assumed to be identitical ( $\\mu_1-\\mu_2 = 0)$. That's the null hypothesis test assumption that we always make, so we can ignore them in the traditional t-test situation. Further, we conduct a two-sided test. We are looking for large differences either negative values or positive values, so the absolute difference is used."
   ]
  },
  {
   "cell_type": "markdown",
   "metadata": {},
   "source": [
    "(c) The degrees of freedom estimate (Equation 10.3):\n",
    "\n",
    "$\\Large  df =  \\frac{\\left(\\frac{s_1^2}{n_1} + \\frac{s_2^2}{n_2}\\right)^2}{\\frac{1}{n_1-1}\\, \\left(\\frac{s_1^2}{n_1}\\right)^2 + \\frac{1}{n_2-1}\\, \\left(\\frac{s_2^2}{n_2}\\right)^2}$\n",
    "\n",
    "\n",
    "This is a complicated-looking equation, but it only depends on the samples sizes and the standard deviations. \n",
    "Tip: use helpful variables to store partial terms of the calculation, for example calculate the numerator (top) and denominator (bottom) of the fraction separately and then finally divide. "
   ]
  },
  {
   "cell_type": "markdown",
   "metadata": {},
   "source": [
    "Inspection of the equations shows that the terms\n",
    "\n",
    "$\\frac{s_1^2}{n_1}$ and $\\frac{s_2^2}{n_2}$ are repeatedly used.\n",
    "We assign them to two variables _help1_ and _help2_.\n"
   ]
  },
  {
   "cell_type": "code",
   "execution_count": 20,
   "metadata": {},
   "outputs": [
    {
     "name": "stdout",
     "output_type": "stream",
     "text": [
      "calculated degrees of freedom with 'complicated formula' df = 6.4830\n",
      "simple df calculation df=n1+n2-2:  18\n"
     ]
    }
   ],
   "source": [
    "# Does the degree of freedom actually matter much when we calculate the -p-values Let's have a look at the\n",
    "# t-distribution\n",
    "\n",
    "# calculation of df:\n",
    "\n",
    "help1=s1**2/n1\n",
    "help2=s2**2/n2\n",
    "\n",
    "nominator=(help1+help2)**2\n",
    "denominator= 1/(n1-1)*help1**2 + 1/(n2-1)*help2**2\n",
    "\n",
    "df=nominator/denominator\n",
    "print(\"calculated degrees of freedom with 'complicated formula' df = %.4f\" %(df))\n",
    "print(\"simple df calculation df=n1+n2-2: \", n1+n2-2)\n"
   ]
  },
  {
   "cell_type": "code",
   "execution_count": 21,
   "metadata": {},
   "outputs": [
    {
     "data": {
      "image/png": "[encoded data removed]",
      "text/plain": [
       "<Figure size 432x288 with 1 Axes>"
      ]
     },
     "metadata": {
      "needs_background": "light"
     },
     "output_type": "display_data"
    }
   ],
   "source": [
    "# let's compare the t-distributions for the two degrees of freedom\n",
    "\n",
    "x=np.arange(-5,5.1,0.1)\n",
    "tdist_df_small=t.pdf(x,df=df)\n",
    "tdist_df_large=t.pdf(x,df=n1+n2-2)\n",
    "\n",
    "plt.plot(x,tdist_df_small,color='green',label='df='+str(df))\n",
    "plt.plot(x,tdist_df_large,color='gray',label='df='+str(n1+n2-2))\n",
    "\n",
    "plt.legend()\n",
    "plt.show()\n",
    "\n"
   ]
  },
  {
   "cell_type": "code",
   "execution_count": 22,
   "metadata": {},
   "outputs": [
    {
     "name": "stdout",
     "output_type": "stream",
     "text": [
      "critical t-statistic value in the right tail of the t-distribution:\n",
      "for t-distribution with small df: 1.9176\n",
      "for t-distribution with large df: 1.7341\n"
     ]
    }
   ],
   "source": [
    "# and the lookup for the 0.95 percentile\n",
    "\n",
    "tcrit_small_df=t.ppf(0.95,df=df)\n",
    "tcrit_large_df=t.ppf(0.95,df=n1+n2-2)\n",
    "\n",
    "print(\"critical t-statistic value in the right tail of the t-distribution:\")\n",
    "print(\"for t-distribution with small df: %.4f\" % tcrit_small_df)\n",
    "print(\"for t-distribution with large df: %.4f\" % tcrit_large_df)\n"
   ]
  },
  {
   "cell_type": "markdown",
   "metadata": {},
   "source": [
    "### Key messages:\n",
    "- When the two data samples are not nearly equal in sample size, the df calculation matters!\n",
    "- The more complicated formulas give smaller degree of freedom values\n",
    "- Consequently, thet-distribution becomes wider. This way the p-value calcuation are more conservative (and theoretically more correct, of course) when we use the correct formula.\n",
    "\n",
    "- The ttest_ind() functions makes use of the correct degree of freedom calculation.\n"
   ]
  },
  {
   "cell_type": "markdown",
   "metadata": {},
   "source": [
    "## Summary and Conclusion\n",
    "\n",
    "- We can reproduced the results of the scipy.stats function _ttest-ind_. At large samples sizes and when the standard deviations in the two samples are nearly the same, the t-test results are giving us essentially the same numerical results.\n",
    "\n",
    "- It is important to remember that the p-value returned from the function _ttest_ind_ is for a two-sided test.\n",
    "You can use it directly in comparison with your 2-sided alpha value (pvalue<0.05 to reject the null hypothesis).\n",
    "\n",
    "- You can use the sample sizes, means, and standard deviations (6 numerical values) to calculate p-values even if you don't have the full data available. That would allow you to validate results published in research reports, for example.\n"
   ]
  }
 ],
 "metadata": {
  "kernelspec": {
   "display_name": "Python 3 August 2021 Environment",
   "language": "python",
   "name": "aug21"
  },
  "language_info": {
   "codemirror_mode": {
    "name": "ipython",
    "version": 3
   },
   "file_extension": ".py",
   "mimetype": "text/x-python",
   "name": "python",
   "nbconvert_exporter": "python",
   "pygments_lexer": "ipython3",
   "version": "3.8.10"
  }
 },
 "nbformat": 4,
 "nbformat_minor": 4
}
