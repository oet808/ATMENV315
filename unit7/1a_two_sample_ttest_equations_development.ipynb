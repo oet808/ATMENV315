{
 "cells": [
  {
   "cell_type": "markdown",
   "metadata": {},
   "source": [
    "# Unit 7.1 Two sample t-test:\n",
    "## Working with the equations to calculate the test statistic and the P-value \n",
    "\n",
    "You find in statistical textbooks and online often the detailed decription of the t-test. Things get often confusing when you work with more than one book or online resources because the mathematical notations are different and the equations are slightly different.\n",
    "\n",
    "In this exercise we will compare the results from Scipy's function _ttest_ind_ (in package _scipy.stats_) to the results from the equations given in Appendix A of John Townend's Practical Statistics book, and the equations that the Collaborative Statistics textbook presents in Chapter 10, where they discuss the two-sample t-test (reading the sections 10.1-10.3 is recommended).\n"
   ]
  },
  {
   "cell_type": "code",
   "execution_count": 1,
   "metadata": {},
   "outputs": [],
   "source": [
    "import numpy as np\n",
    "from scipy.stats import ttest_ind, norm\n",
    "import matplotlib.pyplot as plt\n",
    "\n",
    "sample1=np.array([100,107,115,96,102,110,109,103,99,106])\n",
    "sample2=np.array([95,90,102,100,98,90,100,95,88,105])\n",
    "\n"
   ]
  },
  {
   "cell_type": "markdown",
   "metadata": {},
   "source": [
    "## 1 Townend's book Appendix A: Unpaired t-test example data\n",
    "\n",
    "\n",
    "Equations: \n",
    "\n",
    "\n",
    "(a) Pooled estimate of variance ('pooled variance')\n",
    "\n",
    "$\\Large s_p^2 = \\frac{(n_1-1)\\,s_1^2 + (n_2-1)\\,s_2^2}{n_1+n_2-2}$\n",
    "\n",
    "\n",
    "(b) Test statistic\n",
    "\n",
    "$\\Large t_{df}= \\frac{|\\,\\bar{x_1} -\\bar{x_2}\\,|}{\\sqrt{s_p^2\\,(\\frac{1}{n_1} +\\frac{1}{n_2}})}$\n",
    "\n",
    "The symbol '| |' indicates the absolute value of the difference in the mean(Python function _np.abs_)\n",
    "\n",
    "(c) Degrees of Freedom\n",
    "\n",
    "$ df = n_1+n_2-2$\n",
    "\n"
   ]
  },
  {
   "cell_type": "code",
   "execution_count": 2,
   "metadata": {},
   "outputs": [
    {
     "name": "stdout",
     "output_type": "stream",
     "text": [
      "Summary statistics : mean,     variance,   sample size\n",
      "------------------------------------------------------------------------\n",
      "sample data set 1  : 104.7000,  33.3444 ,   10\n",
      "sample data set 2  :  96.3000,  32.2333 ,   10\n"
     ]
    }
   ],
   "source": [
    "m1, s1, n1 =np.mean(sample1) , np.std(sample1,ddof=1) , np.size(sample1)\n",
    "m2, s2, n2 =np.mean(sample2) , np.std(sample2,ddof=1) , np.size(sample2)\n",
    "\n",
    "print (\"Summary statistics : mean,     variance,   sample size\")\n",
    "print (72*'-')\n",
    "# see note of the formatting of float and integer numbers at the end of this notebook.\n",
    "print (f\"sample data set 1  : {m1:8.4f}, {s1**2:8.4f} , {n1:4d}\")\n",
    "print (f\"sample data set 2  : {m2:8.4f}, {s2**2:8.4f} , {n2:4d}\")\n"
   ]
  },
  {
   "cell_type": "code",
   "execution_count": null,
   "metadata": {},
   "outputs": [],
   "source": [
    "# code for calculation of \n",
    "# (1) absolute difference in the mean\n",
    "# (2) degrees of freedom\n",
    "# (3) pooled variance\n",
    "# (4) the test statistic (t-value)"
   ]
  },
  {
   "cell_type": "code",
   "execution_count": 3,
   "metadata": {},
   "outputs": [],
   "source": [
    "from scipy.stats import ttest_ind\n",
    "from scipy.stats.distributions import t \n",
    "\n",
    "# code for calculation of the p-values\n",
    "# and for using the scipy function ttest_ind\n",
    "\n",
    "# we will need the function t.cdf to look up the pvalue for our tvalue \n",
    "# with a function call like this pvalue=t.cdf(tvalue,df) \n"
   ]
  },
  {
   "cell_type": "markdown",
   "metadata": {},
   "source": [
    "## 2. Collaborative Statistics (Section 10.2)\n",
    "\n",
    "(a) Estimate the standard error for the difference in the means (Eq 10.1)\n",
    "\n",
    "$\\Large se_{diff} = \\sqrt{\\frac{(s_1)^2}{n_1}+\\frac{(s_2)^2}{n_2}} = \\sqrt{\\frac{s_1^2}{n_1}+\\frac{s_2^2}{n_2}}$\n",
    "\n",
    "Note: This is the Gaussian error propagation equation that you may have encountered in other classes already (e.g. ENV327)"
   ]
  },
  {
   "cell_type": "markdown",
   "metadata": {},
   "source": [
    "(b) Test statistic (Equation 10.2)\n",
    "\n",
    "$\\Large t_{df} = \\frac{|\\bar{x_1}-\\bar{x_2}|}{\\sqrt{\\frac{s_1^2}{n_1} +\\frac{s_2^2}{n_2}}}$\n",
    "\n",
    "Note: The population means $\\mu_1$ and $\\mu_2$ that the authors used in their equation are assumed to be identitical ( $\\mu_1-\\mu_2 = 0)$. That's the null hypothesis test assumption that we always make, so we can ignore them in the traditional t-test situation. Further, we conduct a two-sided test. We are looking for large differences either negative values or positive values, so the absolute difference is used."
   ]
  },
  {
   "cell_type": "markdown",
   "metadata": {},
   "source": [
    "(c) The degrees of freedom estimate (Equation 10.3):\n",
    "\n",
    "$\\Large  df =  \\frac{\\left(\\frac{s_1^2}{n_1} + \\frac{s_2^2}{n_2}\\right)^2}{\\frac{1}{n_1-1}\\, \\left(\\frac{s_1^2}{n_1}\\right)^2 + \\frac{1}{n_2-1}\\, \\left(\\frac{s_2^2}{n_2}\\right)^2}$\n",
    "\n",
    "\n",
    "This is a complicated-looking equation, but it only depends on the samples sizes and the standard deviations. \n",
    "Tip: use helpful variables to store partial terms of the calculation, for example calculate the numerator (top) and denominator (bottom) of the fraction separately and then finally divide. "
   ]
  },
  {
   "cell_type": "markdown",
   "metadata": {},
   "source": [
    "Inspection of the equations shows that the terms\n",
    "\n",
    "$\\frac{s_1^2}{n_1}$ and $\\frac{s_2^2}{n_2}$ are repeatedly used.\n",
    "We assign them to two variables _help1_ and _help2_.\n"
   ]
  },
  {
   "cell_type": "code",
   "execution_count": null,
   "metadata": {},
   "outputs": [],
   "source": [
    "# code for calculation of the degrees of freedom with the equations from \n",
    "# the collaborative statistics book "
   ]
  },
  {
   "cell_type": "markdown",
   "metadata": {},
   "source": [
    "---\n",
    "## Summary and Conclusion\n",
    "\n",
    "- We can reproduced the results of the scipy.stats function _ttest-ind_. At large samples sizes and when the standard deviations in the two samples are nearly the same, the t-test results are giving us essentially the same numerical results.\n",
    "\n",
    "- It is important to remember that the p-value returned from the function _ttest_ind_ is for a two-sided test.\n",
    "You can use it directly in comparison with your 2-sided alpha value (pvalue<0.05 to reject the null hypothesis).\n",
    "\n",
    "- You can use the sample sizes, means, and standard deviations (6 numerical values) to calculate p-values even if you don't have the full data available. That would allow you to validate results published in research reports, for example.\n"
   ]
  },
  {
   "cell_type": "markdown",
   "metadata": {},
   "source": [
    "---\n",
    "### Appendix: f-string formatting of real and integer numbers in strings\n",
    "\n",
    "We use f-strings for combining text with numbers in strings:\n",
    "the syntax is f\"string with number x={x:fmt}\" where\n",
    "x is a variable (type float, integer) and :fmt \n",
    "represents the formatting instruction how to print the number\n",
    "floating point numbers you can specify the rounding precision\n",
    "\n",
    "#### Examples\n",
    "_{x:.4f}_  creates a real number representation of the value in x rounded to four decimals\n",
    "\n",
    "_{x:10.4f}_  creates a real number representation of the value in x rounded to four decimals\n",
    "and total character length of 10 (e.g., *'___19.1234'*). \n",
    "\n",
    "For integer you can use _{i:4}_ or _{i:04}_ to control the presentation of the integer values (likewise _{i:4d}_ or _{i:04d}_)"
   ]
  },
  {
   "cell_type": "code",
   "execution_count": null,
   "metadata": {},
   "outputs": [],
   "source": [
    "#Examples:\n",
    "x=19.1234131\n",
    "print(f\"x={x:.4f}\")\n",
    "print(f\"x={x:10.4f}\")\n",
    "i=14\n",
    "print(f\"i={i:4}\")\n",
    "print(f\"i={i:04}\")"
   ]
  }
 ],
 "metadata": {
  "kernelspec": {
   "display_name": "Python 3 August 2021 Environment",
   "language": "python",
   "name": "aug21"
  },
  "language_info": {
   "codemirror_mode": {
    "name": "ipython",
    "version": 3
   },
   "file_extension": ".py",
   "mimetype": "text/x-python",
   "name": "python",
   "nbconvert_exporter": "python",
   "pygments_lexer": "ipython3",
   "version": "3.8.10"
  }
 },
 "nbformat": 4,
 "nbformat_minor": 4
}
