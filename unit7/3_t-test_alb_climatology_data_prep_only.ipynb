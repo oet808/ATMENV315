{
 "cells": [
  {
   "cell_type": "markdown",
   "metadata": {},
   "source": [
    "# Unit 7.3 Data preparation for T-test on the 30-year temperature means.\n",
    "\n",
    "__This script is run once to extract two sample data from the monthly-mean temperature data.__\n"
   ]
  },
  {
   "cell_type": "markdown",
   "metadata": {},
   "source": [
    "### 0. Required data files and Python files  (see below)\n"
   ]
  },
  {
   "cell_type": "markdown",
   "metadata": {
    "tags": []
   },
   "source": [
    "#### (1) Python module \"support.py\"\n",
    "\n",
    "In this script you notice we do not define the function for downloading the data from the ACIS server. \n",
    "\n",
    "Instead, we can separate the function definitions from our Notebook and import the functions with the same syntax that we use to import packages like _numpy_ or _scipy.stats_. This importing of Python code from separate files is known as import of _modules_. (The file is pure Python code and must have the extension *.py*.) \n",
    "\n",
    "Our Python script is called support.py (see GitHub repository unit6, download the script file, and upload it here into directory *unit6*). Note the ending must be .py for this Python code text file. This is referred to as 'import of modules'.\n",
    "\n",
    "**Download the file support.py from GitHub (see folder unit8) and upload it into the same folder where you have this notebook file. The file must be named _support.py_ !**\n",
    "\n",
    "Note: Packages are more complex, consisting of entire folders and subfolders with Python code. So modules are much simpler to maintain and a good first start to get your useful functions organized.\n",
    "\n",
    "\n",
    "#### (2) ghcnd_stations_NY.txt\n",
    "\n",
    "In this notebook we read a list of station id numbers (and additional 'metadata' information) from a text file that has all of the NY stations listed. Many stations do not have complete time series over the whole time period, so those are discarded.\n",
    "\n",
    "**Download the file _ghcnd_stations_NY.txt_ from GitHub (see folder data) and upload it into the same folder where you have this notebook file, or put it into your data folder that you used already throughout the course. Remember that you may have to update the path name in the code below when you read this text file. Default is that you have a folder in the parent directory _../data/_ in which the file is located."
   ]
  },
  {
   "cell_type": "markdown",
   "metadata": {},
   "source": [
    "### 1.2 Importing all packages and our own module\n",
    "\n",
    "And check what we imported and how the functions work."
   ]
  },
  {
   "cell_type": "code",
   "execution_count": null,
   "metadata": {},
   "outputs": [],
   "source": [
    "# Python code convention is that standard packages are imported first\n",
    "import pandas as pd\n",
    "import support as spt"
   ]
  },
  {
   "cell_type": "markdown",
   "metadata": {},
   "source": [
    "### 1. Getting the station data from the server\n",
    "\n",
    "(returned in a Pandas DataFrame object)\n",
    "\n"
   ]
  },
  {
   "cell_type": "code",
   "execution_count": null,
   "metadata": {},
   "outputs": [],
   "source": [
    "df=spt.get_stationdata_monthly(\"USW00014735\",\"avgt\",startyear=1950,endyear=2020)\n",
    "\n",
    "# split into the two sub-samples\n",
    "\n",
    "df1=df.query(\"year >= 1951 and year <= 1980\")\n",
    "df2=df.query(\"year >= 1991 and year <= 2020\")\n"
   ]
  },
  {
   "cell_type": "markdown",
   "metadata": {},
   "source": [
    "### 2. We introduce here a new Pandas DataFrame method:\n",
    "We pick a column (here column ___'month'___) with a set of unique 'labels' (in our case we use the integer numbers representing the months Jan to Dec (1 to 12).\n",
    "The result we put into variable ___dfg___ (helps me to remember it is a grouped DataFrame)\n",
    "\n",
    "___df.groupby('month')___"
   ]
  },
  {
   "cell_type": "code",
   "execution_count": null,
   "metadata": {},
   "outputs": [],
   "source": [
    "df1g=df1.groupby('month')\n",
    "df2g=df2.groupby('month')\n",
    "df1g # note, it's not behaving like a normal dataframe any more, it's a differnt data type"
   ]
  },
  {
   "cell_type": "markdown",
   "metadata": {},
   "source": [
    "### 3. Export data for each months into individual CSV files\n",
    "\n"
   ]
  },
  {
   "cell_type": "code",
   "execution_count": null,
   "metadata": {},
   "outputs": [],
   "source": [
    "monthlist=[1,2,3,4,5,6, \n",
    "           7,8,9,10,11,12]\n",
    "monthstr=['Jan','Feb','Mar','Apr','May','Jun',\n",
    "        'Jul','Aug','Sep','Oct','Nov','Dec']\n",
    "\n",
    "for m in monthlist:\n",
    "    file1=f\"sample1_{monthstr[m-1]}.csv\"\n",
    "    sample1=df1g.get_group(m)\n",
    "    sample1.to_csv(file1)\n",
    "        \n",
    "    file2=f\"sampel2_{monthstr[m-1]}.csv\"\n",
    "    sample2=df2g.get_group(m)\n",
    "    sample2.to_csv(file2)\n",
    "    print(\"exported data to files \"+file1+\" \"+file2)\n"
   ]
  }
 ],
 "metadata": {
  "kernelspec": {
   "display_name": "Python 3 August 2022 Environment",
   "language": "python",
   "name": "aug22"
  },
  "language_info": {
   "codemirror_mode": {
    "name": "ipython",
    "version": 3
   },
   "file_extension": ".py",
   "mimetype": "text/x-python",
   "name": "python",
   "nbconvert_exporter": "python",
   "pygments_lexer": "ipython3",
   "version": "3.10.5"
  }
 },
 "nbformat": 4,
 "nbformat_minor": 4
}
