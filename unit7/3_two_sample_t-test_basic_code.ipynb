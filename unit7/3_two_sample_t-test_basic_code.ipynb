{
 "cells": [
  {
   "cell_type": "markdown",
   "metadata": {},
   "source": [
    "# Unit 7.3 Basic code solution for two-sample T-test application \n",
    "\n",
    "### (Example: detect temperature changes in climate data)\n",
    "\n",
    "Same as the 7.2 Notebook, here we reduced the notebook code to the essential components.\n",
    "Starting point is loading in two data samples from two files.\n",
    "\n",
    "\n",
    "#### H0: There is no difference in the means between the two data samples!\n"
   ]
  },
  {
   "cell_type": "markdown",
   "metadata": {},
   "source": [
    "### 1. Importing all packages and our own module\n",
    "\n",
    "And check what we imported and how the functions work."
   ]
  },
  {
   "cell_type": "code",
   "execution_count": null,
   "metadata": {},
   "outputs": [],
   "source": [
    "# Python code convention is that standard packages are imported first\n",
    "import numpy as np\n",
    "import pandas as pd\n",
    "import matplotlib.pyplot as plt\n",
    "from scipy import stats"
   ]
  },
  {
   "cell_type": "code",
   "execution_count": null,
   "metadata": {},
   "outputs": [],
   "source": [
    "monthlist=[1,2,3,4,5,6, \n",
    "           7,8,9,10,11,12]\n",
    "monthstr=['Jan','Feb','Mar','Apr','May','Jun',\n",
    "        'Jul','Aug','Sep','Oct','Nov','Dec']\n",
    "\n",
    "m=1 # choose your month!\n",
    "mon=monthstr[m-1]\n",
    "file1=f\"sample1_{mon}.csv\"\n",
    "df1=pd.read_csv(file1)\n",
    "file2=f\"sampel2_{mon}.csv\"\n",
    "df2=pd.read_csv(file2)\n",
    "print(\"loaded sample data from files \"+file1+\" \"+file2)"
   ]
  },
  {
   "cell_type": "code",
   "execution_count": null,
   "metadata": {},
   "outputs": [],
   "source": [
    "df1"
   ]
  },
  {
   "cell_type": "code",
   "execution_count": null,
   "metadata": {},
   "outputs": [],
   "source": [
    "df2"
   ]
  },
  {
   "cell_type": "markdown",
   "metadata": {},
   "source": [
    "### 2. T-test calculations with the Scipy package function\n",
    "\n",
    "#### 2-sided t-test at significance level %5  (p<0.05)\n",
    "`stats.ttest_ind(sample1,sample2,equal_var=False)`"
   ]
  },
  {
   "cell_type": "markdown",
   "metadata": {},
   "source": [
    "### NOTE: We assume that the sample data were cleared from np.nan values\n",
    "\n",
    "If there are nan-values, consider using filter methods (e.g. Pandas `dropna()` method)"
   ]
  },
  {
   "cell_type": "code",
   "execution_count": null,
   "metadata": {},
   "outputs": [],
   "source": [
    "# out data from the data frames\n",
    "sample1=df1['avgt']\n",
    "sample2=df2['avgt'] \n",
    "\n",
    "# significance level for the two-sided t-test\n",
    "alpha=0.05\n",
    "#########################################################\n",
    "# the t-test function call\n",
    "#########################################################\n",
    "t,pvalue=stats.ttest_ind(sample1,sample2,equal_var=False)\n",
    "\n",
    "print(f\"Perform t-test for differences in the mean for month {mon}\")\n",
    "print(80*\"-\")\n",
    "print(f\"mean   of sample 1: {sample1.mean():.2f} F and mean  of sample 2: {sample2.mean():.2f} F\")\n",
    "print(f\"stddev of sample 1: {sample1.std():.2f} F and stddev of sample 2: {sample2.std():.2f} F\")\n",
    "print(f\"(size of  sample 1: {sample1.size} and size of sample 2: {sample2.size})\")\n",
    "d=sample2.mean()-sample1.mean()\n",
    "if pvalue<0.05:\n",
    "    relation='<'\n",
    "    decision='(significant)' \n",
    "else:\n",
    "    relation='>'\n",
    "    decision='(not significant)'\n",
    "print(f\"difference = {d:.3f}, t-value={t:.3f}, p={pvalue:.6f} {relation} {alpha:.6f} {decision}\")"
   ]
  },
  {
   "cell_type": "markdown",
   "metadata": {},
   "source": [
    "---\n",
    "### References\n",
    "\n",
    "- [Function ttest_ind from scipy.stats](https://docs.scipy.org/doc/scipy/reference/generated/scipy.stats.ttest_ind.html)\n",
    "- [Welch's form of the t-test](https://en.wikipedia.org/wiki/Welch%27s_t-test) (ttest_ind supports calculating this test statistic when we set the keyword parameter _equal_var=False_)"
   ]
  },
  {
   "cell_type": "code",
   "execution_count": null,
   "metadata": {},
   "outputs": [],
   "source": []
  }
 ],
 "metadata": {
  "kernelspec": {
   "display_name": "Python 3 August 2022 Environment",
   "language": "python",
   "name": "aug22"
  },
  "language_info": {
   "codemirror_mode": {
    "name": "ipython",
    "version": 3
   },
   "file_extension": ".py",
   "mimetype": "text/x-python",
   "name": "python",
   "nbconvert_exporter": "python",
   "pygments_lexer": "ipython3",
   "version": "3.10.5"
  }
 },
 "nbformat": 4,
 "nbformat_minor": 4
}
