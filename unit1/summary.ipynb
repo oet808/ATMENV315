{
 "cells": [
  {
   "cell_type": "markdown",
   "metadata": {},
   "source": [
    "# Unit 1: Summary"
   ]
  },
  {
   "cell_type": "markdown",
   "metadata": {},
   "source": [
    "## 1.1 Running Python cells \n",
    "Python cells are interpreted by the Python kernel. \n",
    "The kernel is a background process that translates your Python code into \n",
    "machine code. Syntax errors ('grammatically' incorrect code) will cause an error message from the kernel."
   ]
  },
  {
   "cell_type": "markdown",
   "metadata": {},
   "source": [
    "## 1.2 Python distinguishes data types. \n",
    "\n",
    "We have learned about the types _int_, _float_, and _string_.\n",
    "In addition a _boolean_ type was introduced."
   ]
  },
  {
   "cell_type": "code",
   "execution_count": null,
   "metadata": {},
   "outputs": [],
   "source": [
    "42 # integer\n",
    "3.1415 # float\n",
    "\"Quotation marks indicate strings\" # string\n",
    "False # bool\n",
    "True  # bool "
   ]
  },
  {
   "cell_type": "markdown",
   "metadata": {},
   "source": [
    "## 1.3 Operators in Python\n",
    "\n",
    "### 1.3.1 Applied with numbers\n",
    "Operators is a general term for instructions to the computer such as addition, subtraction, multiplication, division, exponent. They behave 'normal' when we apply them to numbers.\n",
    "\n",
    "The typical operators are used with two data: "
   ]
  },
  {
   "cell_type": "code",
   "execution_count": null,
   "metadata": {},
   "outputs": [],
   "source": [
    "print(1+2.1)\n",
    "print(2-1)\n",
    "print(100*5)\n",
    "print(10/7)\n",
    "print(2**3)"
   ]
  },
  {
   "cell_type": "markdown",
   "metadata": {},
   "source": [
    "### 1.3.2 Applied with strings\n",
    "\n",
    "The '+' sign has a different functionality when we apply them to strings.\n",
    "The '+' concatenates two strings\n",
    "\n",
    "Note: 'True + True' is allowed operation in Python. In this case True is treated like 1 and False as 0 and numbers are added!"
   ]
  },
  {
   "cell_type": "code",
   "execution_count": null,
   "metadata": {},
   "outputs": [],
   "source": [
    "print (\"ATM\"+\"ENV\"+\"315\")"
   ]
  },
  {
   "cell_type": "code",
   "execution_count": null,
   "metadata": {},
   "outputs": [],
   "source": [
    "print (True + True)"
   ]
  },
  {
   "cell_type": "markdown",
   "metadata": {},
   "source": [
    "## 1.4  Useful Functions that we introduced:\n",
    "\n",
    "- print\n",
    "- type\n",
    "- int\n",
    "- float\n",
    "- string\n",
    "- help\n",
    "- abs\n"
   ]
  },
  {
   "cell_type": "markdown",
   "metadata": {},
   "source": [
    "## 1.5 Variables\n",
    "\n",
    "Variables are created by assigning an object (data) to a name.\n",
    "Remember that Python distinguishes small and captial letters.\n",
    "Valid names are for example:"
   ]
  },
  {
   "cell_type": "code",
   "execution_count": null,
   "metadata": {},
   "outputs": [],
   "source": [
    "i=100 # for integer\n",
    "x=3.1 # for float\n",
    "y=x**2 # for float\n",
    "iss_longitude=-145.35\n",
    "alert=True"
   ]
  },
  {
   "cell_type": "markdown",
   "metadata": {},
   "source": [
    "- Not allowed as variables names are numbers or names starting with numbers (1234, 1xy).\n",
    "- Rule of thumb: Not allowed are names including a special characters (except underscore)\n",
    "- Not allowed are variable names that match reserved python keywords (such as _if_, _else_, _pass_)\n",
    "\n",
    "- **Never use function names such as print, int, float, str for variable names!**\n",
    "(Curious students can try the example below. Restart the kernel afterwards to get your function *print* back)"
   ]
  },
  {
   "cell_type": "code",
   "execution_count": null,
   "metadata": {},
   "outputs": [],
   "source": [
    "# uncomment this line below to see what a great problem it will create!\n",
    "#print=\"hello there\" "
   ]
  },
  {
   "cell_type": "code",
   "execution_count": null,
   "metadata": {},
   "outputs": [],
   "source": [
    "print (\"pi=\"+str(3.1415))"
   ]
  },
  {
   "cell_type": "markdown",
   "metadata": {},
   "source": [
    "## 1.5.1 Variables are \"pointing to our data in the computer's memory\"\n",
    "\n",
    "In Python you can define new variables anywhere in the code.\n",
    "You can reassign data to a variable name that you defined already before.\n",
    "The kernel keeps track of the re-assignment and your variable points to the new object in the computer's memory. \n",
    "\n",
    "Variables can be updated using itself on the right-hand side!\n"
   ]
  },
  {
   "cell_type": "code",
   "execution_count": null,
   "metadata": {},
   "outputs": [],
   "source": [
    "j=0\n",
    "j=j+1 #is allowed! (It is not a mathematical equation!)\n",
    "print (j)"
   ]
  }
 ],
 "metadata": {
  "kernelspec": {
   "display_name": "Python 3 (ipykernel)",
   "language": "python",
   "name": "python3"
  },
  "language_info": {
   "codemirror_mode": {
    "name": "ipython",
    "version": 3
   },
   "file_extension": ".py",
   "mimetype": "text/x-python",
   "name": "python",
   "nbconvert_exporter": "python",
   "pygments_lexer": "ipython3",
   "version": "3.11.7"
  }
 },
 "nbformat": 4,
 "nbformat_minor": 4
}
