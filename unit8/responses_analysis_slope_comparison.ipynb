{
 "cells": [
  {
   "cell_type": "code",
   "execution_count": 1,
   "id": "b5d81809-ec3e-4678-8b0c-efddb6ee3fb0",
   "metadata": {},
   "outputs": [],
   "source": [
    "# summary of the survey results: slope estimates\n",
    "\n",
    "import numpy as np\n",
    "import matplotlib.pyplot as plt\n",
    "plt.style.use(\"default\")\n",
    "from scipy.stats import linregress\n",
    "import pandas as pd\n",
    "%matplotlib inline"
   ]
  },
  {
   "cell_type": "code",
   "execution_count": 7,
   "id": "d00064e2-9513-4a70-b78c-3e8349e60296",
   "metadata": {},
   "outputs": [
    {
     "data": {
      "text/plain": [
       "Index(['ID', 'Start time', 'Completion time', 'Email', 'Name',\n",
       "       'Slope estimate for scatter plot x-axis third exam score, y-axis final exam score',\n",
       "       'Slope estimate for scatter plot y-axis third exam score, x-axis final exam score',\n",
       "       'semester'],\n",
       "      dtype='object')"
      ]
     },
     "execution_count": 7,
     "metadata": {},
     "output_type": "execute_result"
    }
   ],
   "source": [
    "df=pd.read_csv(\"responses_activity_fitting_linear_regression_visually.csv\")\n",
    "dfg=df.groupby('semester')\n",
    "df.columns"
   ]
  },
  {
   "cell_type": "code",
   "execution_count": 8,
   "id": "486b46f8-4584-4877-b8d1-71c97764f33f",
   "metadata": {},
   "outputs": [],
   "source": [
    "b1=dfg.get_group(2023)['Slope estimate for scatter plot x-axis third exam score, y-axis final exam score']\n",
    "b2=dfg.get_group(2023)['Slope estimate for scatter plot y-axis third exam score, x-axis final exam score']"
   ]
  },
  {
   "cell_type": "code",
   "execution_count": 22,
   "id": "38364a38-9b0b-406d-9dda-20a4fe7eb988",
   "metadata": {},
   "outputs": [
    {
     "name": "stdout",
     "output_type": "stream",
     "text": [
      "2.40704347826087\n",
      "0.6266959930260112\n"
     ]
    }
   ],
   "source": [
    "print(b1.values.mean())\n",
    "print(b1.values.std())"
   ]
  },
  {
   "cell_type": "code",
   "execution_count": 23,
   "id": "95e8c5df-36e1-4991-bdc6-a56eb40f57ea",
   "metadata": {},
   "outputs": [
    {
     "name": "stdout",
     "output_type": "stream",
     "text": [
      "0.47791304347826086\n",
      "0.1653223236572511\n"
     ]
    }
   ],
   "source": [
    "print(b2.values.mean())\n",
    "print(b2.values.std())"
   ]
  },
  {
   "cell_type": "code",
   "execution_count": 24,
   "id": "946df197-ae86-48ff-98fd-75745e3c8f1c",
   "metadata": {},
   "outputs": [
    {
     "name": "stdout",
     "output_type": "stream",
     "text": [
      "testing the inverse relationship between the two slopes: b1*b2 = 1?\n",
      "1.1503574744801512\n"
     ]
    }
   ],
   "source": [
    "print(\"testing the inverse relationship between the two slopes: b1*b2 = 1?\")\n",
    "print(b1.values.mean()*b2.values.mean())\n",
    "\n",
    "\n"
   ]
  },
  {
   "cell_type": "code",
   "execution_count": null,
   "id": "58a552e1-7902-497e-94c0-f328b777dc2b",
   "metadata": {},
   "outputs": [],
   "source": []
  }
 ],
 "metadata": {
  "kernelspec": {
   "display_name": "Python 3 August 2022 Environment",
   "language": "python",
   "name": "aug22"
  },
  "language_info": {
   "codemirror_mode": {
    "name": "ipython",
    "version": 3
   },
   "file_extension": ".py",
   "mimetype": "text/x-python",
   "name": "python",
   "nbconvert_exporter": "python",
   "pygments_lexer": "ipython3",
   "version": "3.10.5"
  }
 },
 "nbformat": 4,
 "nbformat_minor": 5
}
