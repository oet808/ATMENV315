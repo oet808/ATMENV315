{
 "cells": [
  {
   "cell_type": "markdown",
   "metadata": {},
   "source": [
    "# Unit 8 Linear Regression\n",
    "## Activity: Fitting a linear regression line using intuitive visual approach.\n",
    "\n",
    "\n",
    "This script allows you to interact with the figures and adjust the intercept and slope\n",
    "of the line. \n",
    "\n",
    "Example data are taken from Collaborative Statistics Book Fig. 12.7:\n",
    "\n",
    "**Third exams score and Final exams score**"
   ]
  },
  {
   "cell_type": "code",
   "execution_count": null,
   "metadata": {},
   "outputs": [],
   "source": [
    "# -*- coding: utf-8 -*-\n",
    "\"\"\"\n",
    "\n",
    "@author: Oliver Elison Timm\n",
    "\n",
    "History:\n",
    "2022-04-27 removed all interactive widgets and converted into \n",
    "           regular notebook activity. \n",
    "\n",
    "\"\"\"\n",
    "\n",
    "import numpy as np\n",
    "import matplotlib.pyplot as plt\n",
    "plt.style.use(\"default\")\n",
    "from scipy.stats import linregress\n",
    "import pandas as pd\n",
    "%matplotlib inline"
   ]
  },
  {
   "cell_type": "markdown",
   "metadata": {},
   "source": [
    "### Example data: Third exam scores and final exam scores"
   ]
  },
  {
   "cell_type": "code",
   "execution_count": null,
   "metadata": {},
   "outputs": [],
   "source": [
    "##############################################################\n",
    "# Grade scores for the third (x) and final exam (y)\n",
    "##############################################################\n",
    "x=np.array([ 65, 67, 71, 71, 66, 75, 67, 70, 71, 69, 69])\n",
    "y=np.array([175,133,185,163,126,198,153,163,159,151,159])\n",
    "\n",
    "\n",
    "    "
   ]
  },
  {
   "cell_type": "code",
   "execution_count": null,
   "metadata": {},
   "outputs": [],
   "source": [
    "def SSE(x,y,slope,intercept=0):\n",
    "    \"\"\"Calculate SSE for a guessed linear regression line\n",
    "    \n",
    "    Input parameter:\n",
    "        x,y (1d numpy array): \n",
    "            the numpy arrays with the data points\n",
    "        slope (float): \n",
    "            real value for the regression line slope\n",
    "        \n",
    "        intercept (float): intercept of the line (default 0)\n",
    "    Returns:\n",
    "        The SSE value (float)\n",
    "    \"\"\"\n",
    "    yhat=intercept+slope*x\n",
    "    error=y-yhat\n",
    "    result=0\n",
    "    for e in error:\n",
    "        result=result+e**2\n",
    "    return result\n",
    "\n",
    "\n",
    "   "
   ]
  },
  {
   "cell_type": "markdown",
   "metadata": {},
   "source": [
    "## Task 1: Enter slope and intercept and calculate fitted the line\n",
    "\n",
    "#### Calculates the SSE\n",
    "\n",
    "What is visually the best fitting line? Adjust the slope and estimate visually the line that intuitively fits best to the data. Here, we work with the absolute scores, below we will work with centered data.\n"
   ]
  },
  {
   "cell_type": "markdown",
   "metadata": {},
   "source": [
    "### Enter your guess values for the line parameters: intercept (a) and slope (b)\n",
    "\n",
    "\n",
    "#### Example for girst guess values values: y = 50 +1.5*x \n"
   ]
  },
  {
   "cell_type": "code",
   "execution_count": null,
   "metadata": {},
   "outputs": [],
   "source": [
    "a=float(input(\"Enter intercept a =\"))\n",
    "b=float(input(\"Enter slope b = \"))"
   ]
  },
  {
   "cell_type": "code",
   "execution_count": null,
   "metadata": {},
   "outputs": [],
   "source": [
    "yguess=a+b*x # x contains the third grade values\n",
    "# collect data information to show as data table\n",
    "print(\"Estimated final grades with regression line\")\n",
    "print(f\"yguess= {a:.2f} + {b:.2}*x\")\n",
    "\n",
    "dfout=pd.DataFrame({'third_exam':x,'final_exam':y,\n",
    "                    'regression_line_final_exam':np.round(yguess,2)})\n",
    "dfout['squared error']=(y-yguess)**2\n",
    "\n",
    "sse_guessed=SSE(x,y,slope=b,intercept=a)\n",
    "print(f\"SSE for this guessed regression line: SSE = {sse_guessed:.2f}\")\n",
    "\n",
    "print(40*\"=\")\n",
    "dfout"
   ]
  },
  {
   "cell_type": "code",
   "execution_count": null,
   "metadata": {},
   "outputs": [],
   "source": [
    "# check the SSE result using \n",
    "dfout['squared error'].sum()"
   ]
  },
  {
   "cell_type": "markdown",
   "metadata": {},
   "source": [
    "### Make scatterplot and the guessed linear regression line."
   ]
  },
  {
   "cell_type": "code",
   "execution_count": null,
   "metadata": {},
   "outputs": [],
   "source": [
    "# need the min max range of the data to adjust sample spaces\n",
    "# for the following linear regression analysis\n",
    "xmin=int(np.min(x))-1\n",
    "xmax=int(np.max(x))+1\n",
    "ymin=int(np.min(y))-1\n",
    "ymax=int(np.max(y))+1\n",
    "x0=np.linspace(xmin,xmax,10)\n",
    "\n",
    "\n",
    "fig,ax = plt.subplots(1,1,figsize=(6,6))\n",
    "\n",
    "\n",
    "plt.plot(x,y,'+',markersize=12,color='black',label='data points')\n",
    "ax.plot(x,yguess,lw=2,color='red',label='guessed fitted line') \n",
    "ax.text\n",
    "ax.set_xlim([xmin,xmax])\n",
    "ax.set_ylim([ymin,ymax])\n",
    "ax.set_xlabel(\"third exam score\")\n",
    "ax.set_ylabel(\"final exam score\")\n",
    "plt.title('Final exam score vs third exam score')\n",
    "\n",
    "plt.legend()\n",
    "plt.grid()\n",
    "plt.show()\n",
    "\n",
    "\n"
   ]
  },
  {
   "cell_type": "markdown",
   "metadata": {},
   "source": [
    "## Task 2: Work with centered data\n",
    "## Enter slope and intercept and calculate fitted the line\n",
    "\n",
    "#### Calculates the SSE\n",
    "\n",
    "\n",
    "Here, we work with the centered data. The intercept we set to zero and \n",
    "just test various slope values.\n",
    "\n",
    "Note: Ordinary linear regression lines for centered data go through the intercept a=0\n"
   ]
  },
  {
   "cell_type": "code",
   "execution_count": null,
   "metadata": {},
   "outputs": [],
   "source": [
    "a=0\n",
    "b=float(input(\"Enter slope b = \"))\n"
   ]
  },
  {
   "cell_type": "code",
   "execution_count": null,
   "metadata": {},
   "outputs": [],
   "source": [
    "## We center the data around their mean values\n",
    "# for illustrative purposes\n",
    "# that allows us to work with intercept 0 \n",
    "# and focus on finding the best fitting slope\n",
    "x=x-np.mean(x)\n",
    "y=y-np.mean(y)\n",
    "\n",
    "yguess=a+b*x # x contains the third grade values\n",
    "# collect data information to show as data table\n",
    "print(\"Estimated final grades with regression line\")\n",
    "print(f\"yfit= {a:.2f} + {b:.2}*x\")\n",
    "dfout=pd.DataFrame({'third_exam':x,'final_exam':y,\n",
    "                    'regression_line_final_exam':np.round(yguess,2)})\n",
    "dfout['squared error']=(y-yguess)**2\n",
    "\n",
    "sse_guessed=SSE(x,y,slope=b,intercept=a)\n",
    "print(f\"SSE for this guessed regression line: SSE = {sse_guessed:.2f}\")\n",
    "#dfout"
   ]
  },
  {
   "cell_type": "code",
   "execution_count": null,
   "metadata": {
    "jupyter": {
     "source_hidden": true
    },
    "tags": []
   },
   "outputs": [],
   "source": [
    "# need the min max range of the data to adjust sample spaces\n",
    "# for the following linear regression analysis\n",
    "xmin=int(np.min(x))-1\n",
    "xmax=int(np.max(x))+1\n",
    "ymin=int(np.min(y))-1\n",
    "ymax=int(np.max(y))+1\n",
    "x0=np.linspace(xmin,xmax,10)\n",
    "\n",
    "\n",
    "fig,ax = plt.subplots(1,1,figsize=(6,6))\n",
    "\n",
    "\n",
    "plt.plot(x,y,'+',markersize=12,color='black',label='data points')\n",
    "ax.plot(x,yguess,lw=2,color='red',label='guessed fitted line') \n",
    "ax.text\n",
    "ax.set_xlim([xmin,xmax])\n",
    "ax.set_ylim([ymin,ymax])\n",
    "ax.set_xlabel(\"third exam score (centered)\")\n",
    "ax.set_ylabel(\"final exam score (centered)\")\n",
    "plt.title('Final exam score vs third exam score (anomalies)')\n",
    "\n",
    "plt.legend()\n",
    "plt.grid()\n",
    "plt.show()\n",
    "\n",
    "\n"
   ]
  },
  {
   "cell_type": "markdown",
   "metadata": {},
   "source": [
    "### Task 3: Test multiple values for the slope b and collect the resulting SSE\n",
    "#### Collect the slope and corresponding SSE values in lists, then plot the SSE over the slope values.\n"
   ]
  },
  {
   "cell_type": "code",
   "execution_count": null,
   "metadata": {},
   "outputs": [],
   "source": []
  },
  {
   "cell_type": "code",
   "execution_count": null,
   "metadata": {},
   "outputs": [],
   "source": [
    "# start with this and run the next code cell to plot the results\n",
    "trial_and_error= True\n",
    "if trial_and_error:\n",
    "    sse_list = [3620.18, 3382, 3076,  2696,  2480,   2426,  2536  , 2809 , 3246] # example values\n",
    "    slope_list= [ 1.0,    1.5,    2,     3,     4,      5,     6   ,   7 ,   8] # example values\n",
    "else:\n",
    "    # then do this and run the cell below and plot the results\n",
    "    sse_list=[] \n",
    "    slope_list=[]\n",
    "    b=0\n",
    "    while b<10:\n",
    "        sse_list.append(SSE(x,y,b,intercept=0))\n",
    "        slope_list.append(b)\n",
    "        b=b+0.1\n",
    "         "
   ]
  },
  {
   "cell_type": "code",
   "execution_count": null,
   "metadata": {},
   "outputs": [],
   "source": [
    "min_slope,max_slope=0,10\n",
    "min_sse,max_sse = 1000, 6000\n",
    "\n",
    "# improve the visual appearance of the plots\n",
    "\n",
    "\n",
    "\n",
    "plt.style.use(\"ggplot\")\n",
    "\n",
    "fig,ax= plt.subplots(1,2,figsize=(12,4))\n",
    "ax[0].set_ylim([min_sse,max_sse])\n",
    "ax[0].set_xlim([min_slope,max_slope])\n",
    "ax[0].set_xlabel(\"slope parameter\")\n",
    "ax[0].set_ylabel(\"SSE\")\n",
    "ax[0].plot(slope_list,sse_list,'x',color='green')\n",
    "\n",
    "ax[0].set_title(\"Sum of Squared Errors\")\n",
    "\n",
    "\n",
    "ax[1].set_ylim([2300,2800])\n",
    "ax[1].set_xlim([3.5,6.5])\n",
    "ax[1].set_xlabel(\"slope parameter\")\n",
    "ax[1].set_ylabel(\"SSE\")\n",
    "ax[1].plot(slope_list,sse_list,'x',color='green')\n",
    "ax[1].set_title(\"Sum of Squared Errors\")\n",
    "\n",
    "plt.show()"
   ]
  },
  {
   "cell_type": "markdown",
   "metadata": {},
   "source": [
    "### Task 5: What is the slope for the best fitting line  that minimizes the Sum of Squared Errors? \n",
    "#### (work with centered data)\n",
    "Use the graph as support to find the best fitting slope parameter.\n",
    "And compare it with the scipy function _linregress()_ results.\n"
   ]
  },
  {
   "cell_type": "code",
   "execution_count": null,
   "metadata": {},
   "outputs": [],
   "source": [
    "b,a, r, pvalue, dump = linregress(x,y)\n",
    "print(f\"slope b: {b:.4f},intercept a: {a:.4f}, correlation coefficient r: {r:.4f} , p-value {pvalue:.4e}\")"
   ]
  },
  {
   "cell_type": "code",
   "execution_count": null,
   "metadata": {},
   "outputs": [],
   "source": [
    "plt.scatter(x,y)\n",
    "# get the fitted line y-values for each x value\n",
    "yhat=a+b*x\n",
    "# style '-x' gives line connecting the points and using x as a point marker\n",
    "plt.plot(x,yhat,'-x',c='blue')\n",
    "plt.xlabel(\"third exam score\")\n",
    "plt.ylabel(\"final exam score\")\n",
    "plt.annotate(\"fitted line\",(4,20),(2.5,30),\\\n",
    "             fontsize=14,arrowprops={\"arrowstyle\":\"simple\",\"color\":\"gray\"})"
   ]
  },
  {
   "cell_type": "markdown",
   "metadata": {},
   "source": [
    "---\n",
    "### Supplementary code:\n",
    "\n",
    "More detailed text-based information on the linear regression results"
   ]
  },
  {
   "cell_type": "code",
   "execution_count": null,
   "metadata": {},
   "outputs": [],
   "source": [
    "b, a, r, p_value,dump =linregress(x,y)\n",
    "print(\"The linear regression line that minimizes the SSE:\")\n",
    "print(f\"yfit={a:.2f}+{b:.2f}*x\")\n",
    "print(f\"with correlation r={r:.2f}\")\n",
    "print(f\"and p-value to H0: 'b is equal 0' is p={p_value:.5f}\")\n"
   ]
  },
  {
   "cell_type": "code",
   "execution_count": null,
   "metadata": {},
   "outputs": [],
   "source": []
  }
 ],
 "metadata": {
  "kernelspec": {
   "display_name": "Python 3 August 2022 Environment",
   "language": "python",
   "name": "aug22"
  },
  "language_info": {
   "codemirror_mode": {
    "name": "ipython",
    "version": 3
   },
   "file_extension": ".py",
   "mimetype": "text/x-python",
   "name": "python",
   "nbconvert_exporter": "python",
   "pygments_lexer": "ipython3",
   "version": "3.10.5"
  }
 },
 "nbformat": 4,
 "nbformat_minor": 4
}
