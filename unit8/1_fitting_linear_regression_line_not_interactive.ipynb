{
 "cells": [
  {
   "cell_type": "markdown",
   "metadata": {},
   "source": [
    "# Unit 7 Linear Regression\n",
    "## Activity: Fitting a linear regression line using intuitive visual approach.\n",
    "\n",
    "\n",
    "This script allows you to interact with the figures and adjust the intercept and slope\n",
    "of the line. \n",
    "\n",
    "Example data are taken from Collaborative Statistics Book Fig. 12.7:\n",
    "\n",
    "**Third exams score and Final exams score**"
   ]
  },
  {
   "cell_type": "code",
   "execution_count": 1,
   "metadata": {},
   "outputs": [],
   "source": [
    "# -*- coding: utf-8 -*-\n",
    "\"\"\"\n",
    "\n",
    "@author: Oliver Elison Timm\n",
    "\n",
    "History:\n",
    "2022-04-27 removed all interactive widgets and converted into \n",
    "           regular notebook activity. \n",
    "\n",
    "\"\"\"\n",
    "\n",
    "import numpy as np\n",
    "import matplotlib.pyplot as plt\n",
    "from scipy.stats import linregress\n",
    "import pandas as pd\n",
    "%matplotlib inline"
   ]
  },
  {
   "cell_type": "markdown",
   "metadata": {},
   "source": [
    "### Example data: Third exam scores and final exam scores"
   ]
  },
  {
   "cell_type": "code",
   "execution_count": 2,
   "metadata": {},
   "outputs": [],
   "source": [
    "##############################################################\n",
    "# Grade scores for the third (x) and final exam (y)\n",
    "##############################################################\n",
    "x=np.array([ 65, 67, 71, 71, 66, 75, 67, 70, 71, 69, 69])\n",
    "y=np.array([175,133,185,163,126,198,153,163,159,151,159])\n",
    "\n",
    "\n",
    "    "
   ]
  },
  {
   "cell_type": "code",
   "execution_count": 3,
   "metadata": {},
   "outputs": [],
   "source": [
    "def SSE(x,y,slope,intercept=0):\n",
    "    \"\"\"Calculate SSE for a guessed linear regression line\n",
    "    \n",
    "    Input parameter:\n",
    "        x,y (1d numpy array): \n",
    "            the numpy arrays with the data points\n",
    "        slope (float): \n",
    "            real value for the regression line slope\n",
    "        \n",
    "        intercept (float): intercept of the line (default 0)\n",
    "    Returns:\n",
    "        The SSE value (float)\n",
    "    \"\"\"\n",
    "    yhat=intercept+slope*x\n",
    "    error=y-yhat\n",
    "    result=0\n",
    "    for e in error:\n",
    "        result=result+e**2\n",
    "    return result\n",
    "\n",
    "\n",
    "   "
   ]
  },
  {
   "cell_type": "markdown",
   "metadata": {},
   "source": [
    "## Task 1: Enter slope and intercept and calculate fitted the line\n",
    "\n",
    "#### Calculates the SSE\n",
    "\n",
    "What is visually the best fitting line? Adjust the slope and estimate visually the line that intuitively fits best to the data. Here, we work with the absolute scores, below we will work with centered data.\n"
   ]
  },
  {
   "cell_type": "code",
   "execution_count": 6,
   "metadata": {},
   "outputs": [
    {
     "name": "stdin",
     "output_type": "stream",
     "text": [
      "Enter intercept a = 100\n",
      "Enter slope b =  1\n"
     ]
    },
    {
     "name": "stdout",
     "output_type": "stream",
     "text": [
      "Estimated final grades with regression line\n",
      "yguess= 100.00 + 1.0*x\n",
      "SSE for this guessed regression line: SSE = 4458.00\n",
      "========================================\n"
     ]
    },
    {
     "data": {
      "text/html": [
       "<div>\n",
       "<style scoped>\n",
       "    .dataframe tbody tr th:only-of-type {\n",
       "        vertical-align: middle;\n",
       "    }\n",
       "\n",
       "    .dataframe tbody tr th {\n",
       "        vertical-align: top;\n",
       "    }\n",
       "\n",
       "    .dataframe thead th {\n",
       "        text-align: right;\n",
       "    }\n",
       "</style>\n",
       "<table border=\"1\" class=\"dataframe\">\n",
       "  <thead>\n",
       "    <tr style=\"text-align: right;\">\n",
       "      <th></th>\n",
       "      <th>third_exam</th>\n",
       "      <th>final_exam</th>\n",
       "      <th>regression_line_final_exam</th>\n",
       "      <th>squared error</th>\n",
       "    </tr>\n",
       "  </thead>\n",
       "  <tbody>\n",
       "    <tr>\n",
       "      <th>0</th>\n",
       "      <td>65</td>\n",
       "      <td>175</td>\n",
       "      <td>165.0</td>\n",
       "      <td>100.0</td>\n",
       "    </tr>\n",
       "    <tr>\n",
       "      <th>1</th>\n",
       "      <td>67</td>\n",
       "      <td>133</td>\n",
       "      <td>167.0</td>\n",
       "      <td>1156.0</td>\n",
       "    </tr>\n",
       "    <tr>\n",
       "      <th>2</th>\n",
       "      <td>71</td>\n",
       "      <td>185</td>\n",
       "      <td>171.0</td>\n",
       "      <td>196.0</td>\n",
       "    </tr>\n",
       "    <tr>\n",
       "      <th>3</th>\n",
       "      <td>71</td>\n",
       "      <td>163</td>\n",
       "      <td>171.0</td>\n",
       "      <td>64.0</td>\n",
       "    </tr>\n",
       "    <tr>\n",
       "      <th>4</th>\n",
       "      <td>66</td>\n",
       "      <td>126</td>\n",
       "      <td>166.0</td>\n",
       "      <td>1600.0</td>\n",
       "    </tr>\n",
       "    <tr>\n",
       "      <th>5</th>\n",
       "      <td>75</td>\n",
       "      <td>198</td>\n",
       "      <td>175.0</td>\n",
       "      <td>529.0</td>\n",
       "    </tr>\n",
       "    <tr>\n",
       "      <th>6</th>\n",
       "      <td>67</td>\n",
       "      <td>153</td>\n",
       "      <td>167.0</td>\n",
       "      <td>196.0</td>\n",
       "    </tr>\n",
       "    <tr>\n",
       "      <th>7</th>\n",
       "      <td>70</td>\n",
       "      <td>163</td>\n",
       "      <td>170.0</td>\n",
       "      <td>49.0</td>\n",
       "    </tr>\n",
       "    <tr>\n",
       "      <th>8</th>\n",
       "      <td>71</td>\n",
       "      <td>159</td>\n",
       "      <td>171.0</td>\n",
       "      <td>144.0</td>\n",
       "    </tr>\n",
       "    <tr>\n",
       "      <th>9</th>\n",
       "      <td>69</td>\n",
       "      <td>151</td>\n",
       "      <td>169.0</td>\n",
       "      <td>324.0</td>\n",
       "    </tr>\n",
       "    <tr>\n",
       "      <th>10</th>\n",
       "      <td>69</td>\n",
       "      <td>159</td>\n",
       "      <td>169.0</td>\n",
       "      <td>100.0</td>\n",
       "    </tr>\n",
       "  </tbody>\n",
       "</table>\n",
       "</div>"
      ],
      "text/plain": [
       "    third_exam  final_exam  regression_line_final_exam  squared error\n",
       "0           65         175                       165.0          100.0\n",
       "1           67         133                       167.0         1156.0\n",
       "2           71         185                       171.0          196.0\n",
       "3           71         163                       171.0           64.0\n",
       "4           66         126                       166.0         1600.0\n",
       "5           75         198                       175.0          529.0\n",
       "6           67         153                       167.0          196.0\n",
       "7           70         163                       170.0           49.0\n",
       "8           71         159                       171.0          144.0\n",
       "9           69         151                       169.0          324.0\n",
       "10          69         159                       169.0          100.0"
      ]
     },
     "execution_count": 6,
     "metadata": {},
     "output_type": "execute_result"
    }
   ],
   "source": [
    "\n",
    "\n",
    "a=float(input(\"Enter intercept a =\"))\n",
    "b=float(input(\"Enter slope b = \"))\n",
    "\n",
    "\n",
    "yguess=a+b*x # x contains the third grade values\n",
    "# collect data information to show as data table\n",
    "print(\"Estimated final grades with regression line\")\n",
    "print(f\"yguess= {a:.2f} + {b:.2}*x\")\n",
    "\n",
    "dfout=pd.DataFrame({'third_exam':x,'final_exam':y,\n",
    "                    'regression_line_final_exam':np.round(yguess,2)})\n",
    "dfout['squared error']=(y-yguess)**2\n",
    "\n",
    "sse_guessed=SSE(x,y,slope=b,intercept=a)\n",
    "print(f\"SSE for this guessed regression line: SSE = {sse_guessed:.2f}\")\n",
    "\n",
    "\n",
    "print(40*\"=\")\n",
    "dfout"
   ]
  },
  {
   "cell_type": "code",
   "execution_count": 8,
   "metadata": {},
   "outputs": [
    {
     "data": {
      "text/plain": [
       "7517.0"
      ]
     },
     "execution_count": 8,
     "metadata": {},
     "output_type": "execute_result"
    }
   ],
   "source": [
    "# check the SSE result using \n",
    "#dfout['squared error'].sum()"
   ]
  },
  {
   "cell_type": "code",
   "execution_count": 7,
   "metadata": {},
   "outputs": [
    {
     "data": {
      "image/png": "[encoded data removed]",
      "text/plain": [
       "<Figure size 432x432 with 1 Axes>"
      ]
     },
     "metadata": {
      "needs_background": "light"
     },
     "output_type": "display_data"
    }
   ],
   "source": [
    "# need the min max range of the data to adjust sample spaces\n",
    "# for the following linear regression analysis\n",
    "xmin=int(np.min(x))-1\n",
    "xmax=int(np.max(x))+1\n",
    "ymin=int(np.min(y))-1\n",
    "ymax=int(np.max(y))+1\n",
    "x0=np.linspace(xmin,xmax,10)\n",
    "\n",
    "\n",
    "fig,ax = plt.subplots(1,1,figsize=(6,6))\n",
    "\n",
    "\n",
    "plt.plot(x,y,'+',markersize=12,color='black',label='data points')\n",
    "ax.plot(x,yguess,lw=2,color='red',label='guessed fitted line') \n",
    "ax.text\n",
    "ax.set_xlim([xmin,xmax])\n",
    "ax.set_ylim([ymin,ymax])\n",
    "ax.set_xlabel(\"third exam score\")\n",
    "ax.set_ylabel(\"final exam score\")\n",
    "plt.title('Final exam score vs third exam score')\n",
    "\n",
    "plt.legend()\n",
    "plt.grid()\n",
    "plt.show()\n",
    "\n",
    "\n"
   ]
  },
  {
   "cell_type": "markdown",
   "metadata": {},
   "source": [
    "## Task 2: Work with centered data\n",
    "## Enter slope and intercept and calculate fitted the line\n",
    "\n",
    "#### Calculates the SSE\n",
    "\n",
    "\n",
    "Here, we work with the centered data. The intercept we set to zero and \n",
    "just test various slope values.\n"
   ]
  },
  {
   "cell_type": "code",
   "execution_count": 8,
   "metadata": {},
   "outputs": [
    {
     "name": "stdin",
     "output_type": "stream",
     "text": [
      "Enter slope b =  1\n"
     ]
    },
    {
     "name": "stdout",
     "output_type": "stream",
     "text": [
      "Estimated final grades with regression line\n",
      "yfit= 0.00 + 1.0*x\n",
      "SSE for this guessed regression line: SSE = 3620.18\n"
     ]
    },
    {
     "data": {
      "text/html": [
       "<div>\n",
       "<style scoped>\n",
       "    .dataframe tbody tr th:only-of-type {\n",
       "        vertical-align: middle;\n",
       "    }\n",
       "\n",
       "    .dataframe tbody tr th {\n",
       "        vertical-align: top;\n",
       "    }\n",
       "\n",
       "    .dataframe thead th {\n",
       "        text-align: right;\n",
       "    }\n",
       "</style>\n",
       "<table border=\"1\" class=\"dataframe\">\n",
       "  <thead>\n",
       "    <tr style=\"text-align: right;\">\n",
       "      <th></th>\n",
       "      <th>third_exam</th>\n",
       "      <th>final_exam</th>\n",
       "      <th>regression_line_final_exam</th>\n",
       "      <th>squared error</th>\n",
       "    </tr>\n",
       "  </thead>\n",
       "  <tbody>\n",
       "    <tr>\n",
       "      <th>0</th>\n",
       "      <td>-4.181818</td>\n",
       "      <td>14.545455</td>\n",
       "      <td>-4.18</td>\n",
       "      <td>350.710744</td>\n",
       "    </tr>\n",
       "    <tr>\n",
       "      <th>1</th>\n",
       "      <td>-2.181818</td>\n",
       "      <td>-27.454545</td>\n",
       "      <td>-2.18</td>\n",
       "      <td>638.710744</td>\n",
       "    </tr>\n",
       "    <tr>\n",
       "      <th>2</th>\n",
       "      <td>1.818182</td>\n",
       "      <td>24.545455</td>\n",
       "      <td>1.82</td>\n",
       "      <td>516.528926</td>\n",
       "    </tr>\n",
       "    <tr>\n",
       "      <th>3</th>\n",
       "      <td>1.818182</td>\n",
       "      <td>2.545455</td>\n",
       "      <td>1.82</td>\n",
       "      <td>0.528926</td>\n",
       "    </tr>\n",
       "    <tr>\n",
       "      <th>4</th>\n",
       "      <td>-3.181818</td>\n",
       "      <td>-34.454545</td>\n",
       "      <td>-3.18</td>\n",
       "      <td>977.983471</td>\n",
       "    </tr>\n",
       "    <tr>\n",
       "      <th>5</th>\n",
       "      <td>5.818182</td>\n",
       "      <td>37.545455</td>\n",
       "      <td>5.82</td>\n",
       "      <td>1006.619835</td>\n",
       "    </tr>\n",
       "    <tr>\n",
       "      <th>6</th>\n",
       "      <td>-2.181818</td>\n",
       "      <td>-7.454545</td>\n",
       "      <td>-2.18</td>\n",
       "      <td>27.801653</td>\n",
       "    </tr>\n",
       "    <tr>\n",
       "      <th>7</th>\n",
       "      <td>0.818182</td>\n",
       "      <td>2.545455</td>\n",
       "      <td>0.82</td>\n",
       "      <td>2.983471</td>\n",
       "    </tr>\n",
       "    <tr>\n",
       "      <th>8</th>\n",
       "      <td>1.818182</td>\n",
       "      <td>-1.454545</td>\n",
       "      <td>1.82</td>\n",
       "      <td>10.710744</td>\n",
       "    </tr>\n",
       "    <tr>\n",
       "      <th>9</th>\n",
       "      <td>-0.181818</td>\n",
       "      <td>-9.454545</td>\n",
       "      <td>-0.18</td>\n",
       "      <td>85.983471</td>\n",
       "    </tr>\n",
       "    <tr>\n",
       "      <th>10</th>\n",
       "      <td>-0.181818</td>\n",
       "      <td>-1.454545</td>\n",
       "      <td>-0.18</td>\n",
       "      <td>1.619835</td>\n",
       "    </tr>\n",
       "  </tbody>\n",
       "</table>\n",
       "</div>"
      ],
      "text/plain": [
       "    third_exam  final_exam  regression_line_final_exam  squared error\n",
       "0    -4.181818   14.545455                       -4.18     350.710744\n",
       "1    -2.181818  -27.454545                       -2.18     638.710744\n",
       "2     1.818182   24.545455                        1.82     516.528926\n",
       "3     1.818182    2.545455                        1.82       0.528926\n",
       "4    -3.181818  -34.454545                       -3.18     977.983471\n",
       "5     5.818182   37.545455                        5.82    1006.619835\n",
       "6    -2.181818   -7.454545                       -2.18      27.801653\n",
       "7     0.818182    2.545455                        0.82       2.983471\n",
       "8     1.818182   -1.454545                        1.82      10.710744\n",
       "9    -0.181818   -9.454545                       -0.18      85.983471\n",
       "10   -0.181818   -1.454545                       -0.18       1.619835"
      ]
     },
     "execution_count": 8,
     "metadata": {},
     "output_type": "execute_result"
    }
   ],
   "source": [
    "## We center the data around their mean values\n",
    "# for illustrative purposes\n",
    "# that allows us to work with intercept 0 \n",
    "# and focus on finding the best fitting slope\n",
    "x=x-np.mean(x)\n",
    "y=y-np.mean(y)\n",
    "\n",
    "a=0\n",
    "b=float(input(\"Enter slope b = \"))\n",
    "\n",
    "yguess=a+b*x # x contains the third grade values\n",
    "# collect data information to show as data table\n",
    "print(\"Estimated final grades with regression line\")\n",
    "print(f\"yfit= {a:.2f} + {b:.2}*x\")\n",
    "dfout=pd.DataFrame({'third_exam':x,'final_exam':y,\n",
    "                    'regression_line_final_exam':np.round(yguess,2)})\n",
    "dfout['squared error']=(y-yguess)**2\n",
    "\n",
    "sse_guessed=SSE(x,y,slope=b,intercept=a)\n",
    "print(f\"SSE for this guessed regression line: SSE = {sse_guessed:.2f}\")\n",
    "dfout"
   ]
  },
  {
   "cell_type": "code",
   "execution_count": 9,
   "metadata": {},
   "outputs": [
    {
     "data": {
      "image/png": "[encoded data removed]",
      "text/plain": [
       "<Figure size 432x432 with 1 Axes>"
      ]
     },
     "metadata": {
      "needs_background": "light"
     },
     "output_type": "display_data"
    }
   ],
   "source": [
    "# need the min max range of the data to adjust sample spaces\n",
    "# for the following linear regression analysis\n",
    "xmin=int(np.min(x))-1\n",
    "xmax=int(np.max(x))+1\n",
    "ymin=int(np.min(y))-1\n",
    "ymax=int(np.max(y))+1\n",
    "x0=np.linspace(xmin,xmax,10)\n",
    "\n",
    "\n",
    "fig,ax = plt.subplots(1,1,figsize=(6,6))\n",
    "\n",
    "\n",
    "plt.plot(x,y,'+',markersize=12,color='black',label='data points')\n",
    "ax.plot(x,yguess,lw=2,color='red',label='guessed fitted line') \n",
    "ax.text\n",
    "ax.set_xlim([xmin,xmax])\n",
    "ax.set_ylim([ymin,ymax])\n",
    "ax.set_xlabel(\"third exam score (centered)\")\n",
    "ax.set_ylabel(\"final exam score (centered)\")\n",
    "plt.title('Final exam score vs third exam score (anomalies)')\n",
    "\n",
    "plt.legend()\n",
    "plt.grid()\n",
    "plt.show()\n",
    "\n",
    "\n"
   ]
  },
  {
   "cell_type": "markdown",
   "metadata": {},
   "source": [
    "### Task 3: Test multiple values for the slope b and collect the resulting SSE\n",
    "#### Collect the slope and corresponding SSE values in lists, then plot the SSE over the slope values.\n"
   ]
  },
  {
   "cell_type": "code",
   "execution_count": 10,
   "metadata": {},
   "outputs": [
    {
     "data": {
      "image/png": "[encoded data removed]",
      "text/plain": [
       "<Figure size 288x288 with 1 Axes>"
      ]
     },
     "metadata": {
      "needs_background": "light"
     },
     "output_type": "display_data"
    }
   ],
   "source": [
    "#sse_list = [3620.18, 14480.73, 22626.14, 32581.64,  57922.91] # example values\n",
    "#lope_list= [ 1.0,    2.0,      2.5,      3.0,       4.0  ] # example values\n",
    "\n",
    "sse_list=[] \n",
    "slope_list=[]\n",
    "b=0\n",
    "while b<10:\n",
    "    sse_list.append(SSE(x,y,b,intercept=0))\n",
    "    slope_list.append(b)\n",
    "    b=b+0.1\n",
    "                      \n",
    "    \n",
    "    \n",
    "min_slope,max_slope=0,10\n",
    "min_sse,max_sse = 1000, 6000\n",
    "\n",
    "fig,ax = plt.subplots(1,1,figsize=(4,4))\n",
    "ax.set_ylim([min_sse,max_sse])\n",
    "ax.set_xlim([min_slope,max_slope])\n",
    "ax.set_xlabel(\"slope parameter\")\n",
    "ax.set_ylabel(\"SSE\")\n",
    "ax.plot(slope_list,sse_list,'o',color='green')\n",
    "plt.title(\"Sum of Squared Errors\")\n",
    "plt.show()\n",
    "\n"
   ]
  },
  {
   "cell_type": "code",
   "execution_count": 11,
   "metadata": {},
   "outputs": [
    {
     "name": "stdout",
     "output_type": "stream",
     "text": [
      "4.82739420935412 1.2027003990594123e-14 0.6630935909995176 0.026150151531087084\n"
     ]
    }
   ],
   "source": [
    "b,a, r, pvalue, dump = linregress(x,y)\n",
    "print(b,a,r, pvalue)"
   ]
  },
  {
   "cell_type": "markdown",
   "metadata": {},
   "source": [
    "### Task 5: What is the slope for the best fitting line  that minimizes the Sum of Squared Errors? \n",
    "#### (work with centered data)\n",
    "Use the graph as support to find the best fitting slope parameter.\n",
    "And compare it with the scipy function _linregress()_ results.\n"
   ]
  },
  {
   "cell_type": "code",
   "execution_count": 12,
   "metadata": {},
   "outputs": [
    {
     "name": "stdout",
     "output_type": "stream",
     "text": [
      "The linear regression line that minimizes the SSE:\n",
      "yfit=0.00+4.83*x\n",
      "with correlation r=0.66\n",
      "and p-value to H0: 'b is equal 0' is p=0.02615\n"
     ]
    }
   ],
   "source": [
    "b, a, r, p_value,dump =linregress(x,y)\n",
    "print(\"The linear regression line that minimizes the SSE:\")\n",
    "print(f\"yfit={a:.2f}+{b:.2f}*x\")\n",
    "print(f\"with correlation r={r:.2f}\")\n",
    "print(f\"and p-value to H0: 'b is equal 0' is p={p_value:.5f}\")\n"
   ]
  },
  {
   "cell_type": "code",
   "execution_count": null,
   "metadata": {},
   "outputs": [],
   "source": []
  }
 ],
 "metadata": {
  "kernelspec": {
   "display_name": "Python 3 August 2021 Environment",
   "language": "python",
   "name": "aug21"
  },
  "language_info": {
   "codemirror_mode": {
    "name": "ipython",
    "version": 3
   },
   "file_extension": ".py",
   "mimetype": "text/x-python",
   "name": "python",
   "nbconvert_exporter": "python",
   "pygments_lexer": "ipython3",
   "version": "3.8.10"
  }
 },
 "nbformat": 4,
 "nbformat_minor": 4
}
